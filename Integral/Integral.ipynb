{
  "nbformat": 4,
  "nbformat_minor": 5,
  "metadata": {
    "kernelspec": {
      "display_name": "Python 3",
      "language": "python",
      "name": "python3"
    },
    "language_info": {
      "codemirror_mode": {
        "name": "ipython",
        "version": 3
      },
      "file_extension": ".py",
      "mimetype": "text/x-python",
      "name": "python",
      "nbconvert_exporter": "python",
      "pygments_lexer": "ipython3",
      "version": "3.8.8"
    },
    "toc": {
      "base_numbering": 1,
      "nav_menu": {},
      "number_sections": true,
      "sideBar": true,
      "skip_h1_title": false,
      "title_cell": "Table of Contents",
      "title_sidebar": "Contents",
      "toc_cell": false,
      "toc_position": {},
      "toc_section_display": true,
      "toc_window_display": false
    },
    "varInspector": {
      "cols": {
        "lenName": 16,
        "lenType": 16,
        "lenVar": 40
      },
      "kernels_config": {
        "python": {
          "delete_cmd_postfix": "",
          "delete_cmd_prefix": "del ",
          "library": "var_list.py",
          "varRefreshCmd": "print(var_dic_list())"
        },
        "r": {
          "delete_cmd_postfix": ") ",
          "delete_cmd_prefix": "rm(",
          "library": "var_list.r",
          "varRefreshCmd": "cat(var_dic_list()) "
        }
      },
      "types_to_exclude": [
        "module",
        "function",
        "builtin_function_or_method",
        "instance",
        "_Feature"
      ],
      "window_display": false
    },
    "colab": {
      "name": "Integral.ipynb",
      "provenance": [],
      "collapsed_sections": []
    }
  },
  "cells": [
    {
      "cell_type": "code",
      "metadata": {
        "ExecuteTime": {
          "end_time": "2021-12-03T00:57:53.717730Z",
          "start_time": "2021-12-03T00:57:53.701720Z"
        },
        "id": "51d3673d"
      },
      "source": [
        "import numpy as np\n",
        "import matplotlib.pyplot as plt"
      ],
      "id": "51d3673d",
      "execution_count": 37,
      "outputs": []
    },
    {
      "cell_type": "code",
      "metadata": {
        "ExecuteTime": {
          "end_time": "2021-12-03T01:00:16.637555Z",
          "start_time": "2021-12-03T01:00:16.613368Z"
        },
        "id": "f2650300"
      },
      "source": [
        "def exponential_pdf(x, l=1):\n",
        "    return l * np.exp(-l * x)"
      ],
      "id": "f2650300",
      "execution_count": 2,
      "outputs": []
    },
    {
      "cell_type": "markdown",
      "metadata": {
        "id": "68c9b67d"
      },
      "source": [
        "Analytical solution:\n",
        "\n",
        "$$ \\int_0^1 \\lambda \\cdot e^{-\\lambda x} dx = -\\lambda \\cdot \\frac{1}{\\lambda} \\cdot e^{-\\lambda x} \\Big|_0^1 = 1 - e^{-\\lambda}$$\n",
        "\n",
        "\n",
        "Compute an integral using the trapezoid rule\n",
        "●Split the job between processes and use Reduce \n",
        "collective communication\n",
        "●Check the accuracy when\n",
        "taking more nodes\n",
        "(i.e. smaller step)\n",
        "●Check the speedup \n",
        "when taking more processes"
      ],
      "id": "68c9b67d"
    },
    {
      "cell_type": "code",
      "metadata": {
        "ExecuteTime": {
          "end_time": "2021-12-03T01:06:21.046053Z",
          "start_time": "2021-12-03T01:06:21.030020Z"
        },
        "colab": {
          "base_uri": "https://localhost:8080/"
        },
        "id": "2e8fcad4",
        "outputId": "47a9d657-1743-42bc-aace-627cef19cdcc"
      },
      "source": [
        "l = 1\n",
        "an_int = 1 - np.exp(-l)\n",
        "print(f\"Answer: {an_int}\")"
      ],
      "id": "2e8fcad4",
      "execution_count": 3,
      "outputs": [
        {
          "output_type": "stream",
          "name": "stdout",
          "text": [
            "Answer: 0.6321205588285577\n"
          ]
        }
      ]
    },
    {
      "cell_type": "code",
      "metadata": {
        "ExecuteTime": {
          "end_time": "2021-12-03T01:12:31.308894Z",
          "start_time": "2021-12-03T01:12:31.252138Z"
        },
        "colab": {
          "base_uri": "https://localhost:8080/"
        },
        "id": "a94b7a87",
        "outputId": "538c5d18-8c94-40b2-c139-a51da79735ea"
      },
      "source": [
        "lin = np.linspace(0,1,10000)\n",
        "trap_int = 0\n",
        "for i in range(9999):\n",
        "    trap_int += (exponential_pdf(lin[i]) + exponential_pdf(lin[i+1]))*(lin[i+1]-lin[i])/2\n",
        "print(f\"Answer: {trap_int}\")"
      ],
      "id": "a94b7a87",
      "execution_count": 4,
      "outputs": [
        {
          "output_type": "stream",
          "name": "stdout",
          "text": [
            "Answer: 0.6321205593554283\n"
          ]
        }
      ]
    },
    {
      "cell_type": "code",
      "metadata": {
        "ExecuteTime": {
          "end_time": "2021-12-03T01:17:05.375326Z",
          "start_time": "2021-12-03T01:17:05.359318Z"
        },
        "colab": {
          "base_uri": "https://localhost:8080/"
        },
        "id": "1b8320ca",
        "outputId": "e7e9f056-f138-438c-ad74-fb1fb175bfe2"
      },
      "source": [
        "%%writefile test.py\n",
        "from mpi4py import MPI\n",
        "import numpy as np\n",
        "\n",
        "def exponential_pdf(x, l=1):\n",
        "    return l * np.exp(-l * x)\n",
        "\n",
        "l = 1\n",
        "an_int = 1 - np.exp(-l)\n",
        "\n",
        "start =  MPI.Wtime()\n",
        "\n",
        "comm = MPI.COMM_WORLD\n",
        "size=comm.Get_size()\n",
        "rank=comm.Get_rank()\n",
        "\n",
        "num_iter = 10000000\n",
        "\n",
        "lin = np.linspace(0,1,num_iter)\n",
        "trap_int = 0\n",
        "for i in range(rank*(num_iter-1)//size, (rank+1)*(num_iter-1)//size):\n",
        "    trap_int += (exponential_pdf(lin[i]) + exponential_pdf(lin[i+1]))*(lin[i+1]-lin[i])/2\n",
        "\n",
        "recvbuf = comm.reduce(trap_int, op=MPI.SUM, root = 0)\n",
        "\n",
        "\n",
        "end = MPI.Wtime()\n",
        "\n",
        "if rank==0:\n",
        "    print(recvbuf)\n",
        "    print(end-start)\n",
        "    print(abs(an_int - recvbuf))\n"
      ],
      "id": "1b8320ca",
      "execution_count": 25,
      "outputs": [
        {
          "output_type": "stream",
          "name": "stdout",
          "text": [
            "Overwriting test.py\n"
          ]
        }
      ]
    },
    {
      "cell_type": "code",
      "metadata": {
        "ExecuteTime": {
          "end_time": "2021-12-03T01:17:33.841043Z",
          "start_time": "2021-12-03T01:17:33.800970Z"
        },
        "colab": {
          "base_uri": "https://localhost:8080/"
        },
        "id": "4430f3a7",
        "outputId": "4bb7064a-23f2-48be-b8d4-79dd1ba49f9e"
      },
      "source": [
        "!mpirun --allow-run-as-root -n 1 python test.py"
      ],
      "id": "4430f3a7",
      "execution_count": 26,
      "outputs": [
        {
          "output_type": "stream",
          "name": "stdout",
          "text": [
            "0.63212055882856\n",
            "60.595270735999975\n",
            "2.3314683517128287e-15\n"
          ]
        }
      ]
    },
    {
      "cell_type": "code",
      "metadata": {
        "id": "52331205",
        "colab": {
          "base_uri": "https://localhost:8080/"
        },
        "outputId": "7773a336-dee2-4141-9fba-fba5a251e2fc"
      },
      "source": [
        "!mpirun --allow-run-as-root -n 2 python test.py"
      ],
      "id": "52331205",
      "execution_count": 27,
      "outputs": [
        {
          "output_type": "stream",
          "name": "stdout",
          "text": [
            "0.632120558828573\n",
            "60.16472287200003\n",
            "1.532107773982716e-14\n"
          ]
        }
      ]
    },
    {
      "cell_type": "code",
      "metadata": {
        "colab": {
          "base_uri": "https://localhost:8080/"
        },
        "id": "L1RjUVpD7dqL",
        "outputId": "a2fe7016-011a-4d72-dddb-75f65dcdc047"
      },
      "source": [
        "!mpirun --allow-run-as-root -n 3 python test.py"
      ],
      "id": "L1RjUVpD7dqL",
      "execution_count": 28,
      "outputs": [
        {
          "output_type": "stream",
          "name": "stdout",
          "text": [
            "0.6321205588285519\n",
            "61.915537704999906\n",
            "5.773159728050814e-15\n"
          ]
        }
      ]
    },
    {
      "cell_type": "code",
      "metadata": {
        "colab": {
          "base_uri": "https://localhost:8080/"
        },
        "id": "Nbdn5-tz7sT-",
        "outputId": "71cc2183-d945-4341-bedc-31b52d1b7592"
      },
      "source": [
        "!mpirun --allow-run-as-root -n 4 python test.py"
      ],
      "id": "Nbdn5-tz7sT-",
      "execution_count": 29,
      "outputs": [
        {
          "output_type": "stream",
          "name": "stdout",
          "text": [
            "0.6321205588285694\n",
            "62.71136839600001\n",
            "1.176836406102666e-14\n"
          ]
        }
      ]
    },
    {
      "cell_type": "code",
      "metadata": {
        "colab": {
          "base_uri": "https://localhost:8080/"
        },
        "id": "TX_C6a4V7sWq",
        "outputId": "820bfd57-7653-406f-e528-460c272ae8c8"
      },
      "source": [
        "!mpirun --allow-run-as-root -n 5 python test.py"
      ],
      "id": "TX_C6a4V7sWq",
      "execution_count": 30,
      "outputs": [
        {
          "output_type": "stream",
          "name": "stdout",
          "text": [
            "0.632120558828561\n",
            "61.276912270000025\n",
            "3.3306690738754696e-15\n"
          ]
        }
      ]
    },
    {
      "cell_type": "code",
      "metadata": {
        "colab": {
          "base_uri": "https://localhost:8080/"
        },
        "id": "SaO-LNB37sYv",
        "outputId": "1e994bea-b2bb-48d7-fc5d-2b1dd6e72f0d"
      },
      "source": [
        "!mpirun --allow-run-as-root -n 6 python test.py"
      ],
      "id": "SaO-LNB37sYv",
      "execution_count": 31,
      "outputs": [
        {
          "output_type": "stream",
          "name": "stdout",
          "text": [
            "0.6321205588285557\n",
            "63.205188418000034\n",
            "1.9984014443252818e-15\n"
          ]
        }
      ]
    },
    {
      "cell_type": "code",
      "metadata": {
        "colab": {
          "base_uri": "https://localhost:8080/"
        },
        "id": "SgD212gU7sa5",
        "outputId": "7bde522a-a57d-4abd-c5ab-8ffd1dab559f"
      },
      "source": [
        "!mpirun --allow-run-as-root -n 7 python test.py"
      ],
      "id": "SgD212gU7sa5",
      "execution_count": 32,
      "outputs": [
        {
          "output_type": "stream",
          "name": "stdout",
          "text": [
            "0.6321205588285541\n",
            "63.988715497000044\n",
            "3.552713678800501e-15\n"
          ]
        }
      ]
    },
    {
      "cell_type": "code",
      "metadata": {
        "colab": {
          "base_uri": "https://localhost:8080/"
        },
        "id": "Poumn6LY7vjx",
        "outputId": "896ef584-e76e-4d80-c612-e53fb4481b02"
      },
      "source": [
        "!mpirun --allow-run-as-root -n 8 python test.py"
      ],
      "id": "Poumn6LY7vjx",
      "execution_count": 33,
      "outputs": [
        {
          "output_type": "stream",
          "name": "stdout",
          "text": [
            "0.632120558828561\n",
            "64.27261292399999\n",
            "3.3306690738754696e-15\n"
          ]
        }
      ]
    },
    {
      "cell_type": "code",
      "metadata": {
        "colab": {
          "base_uri": "https://localhost:8080/"
        },
        "id": "22eR3q2Q7vmK",
        "outputId": "1b701166-d077-452b-f57c-8a8225673619"
      },
      "source": [
        "!mpirun --allow-run-as-root -n 9 python test.py"
      ],
      "id": "22eR3q2Q7vmK",
      "execution_count": 34,
      "outputs": [
        {
          "output_type": "stream",
          "name": "stdout",
          "text": [
            "0.6321205588285544\n",
            "63.306443884000146\n",
            "3.219646771412954e-15\n"
          ]
        }
      ]
    },
    {
      "cell_type": "code",
      "metadata": {
        "colab": {
          "base_uri": "https://localhost:8080/"
        },
        "id": "8h45oN-A7vo5",
        "outputId": "4a19140f-2b06-47c7-f501-7aa0bbfa6cbd"
      },
      "source": [
        "!mpirun --allow-run-as-root -n 10 python test.py"
      ],
      "id": "8h45oN-A7vo5",
      "execution_count": 35,
      "outputs": [
        {
          "output_type": "stream",
          "name": "stdout",
          "text": [
            "0.63212055882856\n",
            "62.635657261000006\n",
            "2.3314683517128287e-15\n"
          ]
        }
      ]
    },
    {
      "cell_type": "code",
      "metadata": {
        "colab": {
          "base_uri": "https://localhost:8080/",
          "height": 312
        },
        "id": "4gCQPmv47__F",
        "outputId": "08396969-a36d-4003-8cd4-f7152fb2135d"
      },
      "source": [
        "speedup = np.array([60.595270735999975,\n",
        "                    60.16472287200003,\n",
        "                    61.915537704999906,\n",
        "                    62.71136839600001,\n",
        "                    61.276912270000025,\n",
        "                    63.205188418000034,\n",
        "                    63.988715497000044,\n",
        "                    64.27261292399999,\n",
        "                    63.306443884000146,\n",
        "                    62.635657261000006])\n",
        "speedup = speedup[0] / speedup\n",
        "plt.figure(figsize=(10,4))\n",
        "plt.title('Speedup vs number of processes')\n",
        "plt.plot(np.arange(1,11), speedup)\n",
        "plt.xlabel('# processes')\n",
        "plt.ylabel('Speedup')"
      ],
      "id": "4gCQPmv47__F",
      "execution_count": 38,
      "outputs": [
        {
          "output_type": "execute_result",
          "data": {
            "text/plain": [
              "Text(0, 0.5, 'Speedup')"
            ]
          },
          "metadata": {},
          "execution_count": 38
        },
        {
          "output_type": "display_data",
          "data": {
            "image/png": "[encoded data removed]",
            "text/plain": [
              "<Figure size 720x288 with 1 Axes>"
            ]
          },
          "metadata": {
            "needs_background": "light"
          }
        }
      ]
    },
    {
      "cell_type": "code",
      "metadata": {
        "colab": {
          "base_uri": "https://localhost:8080/"
        },
        "id": "Iu6HPRBfB6Rl",
        "outputId": "e1895487-2deb-4511-bd10-8eaf7629c60f"
      },
      "source": [
        "%%writefile test.py\n",
        "from mpi4py import MPI\n",
        "import numpy as np\n",
        "\n",
        "def exponential_pdf(x, l=1):\n",
        "    return l * np.exp(-l * x)\n",
        "\n",
        "l = 1\n",
        "an_int = 1 - np.exp(-l)\n",
        "\n",
        "start =  MPI.Wtime()\n",
        "\n",
        "comm = MPI.COMM_WORLD\n",
        "size=comm.Get_size()\n",
        "rank=comm.Get_rank()\n",
        "\n",
        "num_iter = 10000000\n",
        "\n",
        "lin = np.linspace(0,1,num_iter)\n",
        "trap_int = 0\n",
        "for i in range(rank*(num_iter-1)//size, (rank+1)*(num_iter-1)//size):\n",
        "    trap_int += (exponential_pdf(lin[i]) + exponential_pdf(lin[i+1]))*(lin[i+1]-lin[i])/2\n",
        "\n",
        "recvbuf = comm.reduce(trap_int, op=MPI.SUM, root = 0)\n",
        "\n",
        "\n",
        "end = MPI.Wtime()\n",
        "\n",
        "if rank==0:\n",
        "    print(recvbuf)\n",
        "    print(end-start)\n",
        "    print(abs(an_int - recvbuf))\n"
      ],
      "id": "Iu6HPRBfB6Rl",
      "execution_count": 54,
      "outputs": [
        {
          "output_type": "stream",
          "name": "stdout",
          "text": [
            "Overwriting test.py\n"
          ]
        }
      ]
    },
    {
      "cell_type": "code",
      "metadata": {
        "colab": {
          "base_uri": "https://localhost:8080/"
        },
        "id": "QCEU3YYoC9Mo",
        "outputId": "15ee3477-cc44-4460-d09e-675df550d66f"
      },
      "source": [
        "!mpirun --allow-run-as-root -n 2 python test.py"
      ],
      "id": "QCEU3YYoC9Mo",
      "execution_count": 55,
      "outputs": [
        {
          "output_type": "stream",
          "name": "stdout",
          "text": [
            "0.632120558828573\n",
            "63.743375044000004\n",
            "1.532107773982716e-14\n"
          ]
        }
      ]
    },
    {
      "cell_type": "code",
      "metadata": {
        "colab": {
          "base_uri": "https://localhost:8080/",
          "height": 299
        },
        "id": "yv0-d_Bl-cBj",
        "outputId": "42e13ac3-9e0f-433f-99c9-b240909567dc"
      },
      "source": [
        "errors = np.array([0.0006501960196403367,\n",
        "                    5.374617249143121e-06,\n",
        "                    5.278222436899682e-08,\n",
        "                    5.268727676366325e-10,\n",
        "                    5.271116876315318e-12,\n",
        "                    4.4853010194856324e-14,\n",
        "                    1.532107773982716e-14])\n",
        "plt.figure(figsize=(10,4))\n",
        "plt.title('Integration error vs the discretization size')\n",
        "plt.plot(1/(10**np.arange(1,8)), errors)\n",
        "plt.xlabel('Discretization size')\n",
        "plt.ylabel('Integration error')\n",
        "plt.xscale('log')\n",
        "plt.yscale('log')"
      ],
      "id": "yv0-d_Bl-cBj",
      "execution_count": 62,
      "outputs": [
        {
          "output_type": "display_data",
          "data": {
            "image/png": "[encoded data removed]",
            "text/plain": [
              "<Figure size 720x288 with 1 Axes>"
            ]
          },
          "metadata": {
            "needs_background": "light"
          }
        }
      ]
    }
  ]
}