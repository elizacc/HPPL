{
  "nbformat": 4,
  "nbformat_minor": 5,
  "metadata": {
    "kernelspec": {
      "display_name": "Python 3",
      "language": "python",
      "name": "python3"
    },
    "language_info": {
      "codemirror_mode": {
        "name": "ipython",
        "version": 3
      },
      "file_extension": ".py",
      "mimetype": "text/x-python",
      "name": "python",
      "nbconvert_exporter": "python",
      "pygments_lexer": "ipython3",
      "version": "3.8.8"
    },
    "toc": {
      "base_numbering": 1,
      "nav_menu": {},
      "number_sections": true,
      "sideBar": true,
      "skip_h1_title": false,
      "title_cell": "Table of Contents",
      "title_sidebar": "Contents",
      "toc_cell": false,
      "toc_position": {},
      "toc_section_display": true,
      "toc_window_display": false
    },
    "varInspector": {
      "cols": {
        "lenName": 16,
        "lenType": 16,
        "lenVar": 40
      },
      "kernels_config": {
        "python": {
          "delete_cmd_postfix": "",
          "delete_cmd_prefix": "del ",
          "library": "var_list.py",
          "varRefreshCmd": "print(var_dic_list())"
        },
        "r": {
          "delete_cmd_postfix": ") ",
          "delete_cmd_prefix": "rm(",
          "library": "var_list.r",
          "varRefreshCmd": "cat(var_dic_list()) "
        }
      },
      "types_to_exclude": [
        "module",
        "function",
        "builtin_function_or_method",
        "instance",
        "_Feature"
      ],
      "window_display": false
    },
    "colab": {
      "name": "Integral.ipynb",
      "provenance": [],
      "collapsed_sections": []
    }
  },
  "cells": [
    {
      "cell_type": "code",
      "metadata": {
        "ExecuteTime": {
          "end_time": "2021-12-03T00:57:53.717730Z",
          "start_time": "2021-12-03T00:57:53.701720Z"
        },
        "id": "51d3673d"
      },
      "source": [
        "import numpy as np\n",
        "import matplotlib.pyplot as plt"
      ],
      "id": "51d3673d",
      "execution_count": 2,
      "outputs": []
    },
    {
      "cell_type": "code",
      "metadata": {
        "ExecuteTime": {
          "end_time": "2021-12-03T01:00:16.637555Z",
          "start_time": "2021-12-03T01:00:16.613368Z"
        },
        "id": "f2650300"
      },
      "source": [
        "def exponential_pdf(x, l=1):\n",
        "    return l * np.exp(-l * x)"
      ],
      "id": "f2650300",
      "execution_count": 3,
      "outputs": []
    },
    {
      "cell_type": "code",
      "metadata": {
        "id": "kI5Kupz5Ufd_"
      },
      "source": [
        "# !pip install mpi4py"
      ],
      "id": "kI5Kupz5Ufd_",
      "execution_count": 69,
      "outputs": []
    },
    {
      "cell_type": "markdown",
      "metadata": {
        "id": "68c9b67d"
      },
      "source": [
        "Analytical solution:\n",
        "\n",
        "$$ \\int_0^1 \\lambda \\cdot e^{-\\lambda x} dx = -\\lambda \\cdot \\frac{1}{\\lambda} \\cdot e^{-\\lambda x} \\Big|_0^1 = 1 - e^{-\\lambda}$$\n",
        "\n",
        "\n",
        "Compute an integral using the trapezoid rule\n",
        "●Split the job between processes and use Reduce \n",
        "collective communication\n",
        "●Check the accuracy when\n",
        "taking more nodes\n",
        "(i.e. smaller step)\n",
        "●Check the speedup \n",
        "when taking more processes"
      ],
      "id": "68c9b67d"
    },
    {
      "cell_type": "code",
      "metadata": {
        "ExecuteTime": {
          "end_time": "2021-12-03T01:06:21.046053Z",
          "start_time": "2021-12-03T01:06:21.030020Z"
        },
        "colab": {
          "base_uri": "https://localhost:8080/"
        },
        "id": "2e8fcad4",
        "outputId": "e43cfc30-1ed7-4a3b-cf66-e87b847f9361"
      },
      "source": [
        "l = 1\n",
        "an_int = 1 - np.exp(-l)\n",
        "print(f\"Answer: {an_int}\")"
      ],
      "id": "2e8fcad4",
      "execution_count": 4,
      "outputs": [
        {
          "output_type": "stream",
          "name": "stdout",
          "text": [
            "Answer: 0.6321205588285577\n"
          ]
        }
      ]
    },
    {
      "cell_type": "code",
      "metadata": {
        "ExecuteTime": {
          "end_time": "2021-12-03T01:12:31.308894Z",
          "start_time": "2021-12-03T01:12:31.252138Z"
        },
        "colab": {
          "base_uri": "https://localhost:8080/"
        },
        "id": "a94b7a87",
        "outputId": "941cbe96-7c87-4f95-bdb2-6b0864a31b01"
      },
      "source": [
        "lin = np.linspace(0,1,10000)\n",
        "trap_int = 0\n",
        "for i in range(9999):\n",
        "    trap_int += (exponential_pdf(lin[i]) + exponential_pdf(lin[i+1]))*(lin[i+1]-lin[i])/2\n",
        "print(f\"Answer: {trap_int}\")"
      ],
      "id": "a94b7a87",
      "execution_count": 5,
      "outputs": [
        {
          "output_type": "stream",
          "name": "stdout",
          "text": [
            "Answer: 0.6321205593554283\n"
          ]
        }
      ]
    },
    {
      "cell_type": "code",
      "metadata": {
        "ExecuteTime": {
          "end_time": "2021-12-03T01:17:05.375326Z",
          "start_time": "2021-12-03T01:17:05.359318Z"
        },
        "colab": {
          "base_uri": "https://localhost:8080/"
        },
        "id": "1b8320ca",
        "outputId": "c1da3b56-66a8-41f3-bc81-c02ed9c424c7"
      },
      "source": [
        "%%writefile test.py\n",
        "from mpi4py import MPI\n",
        "import numpy as np\n",
        "\n",
        "def exponential_pdf(x, l=1):\n",
        "    return l * np.exp(-l * x)\n",
        "\n",
        "l = 1\n",
        "an_int = 1 - np.exp(-l)\n",
        "\n",
        "start =  MPI.Wtime()\n",
        "\n",
        "comm = MPI.COMM_WORLD\n",
        "size=comm.Get_size()\n",
        "rank=comm.Get_rank()\n",
        "\n",
        "num_iter = 10000000\n",
        "\n",
        "left = rank//size\n",
        "right = (rank+1)//size\n",
        "lin = np.linspace(left,right,int(num_iter//size))\n",
        "expon_lin = exponential_pdf(lin)\n",
        "trap_int = np.sum((expon_lin[1:] + expon_lin[:-1]) * (lin[1:] - lin[:-1]) / 2)\n",
        "\n",
        "recvbuf = comm.reduce(trap_int, op=MPI.SUM, root = 0)\n",
        "\n",
        "\n",
        "end = MPI.Wtime()\n",
        "\n",
        "if rank==0:\n",
        "    print(recvbuf)\n",
        "    print(end-start)\n",
        "    print(abs(an_int - recvbuf))\n"
      ],
      "id": "1b8320ca",
      "execution_count": 34,
      "outputs": [
        {
          "output_type": "stream",
          "name": "stdout",
          "text": [
            "Overwriting test.py\n"
          ]
        }
      ]
    },
    {
      "cell_type": "code",
      "metadata": {
        "ExecuteTime": {
          "end_time": "2021-12-03T01:17:33.841043Z",
          "start_time": "2021-12-03T01:17:33.800970Z"
        },
        "colab": {
          "base_uri": "https://localhost:8080/"
        },
        "id": "4430f3a7",
        "outputId": "75a6bbd3-4a14-4cc9-f0ef-0c6525d67d66"
      },
      "source": [
        "!mpirun --allow-run-as-root -n 1 python test.py"
      ],
      "id": "4430f3a7",
      "execution_count": 35,
      "outputs": [
        {
          "output_type": "stream",
          "name": "stdout",
          "text": [
            "0.6321205588285587\n",
            "0.3492918350000309\n",
            "9.992007221626409e-16\n"
          ]
        }
      ]
    },
    {
      "cell_type": "code",
      "metadata": {
        "id": "52331205",
        "colab": {
          "base_uri": "https://localhost:8080/"
        },
        "outputId": "d7f1c718-1b0e-440a-a725-dcfa1af251bc"
      },
      "source": [
        "!mpirun --allow-run-as-root -n 2 python test.py"
      ],
      "id": "52331205",
      "execution_count": 36,
      "outputs": [
        {
          "output_type": "stream",
          "name": "stdout",
          "text": [
            "0.6321205588285598\n",
            "0.2714300519999142\n",
            "2.1094237467877974e-15\n"
          ]
        }
      ]
    },
    {
      "cell_type": "code",
      "metadata": {
        "colab": {
          "base_uri": "https://localhost:8080/"
        },
        "id": "L1RjUVpD7dqL",
        "outputId": "6794bf56-916f-4108-8040-ce0de989427a"
      },
      "source": [
        "!mpirun --allow-run-as-root -n 3 python test.py"
      ],
      "id": "L1RjUVpD7dqL",
      "execution_count": 37,
      "outputs": [
        {
          "output_type": "stream",
          "name": "stdout",
          "text": [
            "0.6321205588285622\n",
            "0.2314693430000716\n",
            "4.551914400963142e-15\n"
          ]
        }
      ]
    },
    {
      "cell_type": "code",
      "metadata": {
        "colab": {
          "base_uri": "https://localhost:8080/"
        },
        "id": "Nbdn5-tz7sT-",
        "outputId": "8ee25f30-0f30-4b53-fc4c-3fbac5331f50"
      },
      "source": [
        "!mpirun --allow-run-as-root -n 4 python test.py"
      ],
      "id": "Nbdn5-tz7sT-",
      "execution_count": 38,
      "outputs": [
        {
          "output_type": "stream",
          "name": "stdout",
          "text": [
            "0.632120558828566\n",
            "0.45284616499998265\n",
            "8.326672684688674e-15\n"
          ]
        }
      ]
    },
    {
      "cell_type": "code",
      "metadata": {
        "colab": {
          "base_uri": "https://localhost:8080/"
        },
        "id": "TX_C6a4V7sWq",
        "outputId": "9bf49955-6e46-47cf-dd91-24a24303e94a"
      },
      "source": [
        "!mpirun --allow-run-as-root -n 5 python test.py"
      ],
      "id": "TX_C6a4V7sWq",
      "execution_count": 39,
      "outputs": [
        {
          "output_type": "stream",
          "name": "stdout",
          "text": [
            "0.6321205588285707\n",
            "0.40427542700012964\n",
            "1.2989609388114332e-14\n"
          ]
        }
      ]
    },
    {
      "cell_type": "code",
      "metadata": {
        "colab": {
          "base_uri": "https://localhost:8080/"
        },
        "id": "SaO-LNB37sYv",
        "outputId": "bc0d2c50-4cac-4e6c-a445-b9356dd87094"
      },
      "source": [
        "!mpirun --allow-run-as-root -n 6 python test.py"
      ],
      "id": "SaO-LNB37sYv",
      "execution_count": 40,
      "outputs": [
        {
          "output_type": "stream",
          "name": "stdout",
          "text": [
            "0.6321205588285768\n",
            "0.31689320499981477\n",
            "1.9095836023552692e-14\n"
          ]
        }
      ]
    },
    {
      "cell_type": "code",
      "metadata": {
        "colab": {
          "base_uri": "https://localhost:8080/"
        },
        "id": "SgD212gU7sa5",
        "outputId": "c7dcf7cd-8021-4763-ea17-f5231256f2d0"
      },
      "source": [
        "!mpirun --allow-run-as-root -n 7 python test.py"
      ],
      "id": "SgD212gU7sa5",
      "execution_count": 41,
      "outputs": [
        {
          "output_type": "stream",
          "name": "stdout",
          "text": [
            "0.6321205588285836\n",
            "0.4368564859998969\n",
            "2.5979218776228663e-14\n"
          ]
        }
      ]
    },
    {
      "cell_type": "code",
      "metadata": {
        "colab": {
          "base_uri": "https://localhost:8080/"
        },
        "id": "Poumn6LY7vjx",
        "outputId": "6f6f0bcf-9465-4611-f835-c96cdcad94c4"
      },
      "source": [
        "!mpirun --allow-run-as-root -n 8 python test.py"
      ],
      "id": "Poumn6LY7vjx",
      "execution_count": 42,
      "outputs": [
        {
          "output_type": "stream",
          "name": "stdout",
          "text": [
            "0.6321205588285913\n",
            "0.40929520499980754\n",
            "3.3639757646142243e-14\n"
          ]
        }
      ]
    },
    {
      "cell_type": "code",
      "metadata": {
        "colab": {
          "base_uri": "https://localhost:8080/"
        },
        "id": "22eR3q2Q7vmK",
        "outputId": "f1c948d8-e9d8-4d17-b438-9b9861240df7"
      },
      "source": [
        "!mpirun --allow-run-as-root -n 9 python test.py"
      ],
      "id": "22eR3q2Q7vmK",
      "execution_count": 43,
      "outputs": [
        {
          "output_type": "stream",
          "name": "stdout",
          "text": [
            "0.6321205588286005\n",
            "0.4088609699999779\n",
            "4.285460875053104e-14\n"
          ]
        }
      ]
    },
    {
      "cell_type": "code",
      "metadata": {
        "colab": {
          "base_uri": "https://localhost:8080/"
        },
        "id": "8h45oN-A7vo5",
        "outputId": "564bfffa-ec7e-4246-9218-130a435c74e2"
      },
      "source": [
        "!mpirun --allow-run-as-root -n 10 python test.py"
      ],
      "id": "8h45oN-A7vo5",
      "execution_count": 44,
      "outputs": [
        {
          "output_type": "stream",
          "name": "stdout",
          "text": [
            "0.6321205588286105\n",
            "0.4570491430001766\n",
            "5.284661597215745e-14\n"
          ]
        }
      ]
    },
    {
      "cell_type": "code",
      "metadata": {
        "colab": {
          "base_uri": "https://localhost:8080/",
          "height": 312
        },
        "id": "4gCQPmv47__F",
        "outputId": "66ea6d13-ecdb-490f-eaef-053f3a3cbca2"
      },
      "source": [
        "speedup = np.array([0.3492918350000309,\n",
        "                    0.2714300519999142,\n",
        "                    0.2314693430000716,\n",
        "                    0.45284616499998265,\n",
        "                    0.40427542700012964,\n",
        "                    0.31689320499981477,\n",
        "                    0.4368564859998969,\n",
        "                    0.40929520499980754,\n",
        "                    0.4088609699999779,\n",
        "                    0.4570491430001766])\n",
        "speedup = speedup[0] / speedup\n",
        "plt.figure(figsize=(10,4))\n",
        "plt.title('Speedup vs number of processes')\n",
        "plt.plot(np.arange(1,11), speedup)\n",
        "plt.xlabel('# processes')\n",
        "plt.ylabel('Speedup')"
      ],
      "id": "4gCQPmv47__F",
      "execution_count": 45,
      "outputs": [
        {
          "output_type": "execute_result",
          "data": {
            "text/plain": [
              "Text(0, 0.5, 'Speedup')"
            ]
          },
          "metadata": {},
          "execution_count": 45
        },
        {
          "output_type": "display_data",
          "data": {
            "image/png": "[encoded data removed]",
            "text/plain": [
              "<Figure size 720x288 with 1 Axes>"
            ]
          },
          "metadata": {
            "needs_background": "light"
          }
        }
      ]
    },
    {
      "cell_type": "code",
      "metadata": {
        "colab": {
          "base_uri": "https://localhost:8080/"
        },
        "id": "Iu6HPRBfB6Rl",
        "outputId": "192c5403-abb7-4d76-97d7-3504cb74b7dc"
      },
      "source": [
        "%%writefile test.py\n",
        "from mpi4py import MPI\n",
        "import numpy as np\n",
        "\n",
        "def exponential_pdf(x, l=1):\n",
        "    return l * np.exp(-l * x)\n",
        "\n",
        "l = 1\n",
        "an_int = 1 - np.exp(-l)\n",
        "\n",
        "start =  MPI.Wtime()\n",
        "\n",
        "comm = MPI.COMM_WORLD\n",
        "size=comm.Get_size()\n",
        "rank=comm.Get_rank()\n",
        "\n",
        "num_iter = 100000000\n",
        "\n",
        "left = rank//size\n",
        "right = (rank+1)//size\n",
        "lin = np.linspace(left,right,int(num_iter//size))\n",
        "expon_lin = exponential_pdf(lin)\n",
        "trap_int = np.sum((expon_lin[1:] + expon_lin[:-1]) * (lin[1:] - lin[:-1]) / 2)\n",
        "\n",
        "recvbuf = comm.reduce(trap_int, op=MPI.SUM, root = 0)\n",
        "\n",
        "\n",
        "end = MPI.Wtime()\n",
        "\n",
        "if rank==0:\n",
        "    print(recvbuf)\n",
        "    print(end-start)\n",
        "    print(abs(an_int - recvbuf))\n"
      ],
      "id": "Iu6HPRBfB6Rl",
      "execution_count": 65,
      "outputs": [
        {
          "output_type": "stream",
          "name": "stdout",
          "text": [
            "Overwriting test.py\n"
          ]
        }
      ]
    },
    {
      "cell_type": "code",
      "metadata": {
        "colab": {
          "base_uri": "https://localhost:8080/"
        },
        "id": "QCEU3YYoC9Mo",
        "outputId": "0cf191b4-b5da-40c4-d8dc-0a08bda8eb95"
      },
      "source": [
        "!mpirun --allow-run-as-root -n 3 python test.py"
      ],
      "id": "QCEU3YYoC9Mo",
      "execution_count": 66,
      "outputs": [
        {
          "output_type": "stream",
          "name": "stdout",
          "text": [
            "0.6321205588285557\n",
            "2.789522747000092\n",
            "1.9984014443252818e-15\n"
          ]
        }
      ]
    },
    {
      "cell_type": "code",
      "metadata": {
        "colab": {
          "base_uri": "https://localhost:8080/",
          "height": 299
        },
        "id": "yv0-d_Bl-cBj",
        "outputId": "6cbfb359-645a-47c5-88b1-4a7ba5177a19"
      },
      "source": [
        "errors = np.array([0.01311463132061963,\n",
        "                    5.14412655150398e-05,\n",
        "                    4.779059484816273e-07,\n",
        "                    4.7446991890964796e-09,\n",
        "                    4.741285142273455e-11,\n",
        "                    4.740652315149418e-13,\n",
        "                    4.551914400963142e-15,\n",
        "                    1.9984014443252818e-15])\n",
        "plt.figure(figsize=(10,4))\n",
        "plt.title('Integration error vs the discretization size')\n",
        "plt.plot(1/(10**np.arange(1,9)), errors)\n",
        "plt.xlabel('Discretization size')\n",
        "plt.ylabel('Integration error')\n",
        "plt.xscale('log')\n",
        "plt.yscale('log')"
      ],
      "id": "yv0-d_Bl-cBj",
      "execution_count": 68,
      "outputs": [
        {
          "output_type": "display_data",
          "data": {
            "image/png": "[encoded data removed]",
            "text/plain": [
              "<Figure size 720x288 with 1 Axes>"
            ]
          },
          "metadata": {
            "needs_background": "light"
          }
        }
      ]
    }
  ]
}