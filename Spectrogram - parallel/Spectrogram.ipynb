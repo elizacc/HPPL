{
 "cells": [
  {
   "cell_type": "code",
   "execution_count": 3,
   "metadata": {
    "ExecuteTime": {
     "end_time": "2021-11-20T08:58:27.698460Z",
     "start_time": "2021-11-20T08:58:27.353295Z"
    },
    "colab": {
     "base_uri": "https://localhost:8080/"
    },
    "id": "2ut4ZZ7IHCai",
    "outputId": "e4ccdfab-398b-42c1-8148-9f485a4ef767"
   },
   "outputs": [
    {
     "name": "stdout",
     "output_type": "stream",
     "text": [
      "Populating the interactive namespace from numpy and matplotlib\n"
     ]
    }
   ],
   "source": [
    "%pylab inline"
   ]
  },
  {
   "cell_type": "code",
   "execution_count": 30,
   "metadata": {
    "ExecuteTime": {
     "end_time": "2021-11-22T19:24:26.451889Z",
     "start_time": "2021-11-22T19:24:26.442883Z"
    },
    "colab": {
     "base_uri": "https://localhost:8080/"
    },
    "id": "xq7phmVXHCam",
    "outputId": "0dad0c9a-a0f0-4879-cc0a-ba82da8ba078"
   },
   "outputs": [
    {
     "name": "stdout",
     "output_type": "stream",
     "text": [
      "Overwriting test.py\n"
     ]
    }
   ],
   "source": [
    "%%writefile test.py\n",
    "from mpi4py import MPI\n",
    "import numpy as np \n",
    "import matplotlib.pyplot as plt\n",
    "import seaborn as sns\n",
    "\n",
    "\n",
    "# generate the signal\n",
    "\n",
    "t=np.linspace(-20*2*np.pi, 20*2*np.pi, 3**9+6)\n",
    "y=np.sin(t)*np.exp(-t**2/2/20**2)\n",
    "y=y+np.sin(3*t)*np.exp(-(t-5*2*np.pi)**2/2/20**2)\n",
    "y=y+np.sin(5.5*t)*np.exp(-(t+10*2*np.pi)**2/2/5**2)\n",
    "y=y+np.sin(4*t)*np.exp(-(t-7*2*np.pi)**2/2/5**2)\n",
    "\n",
    "\n",
    "nwindowsteps=2000\n",
    "window_width=2.0*2*np.pi\n",
    "window_steps = np.linspace(t[0], t[-1], nwindowsteps)\n",
    "\n",
    "start =  MPI.Wtime()\n",
    "\n",
    "comm = MPI.COMM_WORLD\n",
    "size=comm.Get_size()\n",
    "rank=comm.Get_rank()\n",
    "\n",
    "specgram = np.empty((len(t), nwindowsteps//size))\n",
    "for i, window_position in enumerate(window_steps[rank*(nwindowsteps//size):(rank+1)*(nwindowsteps//size)]):\n",
    "    window_function = np.exp(-(t-window_position)**2/2/window_width**2)\n",
    "    y_window = y * window_function\n",
    "    specgram[:,i] = abs(np.fft.fft(y_window))\n",
    "\n",
    "final_specgram = np.array(comm.gather(specgram, root=0))\n",
    "end = MPI.Wtime()\n",
    "\n",
    "if rank==0:\n",
    "    for i in range(1, size):\n",
    "        specgram = np.append(specgram, final_specgram[i, :, :], axis=1)\n",
    "    print(end-start)"
   ]
  },
  {
   "cell_type": "code",
   "execution_count": 31,
   "metadata": {
    "ExecuteTime": {
     "end_time": "2021-11-22T19:24:52.606097Z",
     "start_time": "2021-11-22T19:24:52.551468Z"
    },
    "colab": {
     "base_uri": "https://localhost:8080/"
    },
    "id": "xkPBy_ZUHCao",
    "outputId": "1a4f7d48-16af-4441-ab1b-5165088d4161"
   },
   "outputs": [
    {
     "name": "stdout",
     "output_type": "stream",
     "text": [
      "51.01830576799989\n"
     ]
    }
   ],
   "source": [
    "!mpirun --allow-run-as-root -n 1 python test.py"
   ]
  },
  {
   "cell_type": "code",
   "execution_count": 32,
   "metadata": {
    "ExecuteTime": {
     "end_time": "2021-11-20T09:11:54.310442Z",
     "start_time": "2021-11-20T09:11:54.304442Z"
    },
    "colab": {
     "base_uri": "https://localhost:8080/"
    },
    "id": "oN5TP1R2HCap",
    "outputId": "90d8e98c-3cf8-4420-ce2d-fe2f3cc01a0b"
   },
   "outputs": [
    {
     "name": "stdout",
     "output_type": "stream",
     "text": [
      "43.06568425600017\n"
     ]
    }
   ],
   "source": [
    "!mpirun --allow-run-as-root -n 2 python test.py"
   ]
  },
  {
   "cell_type": "code",
   "execution_count": 33,
   "metadata": {
    "ExecuteTime": {
     "end_time": "2021-11-20T09:53:15.836592Z",
     "start_time": "2021-11-20T09:30:28.717344Z"
    },
    "colab": {
     "base_uri": "https://localhost:8080/"
    },
    "id": "Pe6Zl7kVHCap",
    "outputId": "a709c0d0-a9f7-428a-cd56-bacd300714e3"
   },
   "outputs": [
    {
     "name": "stdout",
     "output_type": "stream",
     "text": [
      "30.86722953000003\n"
     ]
    }
   ],
   "source": [
    "!mpirun --allow-run-as-root -n 3 python test.py"
   ]
  },
  {
   "cell_type": "code",
   "execution_count": 34,
   "metadata": {
    "colab": {
     "base_uri": "https://localhost:8080/"
    },
    "id": "Fsosu_luXcjv",
    "outputId": "824f165f-fe4f-487a-8236-27099622d23f"
   },
   "outputs": [
    {
     "name": "stdout",
     "output_type": "stream",
     "text": [
      "29.273588188000076\n"
     ]
    }
   ],
   "source": [
    "!mpirun --allow-run-as-root -n 4 python test.py"
   ]
  },
  {
   "cell_type": "code",
   "execution_count": 35,
   "metadata": {
    "colab": {
     "base_uri": "https://localhost:8080/"
    },
    "id": "klAgdIhdXcq_",
    "outputId": "1c10a61d-d3f0-4aa8-f3d5-fb7020bd2736"
   },
   "outputs": [
    {
     "name": "stdout",
     "output_type": "stream",
     "text": [
      "32.4300416760002\n"
     ]
    }
   ],
   "source": [
    "!mpirun --allow-run-as-root -n 5 python test.py"
   ]
  },
  {
   "cell_type": "code",
   "execution_count": 36,
   "metadata": {
    "colab": {
     "base_uri": "https://localhost:8080/"
    },
    "id": "_FB3LyneXcuq",
    "outputId": "7cb456b4-e190-4dfe-dd95-d69f138a11dc"
   },
   "outputs": [
    {
     "name": "stdout",
     "output_type": "stream",
     "text": [
      "37.17839521399992\n"
     ]
    }
   ],
   "source": [
    "!mpirun --allow-run-as-root -n 6 python test.py"
   ]
  },
  {
   "cell_type": "code",
   "execution_count": 37,
   "metadata": {
    "colab": {
     "base_uri": "https://localhost:8080/"
    },
    "id": "R4hb-WnqXcxn",
    "outputId": "4dbca46c-8038-407d-9edc-3b2ad077a61d"
   },
   "outputs": [
    {
     "name": "stdout",
     "output_type": "stream",
     "text": [
      "31.789868834000117\n"
     ]
    }
   ],
   "source": [
    "!mpirun --allow-run-as-root -n 7 python test.py"
   ]
  },
  {
   "cell_type": "code",
   "execution_count": 38,
   "metadata": {
    "colab": {
     "base_uri": "https://localhost:8080/"
    },
    "id": "vKV-4YxxXc1A",
    "outputId": "7482af10-7444-412b-a5fe-c311589ab1df"
   },
   "outputs": [
    {
     "name": "stdout",
     "output_type": "stream",
     "text": [
      "47.817895748999945\n"
     ]
    }
   ],
   "source": [
    "!mpirun --allow-run-as-root -n 8 python test.py"
   ]
  },
  {
   "cell_type": "code",
   "execution_count": 39,
   "metadata": {
    "colab": {
     "base_uri": "https://localhost:8080/"
    },
    "id": "Q-pHoojzXjzK",
    "outputId": "b8a6cd99-51aa-44b7-dba8-e005583dcce5"
   },
   "outputs": [
    {
     "name": "stdout",
     "output_type": "stream",
     "text": [
      "33.476865495999846\n"
     ]
    }
   ],
   "source": [
    "!mpirun --allow-run-as-root -n 9 python test.py"
   ]
  },
  {
   "cell_type": "code",
   "execution_count": 40,
   "metadata": {
    "colab": {
     "base_uri": "https://localhost:8080/"
    },
    "id": "0Vu4AOhPXj78",
    "outputId": "b1746cfc-8edf-49d3-a273-a10cf626857c"
   },
   "outputs": [
    {
     "name": "stdout",
     "output_type": "stream",
     "text": [
      "44.54133057499985\n"
     ]
    }
   ],
   "source": [
    "!mpirun --allow-run-as-root -n 10 python test.py"
   ]
  },
  {
   "cell_type": "code",
   "execution_count": 42,
   "metadata": {
    "colab": {
     "base_uri": "https://localhost:8080/"
    },
    "id": "EDcsQDGP0bUp",
    "outputId": "733b2bc3-bcc4-4e29-ea7f-8620b8a7baf5"
   },
   "outputs": [
    {
     "name": "stdout",
     "output_type": "stream",
     "text": [
      "46.44608820500025\n"
     ]
    }
   ],
   "source": [
    "!mpirun --allow-run-as-root -n 11 python test.py"
   ]
  },
  {
   "cell_type": "code",
   "execution_count": 43,
   "metadata": {
    "colab": {
     "base_uri": "https://localhost:8080/"
    },
    "id": "nK9pqz090bbw",
    "outputId": "5fde60ec-1c93-4438-8d95-59731175f8b9"
   },
   "outputs": [
    {
     "name": "stdout",
     "output_type": "stream",
     "text": [
      "52.087850289000016\n"
     ]
    }
   ],
   "source": [
    "!mpirun --allow-run-as-root -n 12 python test.py"
   ]
  },
  {
   "cell_type": "code",
   "execution_count": 44,
   "metadata": {
    "colab": {
     "base_uri": "https://localhost:8080/"
    },
    "id": "XvfVmegJ0bea",
    "outputId": "461090fe-5d40-4193-cf4c-b216a34f81a5"
   },
   "outputs": [
    {
     "name": "stdout",
     "output_type": "stream",
     "text": [
      "54.45516415699967\n"
     ]
    }
   ],
   "source": [
    "!mpirun --allow-run-as-root -n 13 python test.py"
   ]
  },
  {
   "cell_type": "code",
   "execution_count": 45,
   "metadata": {
    "ExecuteTime": {
     "end_time": "2021-11-20T09:58:39.445766Z",
     "start_time": "2021-11-20T09:58:39.354850Z"
    },
    "colab": {
     "base_uri": "https://localhost:8080/",
     "height": 312
    },
    "id": "QzHbIFLnHCas",
    "outputId": "705b4f73-8eed-4156-9abd-6683b4942fb9"
   },
   "outputs": [
    {
     "data": {
      "text/plain": [
       "Text(0, 0.5, 'Speedup')"
      ]
     },
     "execution_count": 45,
     "metadata": {},
     "output_type": "execute_result"
    },
    {
     "data": {
      "image/png": "[encoded data removed]",
      "text/plain": [
       "<Figure size 720x288 with 1 Axes>"
      ]
     },
     "metadata": {
      "needs_background": "light"
     },
     "output_type": "display_data"
    }
   ],
   "source": [
    "speedup = np.array([51.01830576799989,\n",
    "                    43.06568425600017,\n",
    "                    30.86722953000003,\n",
    "                    29.273588188000076,\n",
    "                    32.4300416760002,\n",
    "                    37.17839521399992,\n",
    "                    31.789868834000117,\n",
    "                    47.817895748999945,\n",
    "                    33.476865495999846,\n",
    "                    44.54133057499985,\n",
    "                    46.44608820500025,\n",
    "                    52.087850289000016,\n",
    "                    54.45516415699967])\n",
    "speedup = speedup[0] / speedup\n",
    "plt.figure(figsize=(10,4))\n",
    "plt.title('Speedup vs number of processes')\n",
    "plt.plot(np.arange(1,14), speedup)\n",
    "plt.xlabel('# processes')\n",
    "plt.ylabel('Speedup')"
   ]
  }
 ],
 "metadata": {
  "colab": {
   "collapsed_sections": [],
   "name": "Spectrogram.ipynb",
   "provenance": []
  },
  "kernelspec": {
   "display_name": "Python 3",
   "language": "python",
   "name": "python3"
  },
  "language_info": {
   "codemirror_mode": {
    "name": "ipython",
    "version": 3
   },
   "file_extension": ".py",
   "mimetype": "text/x-python",
   "name": "python",
   "nbconvert_exporter": "python",
   "pygments_lexer": "ipython3",
   "version": "3.8.8"
  },
  "toc": {
   "base_numbering": 1,
   "nav_menu": {},
   "number_sections": true,
   "sideBar": true,
   "skip_h1_title": false,
   "title_cell": "Table of Contents",
   "title_sidebar": "Contents",
   "toc_cell": false,
   "toc_position": {},
   "toc_section_display": true,
   "toc_window_display": false
  },
  "varInspector": {
   "cols": {
    "lenName": 16,
    "lenType": 16,
    "lenVar": 40
   },
   "kernels_config": {
    "python": {
     "delete_cmd_postfix": "",
     "delete_cmd_prefix": "del ",
     "library": "var_list.py",
     "varRefreshCmd": "print(var_dic_list())"
    },
    "r": {
     "delete_cmd_postfix": ") ",
     "delete_cmd_prefix": "rm(",
     "library": "var_list.r",
     "varRefreshCmd": "cat(var_dic_list()) "
    }
   },
   "types_to_exclude": [
    "module",
    "function",
    "builtin_function_or_method",
    "instance",
    "_Feature"
   ],
   "window_display": false
  }
 },
 "nbformat": 4,
 "nbformat_minor": 1
}
