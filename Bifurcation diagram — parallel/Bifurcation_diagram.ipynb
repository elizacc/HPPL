{
  "nbformat": 4,
  "nbformat_minor": 5,
  "metadata": {
    "kernelspec": {
      "display_name": "Python 3",
      "language": "python",
      "name": "python3"
    },
    "language_info": {
      "codemirror_mode": {
        "name": "ipython",
        "version": 3
      },
      "file_extension": ".py",
      "mimetype": "text/x-python",
      "name": "python",
      "nbconvert_exporter": "python",
      "pygments_lexer": "ipython3",
      "version": "3.8.8"
    },
    "toc": {
      "base_numbering": 1,
      "nav_menu": {},
      "number_sections": true,
      "sideBar": true,
      "skip_h1_title": false,
      "title_cell": "Table of Contents",
      "title_sidebar": "Contents",
      "toc_cell": false,
      "toc_position": {},
      "toc_section_display": true,
      "toc_window_display": false
    },
    "varInspector": {
      "cols": {
        "lenName": 16,
        "lenType": 16,
        "lenVar": 40
      },
      "kernels_config": {
        "python": {
          "delete_cmd_postfix": "",
          "delete_cmd_prefix": "del ",
          "library": "var_list.py",
          "varRefreshCmd": "print(var_dic_list())"
        },
        "r": {
          "delete_cmd_postfix": ") ",
          "delete_cmd_prefix": "rm(",
          "library": "var_list.r",
          "varRefreshCmd": "cat(var_dic_list()) "
        }
      },
      "types_to_exclude": [
        "module",
        "function",
        "builtin_function_or_method",
        "instance",
        "_Feature"
      ],
      "window_display": false
    },
    "colab": {
      "name": "Bifurcation diagram.ipynb",
      "provenance": [],
      "collapsed_sections": []
    }
  },
  "cells": [
    {
      "cell_type": "code",
      "metadata": {
        "ExecuteTime": {
          "end_time": "2021-11-22T11:10:06.531469Z",
          "start_time": "2021-11-22T11:10:04.850767Z"
        },
        "id": "91cff4c0"
      },
      "source": [
        "import numpy as np\n",
        "import matplotlib.pyplot as plt\n",
        "import seaborn as sns\n",
        "from mpi4py import MPI"
      ],
      "id": "91cff4c0",
      "execution_count": 1,
      "outputs": []
    },
    {
      "cell_type": "code",
      "metadata": {
        "ExecuteTime": {
          "end_time": "2021-11-22T11:17:56.630561Z",
          "start_time": "2021-11-22T11:17:56.621386Z"
        },
        "colab": {
          "base_uri": "https://localhost:8080/"
        },
        "id": "25a4ac58",
        "outputId": "705139bd-e938-42f1-84d6-52addd26d791"
      },
      "source": [
        "%%writefile test.py\n",
        "from mpi4py import MPI\n",
        "import numpy as np \n",
        "import matplotlib.pyplot as plt\n",
        "import seaborn as sns\n",
        "\n",
        "def LastXs(x0=0.2, r=2.0, n=1000, last=100):\n",
        "    x = [x0]\n",
        "    for i in range(n-1):\n",
        "        x += [r * x[i] * (1 - x[i])]\n",
        "    return x[-last:]\n",
        "\n",
        "n = 1000\n",
        "rs = []\n",
        "xs = []\n",
        "last = 100\n",
        "\n",
        "start =  MPI.Wtime()\n",
        "\n",
        "comm = MPI.COMM_WORLD\n",
        "size=comm.Get_size()\n",
        "rank=comm.Get_rank()\n",
        "\n",
        "for r in np.linspace(4*rank/size, 4*(rank+1)/size, int(100000//size)):\n",
        "    xs += LastXs(r=r, n=n, last=last)\n",
        "    rs += [r]*last\n",
        "\n",
        "xs = np.array(comm.gather(xs, root=0))\n",
        "rs = np.array(comm.gather(rs, root=0))\n",
        "\n",
        "end = MPI.Wtime()\n",
        "\n",
        "if rank==0: \n",
        "    print(end-start)\n",
        "\n",
        "    plt.figure(figsize=(20, 10))\n",
        "    plt.title('Bifurcation diagram')\n",
        "    sns.scatterplot(x=rs[0], y=xs[0], s=10, linewidth=0.07)\n",
        "    plt.show()"
      ],
      "id": "25a4ac58",
      "execution_count": 17,
      "outputs": [
        {
          "output_type": "stream",
          "name": "stdout",
          "text": [
            "Overwriting test.py\n"
          ]
        }
      ]
    },
    {
      "cell_type": "code",
      "metadata": {
        "ExecuteTime": {
          "end_time": "2021-11-22T11:17:57.998728Z",
          "start_time": "2021-11-22T11:17:57.950729Z"
        },
        "colab": {
          "base_uri": "https://localhost:8080/"
        },
        "id": "1dd0a307",
        "outputId": "666085b3-ded2-497d-f609-239a676c8a57"
      },
      "source": [
        "!mpirun --allow-run-as-root -n 1 python test.py"
      ],
      "id": "1dd0a307",
      "execution_count": 18,
      "outputs": [
        {
          "output_type": "stream",
          "name": "stdout",
          "text": [
            "tcmalloc: large alloc 1073741824 bytes == 0x557463404000 @  0x7f1f682bc1e7 0x557412c6ea08 0x557412cf0bbf 0x557412ced9ce 0x557412cef21b 0x557412cedfda 0x557412cedcc2 0x557412cecf3c 0x557412d82a49 0x7f1f66119777 0x7f1f661aff8d 0x7f1f661b2e45 0x7f1f661b4268 0x557412c3c544 0x557412c3c240 0x557412cb0627 0x557412caa9ee 0x557412caa6f3 0x557412d744c2 0x557412d7483d 0x557412d746e6 0x557412d4c163 0x557412d4be0c 0x7f1f670a6bf7 0x557412d4bcea\n",
            "103.02758407500005\n",
            "<Figure size 2000x1000 with 1 Axes>\n"
          ]
        }
      ]
    },
    {
      "cell_type": "code",
      "metadata": {
        "colab": {
          "base_uri": "https://localhost:8080/"
        },
        "id": "ezJ-ikl8cDrr",
        "outputId": "741fb961-84ba-43a6-d3ce-6249d6ede8c7"
      },
      "source": [
        "!mpirun --allow-run-as-root -n 2 python test.py"
      ],
      "id": "ezJ-ikl8cDrr",
      "execution_count": 19,
      "outputs": [
        {
          "output_type": "stream",
          "name": "stdout",
          "text": [
            "88.07028039200009\n",
            "<Figure size 2000x1000 with 1 Axes>\n"
          ]
        }
      ]
    },
    {
      "cell_type": "code",
      "metadata": {
        "colab": {
          "base_uri": "https://localhost:8080/"
        },
        "id": "8xII0Pd7cYeh",
        "outputId": "feb6a551-f1b4-4187-e42f-5a907666ec4f"
      },
      "source": [
        "!mpirun --allow-run-as-root -n 3 python test.py"
      ],
      "id": "8xII0Pd7cYeh",
      "execution_count": 20,
      "outputs": [
        {
          "output_type": "stream",
          "name": "stdout",
          "text": [
            "87.05118791300015\n",
            "<Figure size 2000x1000 with 1 Axes>\n"
          ]
        }
      ]
    },
    {
      "cell_type": "code",
      "metadata": {
        "colab": {
          "base_uri": "https://localhost:8080/"
        },
        "id": "UzRu8XjjcZy0",
        "outputId": "3b389600-5254-47d8-f3e5-3442c59a6ad8"
      },
      "source": [
        "!mpirun --allow-run-as-root -n 4 python test.py"
      ],
      "id": "UzRu8XjjcZy0",
      "execution_count": 21,
      "outputs": [
        {
          "output_type": "stream",
          "name": "stdout",
          "text": [
            "89.64950576399997\n",
            "<Figure size 2000x1000 with 1 Axes>\n"
          ]
        }
      ]
    },
    {
      "cell_type": "code",
      "metadata": {
        "colab": {
          "base_uri": "https://localhost:8080/"
        },
        "id": "1O8uSPx2czpr",
        "outputId": "913361a3-841e-4120-ab32-7cc2315415fc"
      },
      "source": [
        "!mpirun --allow-run-as-root -n 5 python test.py"
      ],
      "id": "1O8uSPx2czpr",
      "execution_count": 22,
      "outputs": [
        {
          "output_type": "stream",
          "name": "stdout",
          "text": [
            "94.47434531399995\n",
            "<Figure size 2000x1000 with 1 Axes>\n"
          ]
        }
      ]
    },
    {
      "cell_type": "code",
      "metadata": {
        "colab": {
          "base_uri": "https://localhost:8080/"
        },
        "id": "6_B6iTX4eID4",
        "outputId": "7c8a4b98-3d08-4624-feea-995213e38612"
      },
      "source": [
        "!mpirun --allow-run-as-root -n 6 python test.py"
      ],
      "id": "6_B6iTX4eID4",
      "execution_count": 23,
      "outputs": [
        {
          "output_type": "stream",
          "name": "stdout",
          "text": [
            "95.92207979\n",
            "<Figure size 2000x1000 with 1 Axes>\n"
          ]
        }
      ]
    },
    {
      "cell_type": "code",
      "metadata": {
        "colab": {
          "base_uri": "https://localhost:8080/"
        },
        "id": "Ax34hA0eeIug",
        "outputId": "dfb7935e-db96-4df6-e017-902dc01cd2be"
      },
      "source": [
        "!mpirun --allow-run-as-root -n 7 python test.py"
      ],
      "id": "Ax34hA0eeIug",
      "execution_count": 24,
      "outputs": [
        {
          "output_type": "stream",
          "name": "stdout",
          "text": [
            "100.14038333899998\n",
            "<Figure size 2000x1000 with 1 Axes>\n"
          ]
        }
      ]
    },
    {
      "cell_type": "code",
      "metadata": {
        "colab": {
          "base_uri": "https://localhost:8080/"
        },
        "id": "WYtobSCPeJgw",
        "outputId": "258490d1-fa14-4e89-fbfe-f736e1c04008"
      },
      "source": [
        "!mpirun --allow-run-as-root -n 8 python test.py"
      ],
      "id": "WYtobSCPeJgw",
      "execution_count": 25,
      "outputs": [
        {
          "output_type": "stream",
          "name": "stdout",
          "text": [
            "111.99039798600006\n",
            "<Figure size 2000x1000 with 1 Axes>\n"
          ]
        }
      ]
    },
    {
      "cell_type": "code",
      "metadata": {
        "colab": {
          "base_uri": "https://localhost:8080/"
        },
        "id": "XIhv0RbveKbO",
        "outputId": "b12d3a6e-8994-4c9e-edb0-70ec58e96026"
      },
      "source": [
        "!mpirun --allow-run-as-root -n 9 python test.py"
      ],
      "id": "XIhv0RbveKbO",
      "execution_count": 26,
      "outputs": [
        {
          "output_type": "stream",
          "name": "stdout",
          "text": [
            "106.47620222600017\n",
            "<Figure size 2000x1000 with 1 Axes>\n"
          ]
        }
      ]
    },
    {
      "cell_type": "code",
      "metadata": {
        "colab": {
          "base_uri": "https://localhost:8080/"
        },
        "id": "XSHrMGN9eK-K",
        "outputId": "7bd0c7f2-8b9c-488c-db68-5f5e34069461"
      },
      "source": [
        "!mpirun --allow-run-as-root -n 10 python test.py"
      ],
      "id": "XSHrMGN9eK-K",
      "execution_count": 27,
      "outputs": [
        {
          "output_type": "stream",
          "name": "stdout",
          "text": [
            "109.05618712700016\n",
            "<Figure size 2000x1000 with 1 Axes>\n"
          ]
        }
      ]
    },
    {
      "cell_type": "code",
      "metadata": {
        "colab": {
          "base_uri": "https://localhost:8080/",
          "height": 312
        },
        "id": "rnbtvNHfeLjD",
        "outputId": "19d69d94-4392-47e6-fb19-5ea968952db3"
      },
      "source": [
        "speedup = np.array([103.02758407500005,\n",
        "                    88.07028039200009,\n",
        "                    87.05118791300015,\n",
        "                    89.64950576399997,\n",
        "                    94.47434531399995,\n",
        "                    95.92207979,\n",
        "                    100.14038333899998,\n",
        "                    111.99039798600006,\n",
        "                    106.47620222600017,\n",
        "                    109.05618712700016])\n",
        "speedup = speedup[0] / speedup\n",
        "plt.figure(figsize=(10,4))\n",
        "plt.title('Speedup vs number of processes')\n",
        "plt.plot(np.arange(1,11), speedup)\n",
        "plt.xlabel('# processes')\n",
        "plt.ylabel('Speedup')"
      ],
      "id": "rnbtvNHfeLjD",
      "execution_count": 30,
      "outputs": [
        {
          "output_type": "execute_result",
          "data": {
            "text/plain": [
              "Text(0, 0.5, 'Speedup')"
            ]
          },
          "metadata": {},
          "execution_count": 30
        },
        {
          "output_type": "display_data",
          "data": {
            "image/png": "[encoded data removed]",
            "text/plain": [
              "<Figure size 720x288 with 1 Axes>"
            ]
          },
          "metadata": {
            "needs_background": "light"
          }
        }
      ]
    },
    {
      "cell_type": "code",
      "metadata": {
        "id": "Wq0IiIZBhv2n"
      },
      "source": [
        ""
      ],
      "id": "Wq0IiIZBhv2n",
      "execution_count": null,
      "outputs": []
    }
  ]
}