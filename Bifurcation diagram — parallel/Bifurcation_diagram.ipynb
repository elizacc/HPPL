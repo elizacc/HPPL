{
  "nbformat": 4,
  "nbformat_minor": 5,
  "metadata": {
    "kernelspec": {
      "display_name": "Python 3",
      "language": "python",
      "name": "python3"
    },
    "language_info": {
      "codemirror_mode": {
        "name": "ipython",
        "version": 3
      },
      "file_extension": ".py",
      "mimetype": "text/x-python",
      "name": "python",
      "nbconvert_exporter": "python",
      "pygments_lexer": "ipython3",
      "version": "3.8.8"
    },
    "toc": {
      "base_numbering": 1,
      "nav_menu": {},
      "number_sections": true,
      "sideBar": true,
      "skip_h1_title": false,
      "title_cell": "Table of Contents",
      "title_sidebar": "Contents",
      "toc_cell": false,
      "toc_position": {},
      "toc_section_display": true,
      "toc_window_display": false
    },
    "varInspector": {
      "cols": {
        "lenName": 16,
        "lenType": 16,
        "lenVar": 40
      },
      "kernels_config": {
        "python": {
          "delete_cmd_postfix": "",
          "delete_cmd_prefix": "del ",
          "library": "var_list.py",
          "varRefreshCmd": "print(var_dic_list())"
        },
        "r": {
          "delete_cmd_postfix": ") ",
          "delete_cmd_prefix": "rm(",
          "library": "var_list.r",
          "varRefreshCmd": "cat(var_dic_list()) "
        }
      },
      "types_to_exclude": [
        "module",
        "function",
        "builtin_function_or_method",
        "instance",
        "_Feature"
      ],
      "window_display": false
    },
    "colab": {
      "name": "Bifurcation diagram.ipynb",
      "provenance": [],
      "collapsed_sections": []
    }
  },
  "cells": [
    {
      "cell_type": "code",
      "metadata": {
        "ExecuteTime": {
          "end_time": "2021-11-22T11:10:06.531469Z",
          "start_time": "2021-11-22T11:10:04.850767Z"
        },
        "id": "91cff4c0"
      },
      "source": [
        "import numpy as np\n",
        "import matplotlib.pyplot as plt\n",
        "import seaborn as sns\n",
        "from mpi4py import MPI"
      ],
      "id": "91cff4c0",
      "execution_count": 1,
      "outputs": []
    },
    {
      "cell_type": "code",
      "metadata": {
        "ExecuteTime": {
          "end_time": "2021-11-22T11:17:56.630561Z",
          "start_time": "2021-11-22T11:17:56.621386Z"
        },
        "colab": {
          "base_uri": "https://localhost:8080/"
        },
        "id": "25a4ac58",
        "outputId": "0d4210f4-7ba5-4e6e-e5b3-7cd9395f97da"
      },
      "source": [
        "%%writefile test.py\n",
        "from mpi4py import MPI\n",
        "import numpy as np \n",
        "import matplotlib.pyplot as plt\n",
        "import seaborn as sns\n",
        "\n",
        "def LastXs(x0=0.2, r=2.0, n=1000, last=100):\n",
        "    x = [x0]\n",
        "    for i in range(n-1):\n",
        "        x += [r * x[i] * (1 - x[i])]\n",
        "    return x[-last:]\n",
        "\n",
        "n = 1000\n",
        "rs = []\n",
        "xs = []\n",
        "last = 100\n",
        "\n",
        "start =  MPI.Wtime()\n",
        "\n",
        "comm = MPI.COMM_WORLD\n",
        "size=comm.Get_size()\n",
        "rank=comm.Get_rank()\n",
        "\n",
        "for r in np.linspace(4*rank/size, 4*(rank+1)/size, int(10000//size)):\n",
        "    xs += LastXs(r=r, n=n, last=last)\n",
        "    rs += [r]*last\n",
        "\n",
        "xs = np.array(comm.gather(xs, root=0))\n",
        "rs = np.array(comm.gather(rs, root=0))\n",
        "\n",
        "end = MPI.Wtime()\n",
        "\n",
        "if rank==0: \n",
        "    print(end-start)"
      ],
      "id": "25a4ac58",
      "execution_count": 2,
      "outputs": [
        {
          "output_type": "stream",
          "name": "stdout",
          "text": [
            "Overwriting test.py\n"
          ]
        }
      ]
    },
    {
      "cell_type": "code",
      "metadata": {
        "ExecuteTime": {
          "end_time": "2021-11-22T11:17:57.998728Z",
          "start_time": "2021-11-22T11:17:57.950729Z"
        },
        "colab": {
          "base_uri": "https://localhost:8080/"
        },
        "id": "1dd0a307",
        "outputId": "32dde0bf-07a7-44ae-e1b8-6473437243ad"
      },
      "source": [
        "!mpirun --allow-run-as-root -n 1 python test.py"
      ],
      "id": "1dd0a307",
      "execution_count": 3,
      "outputs": [
        {
          "output_type": "stream",
          "name": "stdout",
          "text": [
            "10.382182123999883\n"
          ]
        }
      ]
    },
    {
      "cell_type": "code",
      "metadata": {
        "colab": {
          "base_uri": "https://localhost:8080/"
        },
        "id": "ezJ-ikl8cDrr",
        "outputId": "5aa46293-4e46-4393-feb3-6372e730555e"
      },
      "source": [
        "!mpirun --allow-run-as-root -n 2 python test.py"
      ],
      "id": "ezJ-ikl8cDrr",
      "execution_count": 4,
      "outputs": [
        {
          "output_type": "stream",
          "name": "stdout",
          "text": [
            "8.318656470999485\n"
          ]
        }
      ]
    },
    {
      "cell_type": "code",
      "metadata": {
        "colab": {
          "base_uri": "https://localhost:8080/"
        },
        "id": "8xII0Pd7cYeh",
        "outputId": "4b3db2a8-d7ec-4927-dd06-c58a6627992f"
      },
      "source": [
        "!mpirun --allow-run-as-root -n 3 python test.py"
      ],
      "id": "8xII0Pd7cYeh",
      "execution_count": 5,
      "outputs": [
        {
          "output_type": "stream",
          "name": "stdout",
          "text": [
            "8.808940466000422\n"
          ]
        }
      ]
    },
    {
      "cell_type": "code",
      "metadata": {
        "colab": {
          "base_uri": "https://localhost:8080/"
        },
        "id": "UzRu8XjjcZy0",
        "outputId": "a51926c6-6dde-4092-9f8c-b8442af1a7c8"
      },
      "source": [
        "!mpirun --allow-run-as-root -n 4 python test.py"
      ],
      "id": "UzRu8XjjcZy0",
      "execution_count": 6,
      "outputs": [
        {
          "output_type": "stream",
          "name": "stdout",
          "text": [
            "9.283856071000628\n"
          ]
        }
      ]
    },
    {
      "cell_type": "code",
      "metadata": {
        "colab": {
          "base_uri": "https://localhost:8080/"
        },
        "id": "1O8uSPx2czpr",
        "outputId": "da38680d-4eb1-4d21-fd4c-9207e8c96b75"
      },
      "source": [
        "!mpirun --allow-run-as-root -n 5 python test.py"
      ],
      "id": "1O8uSPx2czpr",
      "execution_count": 7,
      "outputs": [
        {
          "output_type": "stream",
          "name": "stdout",
          "text": [
            "9.416293824000604\n"
          ]
        }
      ]
    },
    {
      "cell_type": "code",
      "metadata": {
        "colab": {
          "base_uri": "https://localhost:8080/"
        },
        "id": "6_B6iTX4eID4",
        "outputId": "4498b2fb-302a-41ad-8cd3-7c8e52367cef"
      },
      "source": [
        "!mpirun --allow-run-as-root -n 6 python test.py"
      ],
      "id": "6_B6iTX4eID4",
      "execution_count": 8,
      "outputs": [
        {
          "output_type": "stream",
          "name": "stdout",
          "text": [
            "10.000565913000173\n"
          ]
        }
      ]
    },
    {
      "cell_type": "code",
      "metadata": {
        "colab": {
          "base_uri": "https://localhost:8080/"
        },
        "id": "Ax34hA0eeIug",
        "outputId": "00ab0c71-bc37-478c-e8be-ff77e0b24783"
      },
      "source": [
        "!mpirun --allow-run-as-root -n 7 python test.py"
      ],
      "id": "Ax34hA0eeIug",
      "execution_count": 9,
      "outputs": [
        {
          "output_type": "stream",
          "name": "stdout",
          "text": [
            "10.204465614000583\n"
          ]
        }
      ]
    },
    {
      "cell_type": "code",
      "metadata": {
        "colab": {
          "base_uri": "https://localhost:8080/"
        },
        "id": "WYtobSCPeJgw",
        "outputId": "4bfec6b8-b8e7-42f6-b711-8dc85cbb2dcc"
      },
      "source": [
        "!mpirun --allow-run-as-root -n 8 python test.py"
      ],
      "id": "WYtobSCPeJgw",
      "execution_count": 10,
      "outputs": [
        {
          "output_type": "stream",
          "name": "stdout",
          "text": [
            "10.96631494400026\n"
          ]
        }
      ]
    },
    {
      "cell_type": "code",
      "metadata": {
        "colab": {
          "base_uri": "https://localhost:8080/"
        },
        "id": "XIhv0RbveKbO",
        "outputId": "55f25ccf-afab-457e-c917-f11031762a2f"
      },
      "source": [
        "!mpirun --allow-run-as-root -n 9 python test.py"
      ],
      "id": "XIhv0RbveKbO",
      "execution_count": 11,
      "outputs": [
        {
          "output_type": "stream",
          "name": "stdout",
          "text": [
            "11.22396849100005\n"
          ]
        }
      ]
    },
    {
      "cell_type": "code",
      "metadata": {
        "colab": {
          "base_uri": "https://localhost:8080/"
        },
        "id": "XSHrMGN9eK-K",
        "outputId": "dc5f01e0-d7e0-4666-b1fc-545ba9245eaf"
      },
      "source": [
        "!mpirun --allow-run-as-root -n 10 python test.py"
      ],
      "id": "XSHrMGN9eK-K",
      "execution_count": 12,
      "outputs": [
        {
          "output_type": "stream",
          "name": "stdout",
          "text": [
            "11.575044313000035\n"
          ]
        }
      ]
    },
    {
      "cell_type": "code",
      "metadata": {
        "colab": {
          "base_uri": "https://localhost:8080/",
          "height": 312
        },
        "id": "rnbtvNHfeLjD",
        "outputId": "bf6eb884-22d8-45c1-db00-fe5555943050"
      },
      "source": [
        "speedup = np.array([10.382182123999883,\n",
        "                    8.318656470999485,\n",
        "                    8.808940466000422,\n",
        "                    9.283856071000628,\n",
        "                    9.416293824000604,\n",
        "                    10.000565913000173,\n",
        "                    10.204465614000583,\n",
        "                    10.96631494400026,\n",
        "                    11.22396849100005,\n",
        "                    11.575044313000035])\n",
        "speedup = speedup[0] / speedup\n",
        "plt.figure(figsize=(10,4))\n",
        "plt.title('Speedup vs number of processes')\n",
        "plt.plot(np.arange(1,11), speedup)\n",
        "plt.xlabel('# processes')\n",
        "plt.ylabel('Speedup')"
      ],
      "id": "rnbtvNHfeLjD",
      "execution_count": 14,
      "outputs": [
        {
          "output_type": "execute_result",
          "data": {
            "text/plain": [
              "Text(0, 0.5, 'Speedup')"
            ]
          },
          "metadata": {},
          "execution_count": 14
        },
        {
          "output_type": "display_data",
          "data": {
            "image/png": "[encoded data removed]",
            "text/plain": [
              "<Figure size 720x288 with 1 Axes>"
            ]
          },
          "metadata": {
            "needs_background": "light"
          }
        }
      ]
    }
  ]
}