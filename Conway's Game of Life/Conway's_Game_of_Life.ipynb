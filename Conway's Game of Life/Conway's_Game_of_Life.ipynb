{
  "nbformat": 4,
  "nbformat_minor": 5,
  "metadata": {
    "kernelspec": {
      "display_name": "Python 3",
      "language": "python",
      "name": "python3"
    },
    "language_info": {
      "codemirror_mode": {
        "name": "ipython",
        "version": 3
      },
      "file_extension": ".py",
      "mimetype": "text/x-python",
      "name": "python",
      "nbconvert_exporter": "python",
      "pygments_lexer": "ipython3",
      "version": "3.8.8"
    },
    "toc": {
      "base_numbering": 1,
      "nav_menu": {},
      "number_sections": true,
      "sideBar": true,
      "skip_h1_title": false,
      "title_cell": "Table of Contents",
      "title_sidebar": "Contents",
      "toc_cell": false,
      "toc_position": {},
      "toc_section_display": true,
      "toc_window_display": false
    },
    "varInspector": {
      "cols": {
        "lenName": 16,
        "lenType": 16,
        "lenVar": 40
      },
      "kernels_config": {
        "python": {
          "delete_cmd_postfix": "",
          "delete_cmd_prefix": "del ",
          "library": "var_list.py",
          "varRefreshCmd": "print(var_dic_list())"
        },
        "r": {
          "delete_cmd_postfix": ") ",
          "delete_cmd_prefix": "rm(",
          "library": "var_list.r",
          "varRefreshCmd": "cat(var_dic_list()) "
        }
      },
      "types_to_exclude": [
        "module",
        "function",
        "builtin_function_or_method",
        "instance",
        "_Feature"
      ],
      "window_display": false
    },
    "colab": {
      "name": "Conway's Game of Life.ipynb",
      "provenance": [],
      "collapsed_sections": []
    }
  },
  "cells": [
    {
      "cell_type": "code",
      "metadata": {
        "ExecuteTime": {
          "end_time": "2021-12-04T12:28:22.003035Z",
          "start_time": "2021-12-04T12:28:21.381558Z"
        },
        "id": "2fcb2ae1"
      },
      "source": [
        "import numpy as np\n",
        "import matplotlib.pyplot as plt"
      ],
      "id": "2fcb2ae1",
      "execution_count": 1,
      "outputs": []
    },
    {
      "cell_type": "code",
      "metadata": {
        "id": "jg8weJGFlUUj"
      },
      "source": [
        "# !pip install mpi4py\n",
        "# !pip install celluloid"
      ],
      "id": "jg8weJGFlUUj",
      "execution_count": 2,
      "outputs": []
    },
    {
      "cell_type": "code",
      "metadata": {
        "ExecuteTime": {
          "end_time": "2021-12-04T12:46:32.126895Z",
          "start_time": "2021-12-04T12:46:32.115880Z"
        },
        "id": "13e9a22c"
      },
      "source": [
        "def live(grid):\n",
        "    n = grid.shape[0]\n",
        "    m = grid.shape[1]\n",
        "    exp_grid = np.zeros(shape=(n+2, m+2))\n",
        "    exp_grid[0,0] = grid[-1,-1].copy()\n",
        "    exp_grid[0,-1] = grid[-1,0].copy()\n",
        "    exp_grid[-1,0] = grid[0, -1].copy()\n",
        "    exp_grid[-1,-1] = grid[0,0].copy()\n",
        "    exp_grid[1:-1, 0] = grid[:, -1].copy()\n",
        "    exp_grid[1:-1, -1] = grid[:, 0].copy()\n",
        "    exp_grid[0, 1:-1] = grid[-1, :].copy()\n",
        "    exp_grid[-1, 1:-1] = grid[0, :].copy()\n",
        "    exp_grid[1:-1, 1:-1] = grid.copy()\n",
        "    \n",
        "    new_grid = grid.copy()\n",
        "    for i in range(grid.shape[0]):\n",
        "        for j in range(grid.shape[1]):\n",
        "            hood = np.sum(exp_grid[i:i+3, j:j+3])-grid[i][j]\n",
        "            if grid[i][j] == 0 and hood == 3:\n",
        "                new_grid[i][j] = 1\n",
        "            elif grid[i,j] == 1 and ((hood<=1) or (hood>=4)):\n",
        "                new_grid[i][j] = 0\n",
        "    \n",
        "    \n",
        "    return new_grid"
      ],
      "id": "13e9a22c",
      "execution_count": 3,
      "outputs": []
    },
    {
      "cell_type": "code",
      "metadata": {
        "id": "WY3vWmtHXG1w"
      },
      "source": [
        "# sequential\n",
        "n = 10\n",
        "grid = np.random.binomial(1,0.5, size=(n,n))\n",
        "for i in range(100):\n",
        "    grid = live(grid)"
      ],
      "id": "WY3vWmtHXG1w",
      "execution_count": 4,
      "outputs": []
    },
    {
      "cell_type": "code",
      "metadata": {
        "colab": {
          "base_uri": "https://localhost:8080/"
        },
        "id": "0cmMQSnKESCy",
        "outputId": "8e6cbfc7-464e-4657-fb20-2a4e765c9d82"
      },
      "source": [
        "%%writefile gosper.py\n",
        "from mpi4py import MPI\n",
        "import numpy as np\n",
        "\n",
        "# Gosper glider gun\n",
        "gun = np.zeros(38*38).reshape(38, 38)\n",
        " \n",
        "gun[5][1] = 1\n",
        "gun[5][2] = 1\n",
        "gun[6][1] = 1\n",
        "gun[6][2] = 1\n",
        "\n",
        "gun[3][13] = gun[3][14] = 1\n",
        "gun[4][12] = gun[4][16] = 1\n",
        "gun[5][11] = gun[5][17] = 1\n",
        "gun[6][11] = gun[6][15] = gun[6][17] = gun[6][18] = 1\n",
        "gun[7][11] = gun[7][17] = 1\n",
        "gun[8][12] = gun[8][16] = 1\n",
        "gun[9][13] = gun[9][14] = 1\n",
        "\n",
        "gun[1][25] = 1\n",
        "gun[2][23] = gun[2][25] = 1\n",
        "gun[3][21] = gun[3][22] = 1\n",
        "gun[4][21] = gun[4][22] = 1\n",
        "gun[5][21] = gun[5][22] = 1\n",
        "gun[6][23] = gun[6][25] = 1\n",
        "gun[7][25] = 1\n",
        "\n",
        "gun[3][35] = gun[3][36] = 1\n",
        "gun[4][35] = gun[4][36] = 1\n",
        "\n",
        "start =  MPI.Wtime()\n",
        "\n",
        "comm = MPI.COMM_WORLD\n",
        "size=comm.Get_size()\n",
        "rank=comm.Get_rank()\n",
        "\n",
        "from matplotlib import pyplot as plt\n",
        "from celluloid import Camera\n",
        " \n",
        "grid = gun.copy()\n",
        "\n",
        "row_block = grid.shape[0]//size\n",
        "grid_block = grid[rank*row_block:(rank+1)*row_block]\n",
        "n = grid_block.shape[0]\n",
        "m = grid_block.shape[1]\n",
        "\n",
        "if rank == 0:\n",
        "    fig = plt.figure()\n",
        "    camera = Camera(fig)\n",
        "\n",
        "for step in range(100):\n",
        "    if rank == size-1:\n",
        "        comm.isend(grid_block[0].shape, dest = rank-1)\n",
        "        comm.Send(grid_block[0], dest = rank-1)\n",
        "        comm.isend(grid_block[-1].shape, dest = 0)\n",
        "        comm.Send(grid_block[-1], dest = 0)\n",
        "    elif rank == 0:\n",
        "        comm.isend(grid_block[0].shape, dest = size-1)\n",
        "        comm.Send(grid_block[0], dest = size-1)\n",
        "        comm.isend(grid_block[-1].shape, dest = rank+1)\n",
        "        comm.Send(grid_block[-1], dest = rank+1)\n",
        "    else:\n",
        "        comm.isend(grid_block[0].shape, dest = rank-1)\n",
        "        comm.Send(grid_block[0], dest = rank-1)\n",
        "        comm.isend(grid_block[-1].shape, dest = rank+1)\n",
        "        comm.Send(grid_block[-1], dest = rank+1)\n",
        "    if rank == size-1:\n",
        "        shape = comm.recv(source = rank-1)\n",
        "        first = np.empty(shape, dtype = 'd')\n",
        "        comm.Recv(first, source = rank-1)\n",
        "        shape = comm.recv(source = 0)\n",
        "        last = np.empty(shape, dtype = 'd')\n",
        "        comm.Recv(last, source = 0)\n",
        "    elif rank == 0:\n",
        "        shape = comm.recv(source = size-1)\n",
        "        first = np.empty(shape, dtype = 'd')\n",
        "        comm.Recv(first, source = size-1)\n",
        "        shape = comm.recv(source = rank+1)\n",
        "        last = np.empty(shape, dtype = 'd')\n",
        "        comm.Recv(last, source = rank+1)\n",
        "    else:\n",
        "        shape = comm.recv(source = rank-1)\n",
        "        first = np.empty(shape, dtype = 'd')\n",
        "        comm.Recv(first, source = rank-1)\n",
        "        shape = comm.recv(source = rank+1)\n",
        "        last = np.empty(shape, dtype = 'd')\n",
        "        comm.Recv(last, source = rank+1)\n",
        "\n",
        "    exp_grid = np.zeros(shape=(n+2, m+2))\n",
        "    exp_grid[0,0] = first[-1].copy()\n",
        "    exp_grid[0,-1] = first[0].copy()\n",
        "    exp_grid[-1,0] = last[-1].copy()\n",
        "    exp_grid[-1,-1] = last[0].copy()\n",
        "    exp_grid[1:-1, 0] = grid_block[:, -1].copy()\n",
        "    exp_grid[1:-1, -1] = grid_block[:, 0].copy()\n",
        "    exp_grid[0, 1:-1] = first.copy()\n",
        "    exp_grid[-1, 1:-1] = last.copy()\n",
        "    exp_grid[1:-1, 1:-1] = grid_block.copy()\n",
        "    \n",
        "    new_grid_block = grid_block.copy()\n",
        "    for i in range(grid_block.shape[0]):\n",
        "        for j in range(grid_block.shape[1]):\n",
        "            hood = np.sum(exp_grid[i:i+3, j:j+3])-grid_block[i][j]\n",
        "            if grid_block[i][j] == 0 and hood == 3:\n",
        "                new_grid_block[i][j] = 1\n",
        "            elif grid_block[i,j] == 1 and ((hood<=1) or (hood>=4)):\n",
        "                new_grid_block[i][j] = 0\n",
        "\n",
        "    grid_block = new_grid_block.copy()\n",
        "\n",
        "    new_grid = comm.gather(new_grid_block, root=0)\n",
        "    if rank == 0:\n",
        "        new_grid = np.concatenate(new_grid, axis=0)\n",
        "        plt.axis('off')\n",
        "        plt.imshow(new_grid)\n",
        "        camera.snap()\n",
        "\n",
        "\n",
        "if rank == 0:\n",
        "    animation = camera.animate()\n",
        "    animation.save(f'Gosper_glider_gun.gif', writer = 'pillow', fps=10)\n",
        "\n",
        "\n",
        "end = MPI.Wtime()\n",
        "\n",
        "if rank==0:\n",
        "    print(end-start)"
      ],
      "id": "0cmMQSnKESCy",
      "execution_count": 10,
      "outputs": [
        {
          "output_type": "stream",
          "name": "stdout",
          "text": [
            "Writing gosper.py\n"
          ]
        }
      ]
    },
    {
      "cell_type": "code",
      "metadata": {
        "colab": {
          "base_uri": "https://localhost:8080/"
        },
        "id": "uzHm4bt0zyOH",
        "outputId": "d1e4ce8d-f3a8-4b06-dab1-40f5add07cda"
      },
      "source": [
        "!mpirun --allow-run-as-root -n 3 python gosper.py"
      ],
      "id": "uzHm4bt0zyOH",
      "execution_count": 16,
      "outputs": [
        {
          "output_type": "stream",
          "name": "stdout",
          "text": [
            "56.85844635500143\n"
          ]
        }
      ]
    },
    {
      "cell_type": "code",
      "metadata": {
        "colab": {
          "base_uri": "https://localhost:8080/"
        },
        "id": "Fe3yXbRwX-J1",
        "outputId": "59820f54-279a-4176-bb8c-9bf01c8273d9"
      },
      "source": [
        "%%writefile simkin.py\n",
        "from mpi4py import MPI\n",
        "import numpy as np\n",
        "\n",
        "# 36-cell Simkin gun\n",
        "gun = np.zeros(36*36).reshape(36, 36)\n",
        "\n",
        "gun[1:3, 1:3] = 1\n",
        "gun[1:3, 8:10] = 1\n",
        "\n",
        "gun[4:6, 5:7] = 1\n",
        "\n",
        "gun[10, 23:25] = 1\n",
        "gun[10, 26:28] = 1\n",
        "\n",
        "gun[11:14, 22] = 1\n",
        "gun[11, 28] = 1\n",
        "gun[12, 29] = 1\n",
        "gun[12:14, 32:34] = 1\n",
        "gun[13, 23:25] = 1\n",
        "gun[13, 28] = 1\n",
        "gun[14, 27] = 1\n",
        "\n",
        "gun[18, 21:23] = 1\n",
        "gun[19, 21] = 1\n",
        "gun[20, 22:25] = 1\n",
        "gun[21, 24] = 1\n",
        "\n",
        "\n",
        "start =  MPI.Wtime()\n",
        "\n",
        "comm = MPI.COMM_WORLD\n",
        "size=comm.Get_size()\n",
        "rank=comm.Get_rank()\n",
        "\n",
        "from matplotlib import pyplot as plt\n",
        "from celluloid import Camera\n",
        " \n",
        "grid = gun.copy()\n",
        "\n",
        "row_block = grid.shape[0]//size\n",
        "grid_block = grid[rank*row_block:(rank+1)*row_block]\n",
        "n = grid_block.shape[0]\n",
        "m = grid_block.shape[1]\n",
        "\n",
        "if rank == 0:\n",
        "    fig = plt.figure()\n",
        "    camera = Camera(fig)\n",
        "\n",
        "for step in range(100):\n",
        "    if rank == size-1:\n",
        "        comm.isend(grid_block[0].shape, dest = rank-1)\n",
        "        comm.Send(grid_block[0], dest = rank-1)\n",
        "        comm.isend(grid_block[-1].shape, dest = 0)\n",
        "        comm.Send(grid_block[-1], dest = 0)\n",
        "    elif rank == 0:\n",
        "        comm.isend(grid_block[0].shape, dest = size-1)\n",
        "        comm.Send(grid_block[0], dest = size-1)\n",
        "        comm.isend(grid_block[-1].shape, dest = rank+1)\n",
        "        comm.Send(grid_block[-1], dest = rank+1)\n",
        "    else:\n",
        "        comm.isend(grid_block[0].shape, dest = rank-1)\n",
        "        comm.Send(grid_block[0], dest = rank-1)\n",
        "        comm.isend(grid_block[-1].shape, dest = rank+1)\n",
        "        comm.Send(grid_block[-1], dest = rank+1)\n",
        "    if rank == size-1:\n",
        "        shape = comm.recv(source = rank-1)\n",
        "        first = np.empty(shape, dtype = 'd')\n",
        "        comm.Recv(first, source = rank-1)\n",
        "        shape = comm.recv(source = 0)\n",
        "        last = np.empty(shape, dtype = 'd')\n",
        "        comm.Recv(last, source = 0)\n",
        "    elif rank == 0:\n",
        "        shape = comm.recv(source = size-1)\n",
        "        first = np.empty(shape, dtype = 'd')\n",
        "        comm.Recv(first, source = size-1)\n",
        "        shape = comm.recv(source = rank+1)\n",
        "        last = np.empty(shape, dtype = 'd')\n",
        "        comm.Recv(last, source = rank+1)\n",
        "    else:\n",
        "        shape = comm.recv(source = rank-1)\n",
        "        first = np.empty(shape, dtype = 'd')\n",
        "        comm.Recv(first, source = rank-1)\n",
        "        shape = comm.recv(source = rank+1)\n",
        "        last = np.empty(shape, dtype = 'd')\n",
        "        comm.Recv(last, source = rank+1)\n",
        "\n",
        "    exp_grid = np.zeros(shape=(n+2, m+2))\n",
        "    exp_grid[0,0] = first[-1].copy()\n",
        "    exp_grid[0,-1] = first[0].copy()\n",
        "    exp_grid[-1,0] = last[-1].copy()\n",
        "    exp_grid[-1,-1] = last[0].copy()\n",
        "    exp_grid[1:-1, 0] = grid_block[:, -1].copy()\n",
        "    exp_grid[1:-1, -1] = grid_block[:, 0].copy()\n",
        "    exp_grid[0, 1:-1] = first.copy()\n",
        "    exp_grid[-1, 1:-1] = last.copy()\n",
        "    exp_grid[1:-1, 1:-1] = grid_block.copy()\n",
        "    \n",
        "    new_grid_block = grid_block.copy()\n",
        "    for i in range(grid_block.shape[0]):\n",
        "        for j in range(grid_block.shape[1]):\n",
        "            hood = np.sum(exp_grid[i:i+3, j:j+3])-grid_block[i][j]\n",
        "            if grid_block[i][j] == 0 and hood == 3:\n",
        "                new_grid_block[i][j] = 1\n",
        "            elif grid_block[i,j] == 1 and ((hood<=1) or (hood>=4)):\n",
        "                new_grid_block[i][j] = 0\n",
        "\n",
        "    grid_block = new_grid_block.copy()\n",
        "\n",
        "    new_grid = comm.gather(new_grid_block, root=0)\n",
        "    if rank == 0:\n",
        "        new_grid = np.concatenate(new_grid, axis=0)\n",
        "        plt.axis('off')\n",
        "        plt.imshow(new_grid)\n",
        "        camera.snap()\n",
        "\n",
        "\n",
        "if rank == 0:\n",
        "    animation = camera.animate()\n",
        "    animation.save(f'Simkin_glider_gun.gif', writer = 'pillow', fps=10)\n",
        "\n",
        "\n",
        "end = MPI.Wtime()\n",
        "\n",
        "if rank==0:\n",
        "    print(end-start)"
      ],
      "id": "Fe3yXbRwX-J1",
      "execution_count": 20,
      "outputs": [
        {
          "output_type": "stream",
          "name": "stdout",
          "text": [
            "Overwriting simkin.py\n"
          ]
        }
      ]
    },
    {
      "cell_type": "code",
      "metadata": {
        "colab": {
          "base_uri": "https://localhost:8080/"
        },
        "id": "Aor5Om8vYJXC",
        "outputId": "320582a6-55e5-455b-8b71-0dcc52208810"
      },
      "source": [
        "!mpirun --allow-run-as-root -n 3 python simkin.py"
      ],
      "id": "Aor5Om8vYJXC",
      "execution_count": 21,
      "outputs": [
        {
          "output_type": "stream",
          "name": "stdout",
          "text": [
            "58.402634808000585\n"
          ]
        }
      ]
    },
    {
      "cell_type": "code",
      "metadata": {
        "colab": {
          "base_uri": "https://localhost:8080/"
        },
        "id": "1E3S4UTyYM5h",
        "outputId": "d929ce69-35fe-4edf-ee1c-bc704357487f"
      },
      "source": [
        "%%writefile test.py\n",
        "from mpi4py import MPI\n",
        "import numpy as np\n",
        "\n",
        "start =  MPI.Wtime()\n",
        "\n",
        "comm = MPI.COMM_WORLD\n",
        "size=comm.Get_size()\n",
        "rank=comm.Get_rank()\n",
        "\n",
        "from matplotlib import pyplot as plt\n",
        "from celluloid import Camera\n",
        " \n",
        "n = 20\n",
        "np.random.seed(8)\n",
        "grid = np.random.binomial(1,0.5, size=(n,n))\n",
        "\n",
        "row_block = grid.shape[0]//size\n",
        "grid_block = grid[rank*row_block:(rank+1)*row_block]\n",
        "n = grid_block.shape[0]\n",
        "m = grid_block.shape[1]\n",
        "\n",
        "if rank == 0:\n",
        "    fig = plt.figure()\n",
        "    camera = Camera(fig)\n",
        "\n",
        "for step in range(100):\n",
        "    if rank == size-1:\n",
        "        comm.isend(grid_block[0].shape, dest = rank-1)\n",
        "        comm.Send(grid_block[0], dest = rank-1)\n",
        "        comm.isend(grid_block[-1].shape, dest = 0)\n",
        "        comm.Send(grid_block[-1], dest = 0)\n",
        "    elif rank == 0:\n",
        "        comm.isend(grid_block[0].shape, dest = size-1)\n",
        "        comm.Send(grid_block[0], dest = size-1)\n",
        "        comm.isend(grid_block[-1].shape, dest = rank+1)\n",
        "        comm.Send(grid_block[-1], dest = rank+1)\n",
        "    else:\n",
        "        comm.isend(grid_block[0].shape, dest = rank-1)\n",
        "        comm.Send(grid_block[0], dest = rank-1)\n",
        "        comm.isend(grid_block[-1].shape, dest = rank+1)\n",
        "        comm.Send(grid_block[-1], dest = rank+1)\n",
        "    if rank == size-1:\n",
        "        shape = comm.recv(source = rank-1)\n",
        "        first = np.empty(shape, dtype = 'd')\n",
        "        comm.Recv(first, source = rank-1)\n",
        "        shape = comm.recv(source = 0)\n",
        "        last = np.empty(shape, dtype = 'd')\n",
        "        comm.Recv(last, source = 0)\n",
        "    elif rank == 0:\n",
        "        shape = comm.recv(source = size-1)\n",
        "        first = np.empty(shape, dtype = 'd')\n",
        "        comm.Recv(first, source = size-1)\n",
        "        shape = comm.recv(source = rank+1)\n",
        "        last = np.empty(shape, dtype = 'd')\n",
        "        comm.Recv(last, source = rank+1)\n",
        "    else:\n",
        "        shape = comm.recv(source = rank-1)\n",
        "        first = np.empty(shape, dtype = 'd')\n",
        "        comm.Recv(first, source = rank-1)\n",
        "        shape = comm.recv(source = rank+1)\n",
        "        last = np.empty(shape, dtype = 'd')\n",
        "        comm.Recv(last, source = rank+1)\n",
        "\n",
        "    exp_grid = np.zeros(shape=(n+2, m+2))\n",
        "    exp_grid[0,0] = first[-1].copy()\n",
        "    exp_grid[0,-1] = first[0].copy()\n",
        "    exp_grid[-1,0] = last[-1].copy()\n",
        "    exp_grid[-1,-1] = last[0].copy()\n",
        "    exp_grid[1:-1, 0] = grid_block[:, -1].copy()\n",
        "    exp_grid[1:-1, -1] = grid_block[:, 0].copy()\n",
        "    exp_grid[0, 1:-1] = first.copy()\n",
        "    exp_grid[-1, 1:-1] = last.copy()\n",
        "    exp_grid[1:-1, 1:-1] = grid_block.copy()\n",
        "    \n",
        "    new_grid_block = grid_block.copy()\n",
        "    for i in range(grid_block.shape[0]):\n",
        "        for j in range(grid_block.shape[1]):\n",
        "            hood = np.sum(exp_grid[i:i+3, j:j+3])-grid_block[i][j]\n",
        "            if grid_block[i][j] == 0 and hood == 3:\n",
        "                new_grid_block[i][j] = 1\n",
        "            elif grid_block[i,j] == 1 and ((hood<=1) or (hood>=4)):\n",
        "                new_grid_block[i][j] = 0\n",
        "\n",
        "    grid_block = new_grid_block.copy()\n",
        "\n",
        "    new_grid = comm.gather(new_grid_block, root=0)\n",
        "    if rank == 0:\n",
        "        new_grid = np.concatenate(new_grid, axis=0)\n",
        "        plt.axis('off')\n",
        "        plt.imshow(new_grid)\n",
        "        camera.snap()\n",
        "\n",
        "\n",
        "if rank == 0:\n",
        "    animation = camera.animate()\n",
        "    animation.save(f'Random_gun.gif', writer = 'pillow', fps=10)\n",
        "\n",
        "\n",
        "end = MPI.Wtime()\n",
        "\n",
        "if rank==0:\n",
        "    print(end-start)"
      ],
      "id": "1E3S4UTyYM5h",
      "execution_count": 46,
      "outputs": [
        {
          "output_type": "stream",
          "name": "stdout",
          "text": [
            "Overwriting test.py\n"
          ]
        }
      ]
    },
    {
      "cell_type": "code",
      "metadata": {
        "colab": {
          "base_uri": "https://localhost:8080/"
        },
        "id": "X74SoVLHY3Cw",
        "outputId": "5b4ad884-2ec9-4c58-83f8-c22f09a1c5f8"
      },
      "source": [
        "!mpirun --allow-run-as-root -n 3 python test.py"
      ],
      "id": "X74SoVLHY3Cw",
      "execution_count": 47,
      "outputs": [
        {
          "output_type": "stream",
          "name": "stdout",
          "text": [
            "47.55457481299891\n"
          ]
        }
      ]
    },
    {
      "cell_type": "code",
      "metadata": {
        "ExecuteTime": {
          "end_time": "2021-12-04T12:47:59.920028Z",
          "start_time": "2021-12-04T12:47:59.901977Z"
        },
        "id": "f8aff2c0"
      },
      "source": [
        "# Gosper glider gun\n",
        "gun = np.zeros(38*38).reshape(38, 38)\n",
        " \n",
        "gun[5][1] = 1\n",
        "gun[5][2] = 1\n",
        "gun[6][1] = 1\n",
        "gun[6][2] = 1\n",
        "\n",
        "gun[3][13] = gun[3][14] = 1\n",
        "gun[4][12] = gun[4][16] = 1\n",
        "gun[5][11] = gun[5][17] = 1\n",
        "gun[6][11] = gun[6][15] = gun[6][17] = gun[6][18] = 1\n",
        "gun[7][11] = gun[7][17] = 1\n",
        "gun[8][12] = gun[8][16] = 1\n",
        "gun[9][13] = gun[9][14] = 1\n",
        "\n",
        "gun[1][25] = 1\n",
        "gun[2][23] = gun[2][25] = 1\n",
        "gun[3][21] = gun[3][22] = 1\n",
        "gun[4][21] = gun[4][22] = 1\n",
        "gun[5][21] = gun[5][22] = 1\n",
        "gun[6][23] = gun[6][25] = 1\n",
        "gun[7][25] = 1\n",
        "\n",
        "gun[3][35] = gun[3][36] = 1\n",
        "gun[4][35] = gun[4][36] = 1"
      ],
      "id": "f8aff2c0",
      "execution_count": 26,
      "outputs": []
    },
    {
      "cell_type": "code",
      "metadata": {
        "ExecuteTime": {
          "end_time": "2021-12-04T12:48:00.626478Z",
          "start_time": "2021-12-04T12:48:00.519753Z"
        },
        "id": "19ca5558"
      },
      "source": [
        "grid = gun.copy()\n",
        "gosper_living_cells = [np.sum(grid)]\n",
        "for i in range(100):\n",
        "    grid = live(grid)\n",
        "    gosper_living_cells.append(np.sum(grid))"
      ],
      "id": "19ca5558",
      "execution_count": 27,
      "outputs": []
    },
    {
      "cell_type": "code",
      "metadata": {
        "ExecuteTime": {
          "end_time": "2021-12-04T13:10:12.375164Z",
          "start_time": "2021-12-04T13:10:12.368931Z"
        },
        "id": "da1c2cec"
      },
      "source": [
        "# 36-cell Simkin gun\n",
        "gun = np.zeros(36*36).reshape(36, 36)\n",
        "\n",
        "gun[1:3, 1:3] = 1\n",
        "gun[1:3, 8:10] = 1\n",
        "\n",
        "gun[4:6, 5:7] = 1\n",
        "\n",
        "gun[10, 23:25] = 1\n",
        "gun[10, 26:28] = 1\n",
        "\n",
        "gun[11:14, 22] = 1\n",
        "gun[11, 28] = 1\n",
        "gun[12, 29] = 1\n",
        "gun[12:14, 32:34] = 1\n",
        "gun[13, 23:25] = 1\n",
        "gun[13, 28] = 1\n",
        "gun[14, 27] = 1\n",
        "\n",
        "gun[18, 21:23] = 1\n",
        "gun[19, 21] = 1\n",
        "gun[20, 22:25] = 1\n",
        "gun[21, 24] = 1"
      ],
      "id": "da1c2cec",
      "execution_count": 28,
      "outputs": []
    },
    {
      "cell_type": "code",
      "metadata": {
        "ExecuteTime": {
          "end_time": "2021-12-04T13:10:13.698985Z",
          "start_time": "2021-12-04T13:10:13.600052Z"
        },
        "id": "cde5ab68"
      },
      "source": [
        "grid = gun.copy()\n",
        "simkin_living_cells = [np.sum(grid)]\n",
        "for i in range(100):\n",
        "    grid = live(grid)\n",
        "    simkin_living_cells.append(np.sum(grid))"
      ],
      "id": "cde5ab68",
      "execution_count": 29,
      "outputs": []
    },
    {
      "cell_type": "code",
      "metadata": {
        "id": "h05F8oa0ZoMX"
      },
      "source": [
        "n = 20\n",
        "np.random.seed(8)\n",
        "grid = np.random.binomial(1,0.5, size=(n,n))"
      ],
      "id": "h05F8oa0ZoMX",
      "execution_count": 43,
      "outputs": []
    },
    {
      "cell_type": "code",
      "metadata": {
        "id": "hRyxBSrmZxOF"
      },
      "source": [
        "random_living_cells = [np.sum(grid)]\n",
        "for i in range(100):\n",
        "    grid = live(grid)\n",
        "    random_living_cells.append(np.sum(grid))"
      ],
      "id": "hRyxBSrmZxOF",
      "execution_count": 44,
      "outputs": []
    },
    {
      "cell_type": "code",
      "metadata": {
        "colab": {
          "base_uri": "https://localhost:8080/",
          "height": 367
        },
        "id": "QCIkasz1ZnPm",
        "outputId": "f5d1b4f9-6436-4445-ceac-287e25800e89"
      },
      "source": [
        "plt.figure(figsize=(10,5))\n",
        "plt.title('Evolution of living cells')\n",
        "plt.plot(list(range(101)), gosper_living_cells, label=f'Gosper glider gun')\n",
        "plt.plot(list(range(101)), simkin_living_cells, label=f'Simkin glider gun')\n",
        "plt.plot(list(range(101)), random_living_cells, label=f'Random gun')\n",
        "plt.xlabel('Time')\n",
        "plt.ylabel('# living cells')\n",
        "plt.legend()   "
      ],
      "id": "QCIkasz1ZnPm",
      "execution_count": 45,
      "outputs": [
        {
          "output_type": "execute_result",
          "data": {
            "text/plain": [
              "<matplotlib.legend.Legend at 0x7f7f6422c310>"
            ]
          },
          "metadata": {},
          "execution_count": 45
        },
        {
          "output_type": "display_data",
          "data": {
            "image/png": "[encoded data removed]",
            "text/plain": [
              "<Figure size 720x360 with 1 Axes>"
            ]
          },
          "metadata": {
            "needs_background": "light"
          }
        }
      ]
    }
  ]
}