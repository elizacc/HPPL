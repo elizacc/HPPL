{
  "cells": [
    {
      "cell_type": "code",
      "execution_count": 2,
      "id": "6f85bd77",
      "metadata": {
        "ExecuteTime": {
          "end_time": "2021-12-19T13:40:51.539702Z",
          "start_time": "2021-12-19T13:40:51.532705Z"
        },
        "id": "6f85bd77"
      },
      "outputs": [],
      "source": [
        "import numpy as np\n",
        "import matplotlib.pyplot as plt\n",
        "from tqdm.auto import tqdm"
      ]
    },
    {
      "cell_type": "code",
      "execution_count": 4,
      "id": "QnkMrl3id-m5",
      "metadata": {
        "id": "QnkMrl3id-m5"
      },
      "outputs": [],
      "source": [
        "# !pip install mpi4py"
      ]
    },
    {
      "cell_type": "code",
      "execution_count": 5,
      "id": "843b1763",
      "metadata": {
        "ExecuteTime": {
          "end_time": "2021-12-19T13:12:13.732169Z",
          "start_time": "2021-12-19T13:12:13.724174Z"
        },
        "id": "843b1763"
      },
      "outputs": [],
      "source": [
        "def get_signal(a,b,c,d,e,f,g,h,j,k, n=2**3):\n",
        "    t=np.linspace(-20*2*np.pi, 20*2*np.pi, n)\n",
        "    y=np.sin(a*t)*np.exp(-(t-b*2*np.pi)**c/d/e**2)\n",
        "    y=y+np.sin(f*t)*np.exp(-(t-g*2*np.pi)**h/j/k**2)\n",
        "    return y"
      ]
    },
    {
      "cell_type": "code",
      "execution_count": 77,
      "id": "SKDBWX3IMRy_",
      "metadata": {
        "id": "SKDBWX3IMRy_"
      },
      "outputs": [],
      "source": [
        "np.random.seed(8)\n",
        "signals = []\n",
        "n = 2**4\n",
        "for i in range(100):\n",
        "    a, f = np.random.randint(1,6,size=2)\n",
        "    b, g = np.random.randint(-10, 10, size=2)\n",
        "    c, h = np.random.randint(1, 3, size=2)\n",
        "    d, j = np.random.randint(1, 4, size=2)\n",
        "    e, k = 10 * np.random.randint(1, 4, size=2)\n",
        "    signals.append(get_signal(a,b,c,d,e,f,g,h,j,k,n=n))\n",
        "\n",
        "new_signal = get_signal(3, 0, 2, 2, 20, 1, 5, 2, 2, 20, n=n)\n",
        "t = np.linspace(-20*2*np.pi, 20*2*np.pi, n)"
      ]
    },
    {
      "cell_type": "markdown",
      "id": "008b0ba5",
      "metadata": {
        "id": "008b0ba5"
      },
      "source": [
        "## Algorithms"
      ]
    },
    {
      "cell_type": "markdown",
      "id": "d06da418",
      "metadata": {
        "id": "d06da418"
      },
      "source": [
        "### MPI for cycle"
      ]
    },
    {
      "cell_type": "code",
      "source": [
        "times_mpi1_for = []\n",
        "times_mpi2_for = []\n",
        "times_mpi4_for = []\n",
        "times_mpi6_for = []"
      ],
      "metadata": {
        "id": "RIxAE2tldaLA"
      },
      "id": "RIxAE2tldaLA",
      "execution_count": 80,
      "outputs": []
    },
    {
      "cell_type": "code",
      "execution_count": 7,
      "id": "22e07d6f",
      "metadata": {
        "ExecuteTime": {
          "end_time": "2021-12-19T16:11:56.159908Z",
          "start_time": "2021-12-19T16:11:56.129512Z"
        },
        "colab": {
          "base_uri": "https://localhost:8080/"
        },
        "id": "22e07d6f",
        "outputId": "6a562f96-e3e1-423d-c764-19bdda708cbd"
      },
      "outputs": [
        {
          "output_type": "stream",
          "name": "stdout",
          "text": [
            "Writing shazam_for.py\n"
          ]
        }
      ],
      "source": [
        "%%writefile shazam_for.py\n",
        "from mpi4py import MPI\n",
        "import numpy as np \n",
        "import matplotlib.pyplot as plt\n",
        "import seaborn as sns\n",
        "\n",
        "n = 2**4\n",
        "def get_signal(a,b,c,d,e,f,g,h,j,k, n=n):\n",
        "    t=np.linspace(-20*2*np.pi, 20*2*np.pi, n)\n",
        "    y=np.sin(a*t)*np.exp(-(t-b*2*np.pi)**c/d/e**2)\n",
        "    y=y+np.sin(f*t)*np.exp(-(t-g*2*np.pi)**h/j/k**2)\n",
        "    return y\n",
        "\n",
        "np.random.seed(8)\n",
        "signals = []\n",
        "for i in range(100):\n",
        "    a, f = np.random.randint(1,6,size=2)\n",
        "    b, g = np.random.randint(-10, 10, size=2)\n",
        "    c, h = np.random.randint(1, 3, size=2)\n",
        "    d, j = np.random.randint(1, 4, size=2)\n",
        "    e, k = 10 * np.random.randint(1, 4, size=2)\n",
        "    signals.append(get_signal(a,b,c,d,e,f,g,h,j,k))\n",
        "\n",
        "t=np.linspace(-20*2*np.pi, 20*2*np.pi, n)\n",
        "new_signal = get_signal(3, 0, 2, 2, 20, 1, 5, 2, 2, 20)\n",
        "\n",
        "nwindowsteps=1000\n",
        "window_width = 2.0*2*np.pi\n",
        "\n",
        "#MPI\n",
        "start =  MPI.Wtime()\n",
        "\n",
        "comm = MPI.COMM_WORLD\n",
        "size=comm.Get_size()\n",
        "rank=comm.Get_rank()\n",
        "\n",
        "window_steps = []\n",
        "for n in range(int(rank /size * nwindowsteps), int((rank+1) / size * nwindowsteps)):\n",
        "    window_steps.append(t[0] + (t[-1] - t[0]) * n / nwindowsteps)\n",
        "\n",
        "ys = signals.copy()\n",
        "ys.append(new_signal)\n",
        "\n",
        "if rank == 0:\n",
        "    specgrams = []\n",
        "for y in ys:\n",
        "    specgram = []\n",
        "    for i, window_position in enumerate(window_steps):\n",
        "        y_window = []\n",
        "        for j in range(len(t)):\n",
        "            y_window.append(np.exp(-(t[j] - window_position)**2/2/window_width**2) * y[j])\n",
        "        specgram.append(abs(np.fft.fft(y_window)))\n",
        "    final_specgram = np.array(comm.gather(specgram, root=0))\n",
        "    if rank==0:\n",
        "        final_specgram = np.concatenate(final_specgram, axis=0)\n",
        "        specgrams.append(final_specgram)\n",
        "\n",
        "\n",
        "if rank==0:\n",
        "    specgrams = np.array(specgrams)\n",
        "    for r in range(1, size):\n",
        "        comm.isend(specgrams.shape, dest = r)\n",
        "        comm.Send(specgrams, dest = r)\n",
        "else:\n",
        "    shape = comm.recv(source = 0)\n",
        "    specgrams = np.empty(shape, dtype = 'd')\n",
        "    comm.Recv(specgrams, source = 0)\n",
        "\n",
        "\n",
        "dists = []\n",
        "\n",
        "for i in range(rank*(len(signals)//size), (rank+1)*(len(signals)//size)):\n",
        "    dist = 0\n",
        "    for k in range(nwindowsteps):\n",
        "        for j in range(len(t)):\n",
        "            dist += (specgrams[-1][k][j] - specgrams[i][k][j])**2\n",
        "    dists.append(dist)\n",
        "\n",
        "final_dists = np.array(comm.gather(dists, root=0))\n",
        "if rank==0:\n",
        "    final_dists = np.concatenate(final_dists, axis=0)\n",
        "    best_match = np.argmin(final_dists)\n",
        "\n",
        "end = MPI.Wtime()\n",
        "\n",
        "if rank==0:\n",
        "    print(best_match)\n",
        "    print(end-start)"
      ]
    },
    {
      "cell_type": "code",
      "execution_count": 8,
      "id": "1b078ff8",
      "metadata": {
        "ExecuteTime": {
          "end_time": "2021-12-19T16:12:16.036028Z",
          "start_time": "2021-12-19T16:12:15.977418Z"
        },
        "colab": {
          "base_uri": "https://localhost:8080/"
        },
        "id": "1b078ff8",
        "outputId": "3daaae51-5d8d-4bcf-982f-416ec20e5da5"
      },
      "outputs": [
        {
          "output_type": "stream",
          "name": "stdout",
          "text": [
            "2\n",
            "9.810180150999997\n"
          ]
        }
      ],
      "source": [
        "!mpirun --allow-run-as-root -n 1 python shazam_for.py"
      ]
    },
    {
      "cell_type": "code",
      "execution_count": 9,
      "id": "6abb09a2",
      "metadata": {
        "colab": {
          "base_uri": "https://localhost:8080/"
        },
        "id": "6abb09a2",
        "outputId": "ca0c6e1a-db77-48ca-d3b4-2c8d19a7972d"
      },
      "outputs": [
        {
          "output_type": "stream",
          "name": "stdout",
          "text": [
            "2\n",
            "9.733911133999982\n"
          ]
        }
      ],
      "source": [
        "!mpirun --allow-run-as-root -n 2 python shazam_for.py"
      ]
    },
    {
      "cell_type": "code",
      "execution_count": 10,
      "id": "5612f683",
      "metadata": {
        "colab": {
          "base_uri": "https://localhost:8080/"
        },
        "id": "5612f683",
        "outputId": "7720b478-c081-4493-8b0f-c17359409428"
      },
      "outputs": [
        {
          "output_type": "stream",
          "name": "stdout",
          "text": [
            "2\n",
            "10.296488771000014\n"
          ]
        }
      ],
      "source": [
        "!mpirun --allow-run-as-root -n 4 python shazam_for.py"
      ]
    },
    {
      "cell_type": "code",
      "execution_count": 11,
      "id": "4ac22f93",
      "metadata": {
        "colab": {
          "base_uri": "https://localhost:8080/"
        },
        "id": "4ac22f93",
        "outputId": "8f30040f-d234-453b-d530-bb53174e85e9"
      },
      "outputs": [
        {
          "output_type": "stream",
          "name": "stdout",
          "text": [
            "2\n",
            "10.702649521000012\n",
            "shazam_for.py:52: VisibleDeprecationWarning: Creating an ndarray from ragged nested sequences (which is a list-or-tuple of lists-or-tuples-or ndarrays with different lengths or shapes) is deprecated. If you meant to do this, you must specify 'dtype=object' when creating the ndarray\n",
            "  final_specgram = np.array(comm.gather(specgram, root=0))\n"
          ]
        }
      ],
      "source": [
        "!mpirun --allow-run-as-root -n 6 python shazam_for.py"
      ]
    },
    {
      "cell_type": "code",
      "source": [
        "times_mpi1_for.append(9.810180150999997)\n",
        "times_mpi2_for.append(9.733911133999982)\n",
        "times_mpi4_for.append(10.296488771000014)\n",
        "times_mpi6_for.append(10.702649521000012)"
      ],
      "metadata": {
        "id": "vh7Tn8sgdcjC"
      },
      "id": "vh7Tn8sgdcjC",
      "execution_count": 81,
      "outputs": []
    },
    {
      "cell_type": "code",
      "execution_count": 12,
      "id": "dfcfb0cd",
      "metadata": {
        "colab": {
          "base_uri": "https://localhost:8080/"
        },
        "id": "dfcfb0cd",
        "outputId": "56e5116c-d529-476b-b947-d479ee5b2152"
      },
      "outputs": [
        {
          "output_type": "stream",
          "name": "stdout",
          "text": [
            "Overwriting shazam_for.py\n"
          ]
        }
      ],
      "source": [
        "%%writefile shazam_for.py\n",
        "from mpi4py import MPI\n",
        "import numpy as np \n",
        "import matplotlib.pyplot as plt\n",
        "import seaborn as sns\n",
        "\n",
        "n = 2**5\n",
        "def get_signal(a,b,c,d,e,f,g,h,j,k, n=n):\n",
        "    t=np.linspace(-20*2*np.pi, 20*2*np.pi, n)\n",
        "    y=np.sin(a*t)*np.exp(-(t-b*2*np.pi)**c/d/e**2)\n",
        "    y=y+np.sin(f*t)*np.exp(-(t-g*2*np.pi)**h/j/k**2)\n",
        "    return y\n",
        "\n",
        "np.random.seed(8)\n",
        "signals = []\n",
        "for i in range(100):\n",
        "    a, f = np.random.randint(1,6,size=2)\n",
        "    b, g = np.random.randint(-10, 10, size=2)\n",
        "    c, h = np.random.randint(1, 3, size=2)\n",
        "    d, j = np.random.randint(1, 4, size=2)\n",
        "    e, k = 10 * np.random.randint(1, 4, size=2)\n",
        "    signals.append(get_signal(a,b,c,d,e,f,g,h,j,k))\n",
        "\n",
        "t=np.linspace(-20*2*np.pi, 20*2*np.pi, n)\n",
        "new_signal = get_signal(3, 0, 2, 2, 20, 1, 5, 2, 2, 20)\n",
        "\n",
        "nwindowsteps=1000\n",
        "window_width = 2.0*2*np.pi\n",
        "\n",
        "#MPI\n",
        "start =  MPI.Wtime()\n",
        "\n",
        "comm = MPI.COMM_WORLD\n",
        "size=comm.Get_size()\n",
        "rank=comm.Get_rank()\n",
        "\n",
        "window_steps = []\n",
        "for n in range(int(rank /size * nwindowsteps), int((rank+1) / size * nwindowsteps)):\n",
        "    window_steps.append(t[0] + (t[-1] - t[0]) * n / nwindowsteps)\n",
        "\n",
        "ys = signals.copy()\n",
        "ys.append(new_signal)\n",
        "\n",
        "if rank == 0:\n",
        "    specgrams = []\n",
        "for y in ys:\n",
        "    specgram = []\n",
        "    for i, window_position in enumerate(window_steps):\n",
        "        y_window = []\n",
        "        for j in range(len(t)):\n",
        "            y_window.append(np.exp(-(t[j] - window_position)**2/2/window_width**2) * y[j])\n",
        "        specgram.append(abs(np.fft.fft(y_window)))\n",
        "    final_specgram = np.array(comm.gather(specgram, root=0))\n",
        "    if rank==0:\n",
        "        final_specgram = np.concatenate(final_specgram, axis=0)\n",
        "        specgrams.append(final_specgram)\n",
        "\n",
        "\n",
        "if rank==0:\n",
        "    specgrams = np.array(specgrams)\n",
        "    for r in range(1, size):\n",
        "        comm.isend(specgrams.shape, dest = r)\n",
        "        comm.Send(specgrams, dest = r)\n",
        "else:\n",
        "    shape = comm.recv(source = 0)\n",
        "    specgrams = np.empty(shape, dtype = 'd')\n",
        "    comm.Recv(specgrams, source = 0)\n",
        "\n",
        "\n",
        "dists = []\n",
        "\n",
        "for i in range(rank*(len(signals)//size), (rank+1)*(len(signals)//size)):\n",
        "    dist = 0\n",
        "    for k in range(nwindowsteps):\n",
        "        for j in range(len(t)):\n",
        "            dist += (specgrams[-1][k][j] - specgrams[i][k][j])**2\n",
        "    dists.append(dist)\n",
        "\n",
        "final_dists = np.array(comm.gather(dists, root=0))\n",
        "if rank==0:\n",
        "    final_dists = np.concatenate(final_dists, axis=0)\n",
        "    best_match = np.argmin(final_dists)\n",
        "\n",
        "end = MPI.Wtime()\n",
        "\n",
        "if rank==0:\n",
        "    print(best_match)\n",
        "    print(end-start)"
      ]
    },
    {
      "cell_type": "code",
      "execution_count": 13,
      "id": "58ff2af9",
      "metadata": {
        "colab": {
          "base_uri": "https://localhost:8080/"
        },
        "id": "58ff2af9",
        "outputId": "3f7cd390-68bc-4c00-8c71-0210bd4544df"
      },
      "outputs": [
        {
          "output_type": "stream",
          "name": "stdout",
          "text": [
            "86\n",
            "17.783488887000004\n"
          ]
        }
      ],
      "source": [
        "!mpirun --allow-run-as-root -n 1 python shazam_for.py"
      ]
    },
    {
      "cell_type": "code",
      "execution_count": 14,
      "id": "2244774b",
      "metadata": {
        "colab": {
          "base_uri": "https://localhost:8080/"
        },
        "id": "2244774b",
        "outputId": "78a1d8da-cd92-40bb-85e5-11b60ea4d8f3"
      },
      "outputs": [
        {
          "output_type": "stream",
          "name": "stdout",
          "text": [
            "86\n",
            "17.979641979000007\n"
          ]
        }
      ],
      "source": [
        "!mpirun --allow-run-as-root -n 2 python shazam_for.py"
      ]
    },
    {
      "cell_type": "code",
      "execution_count": 15,
      "id": "bdd4eab0",
      "metadata": {
        "colab": {
          "base_uri": "https://localhost:8080/"
        },
        "id": "bdd4eab0",
        "outputId": "aef83503-0c88-41ef-dc87-b26fdf1bda81"
      },
      "outputs": [
        {
          "output_type": "stream",
          "name": "stdout",
          "text": [
            "86\n",
            "18.458956867999973\n"
          ]
        }
      ],
      "source": [
        "!mpirun --allow-run-as-root -n 4 python shazam_for.py"
      ]
    },
    {
      "cell_type": "code",
      "execution_count": 16,
      "id": "830d4276",
      "metadata": {
        "colab": {
          "base_uri": "https://localhost:8080/"
        },
        "id": "830d4276",
        "outputId": "4f868d19-15a1-4905-fe46-30de3ddd43a9"
      },
      "outputs": [
        {
          "output_type": "stream",
          "name": "stdout",
          "text": [
            "86\n",
            "19.432519290000016\n",
            "shazam_for.py:52: VisibleDeprecationWarning: Creating an ndarray from ragged nested sequences (which is a list-or-tuple of lists-or-tuples-or ndarrays with different lengths or shapes) is deprecated. If you meant to do this, you must specify 'dtype=object' when creating the ndarray\n",
            "  final_specgram = np.array(comm.gather(specgram, root=0))\n"
          ]
        }
      ],
      "source": [
        "!mpirun --allow-run-as-root -n 6 python shazam_for.py"
      ]
    },
    {
      "cell_type": "code",
      "source": [
        "times_mpi1_for.append(17.783488887000004)\n",
        "times_mpi2_for.append(17.979641979000007)\n",
        "times_mpi4_for.append(18.458956867999973)\n",
        "times_mpi6_for.append(19.432519290000016)"
      ],
      "metadata": {
        "id": "45IkUnKidwUi"
      },
      "id": "45IkUnKidwUi",
      "execution_count": 82,
      "outputs": []
    },
    {
      "cell_type": "code",
      "execution_count": 17,
      "id": "b43926a3",
      "metadata": {
        "colab": {
          "base_uri": "https://localhost:8080/"
        },
        "id": "b43926a3",
        "outputId": "2564147d-19c6-4073-c7cd-821328fe7106"
      },
      "outputs": [
        {
          "output_type": "stream",
          "name": "stdout",
          "text": [
            "Overwriting shazam_for.py\n"
          ]
        }
      ],
      "source": [
        "%%writefile shazam_for.py\n",
        "from mpi4py import MPI\n",
        "import numpy as np \n",
        "import matplotlib.pyplot as plt\n",
        "import seaborn as sns\n",
        "\n",
        "n = 2**6\n",
        "def get_signal(a,b,c,d,e,f,g,h,j,k, n=n):\n",
        "    t=np.linspace(-20*2*np.pi, 20*2*np.pi, n)\n",
        "    y=np.sin(a*t)*np.exp(-(t-b*2*np.pi)**c/d/e**2)\n",
        "    y=y+np.sin(f*t)*np.exp(-(t-g*2*np.pi)**h/j/k**2)\n",
        "    return y\n",
        "\n",
        "np.random.seed(8)\n",
        "signals = []\n",
        "for i in range(100):\n",
        "    a, f = np.random.randint(1,6,size=2)\n",
        "    b, g = np.random.randint(-10, 10, size=2)\n",
        "    c, h = np.random.randint(1, 3, size=2)\n",
        "    d, j = np.random.randint(1, 4, size=2)\n",
        "    e, k = 10 * np.random.randint(1, 4, size=2)\n",
        "    signals.append(get_signal(a,b,c,d,e,f,g,h,j,k))\n",
        "\n",
        "t=np.linspace(-20*2*np.pi, 20*2*np.pi, n)\n",
        "new_signal = get_signal(3, 0, 2, 2, 20, 1, 5, 2, 2, 20)\n",
        "\n",
        "nwindowsteps=1000\n",
        "window_width = 2.0*2*np.pi\n",
        "\n",
        "#MPI\n",
        "start =  MPI.Wtime()\n",
        "\n",
        "comm = MPI.COMM_WORLD\n",
        "size=comm.Get_size()\n",
        "rank=comm.Get_rank()\n",
        "\n",
        "window_steps = []\n",
        "for n in range(int(rank /size * nwindowsteps), int((rank+1) / size * nwindowsteps)):\n",
        "    window_steps.append(t[0] + (t[-1] - t[0]) * n / nwindowsteps)\n",
        "\n",
        "ys = signals.copy()\n",
        "ys.append(new_signal)\n",
        "\n",
        "if rank == 0:\n",
        "    specgrams = []\n",
        "for y in ys:\n",
        "    specgram = []\n",
        "    for i, window_position in enumerate(window_steps):\n",
        "        y_window = []\n",
        "        for j in range(len(t)):\n",
        "            y_window.append(np.exp(-(t[j] - window_position)**2/2/window_width**2) * y[j])\n",
        "        specgram.append(abs(np.fft.fft(y_window)))\n",
        "    final_specgram = np.array(comm.gather(specgram, root=0))\n",
        "    if rank==0:\n",
        "        final_specgram = np.concatenate(final_specgram, axis=0)\n",
        "        specgrams.append(final_specgram)\n",
        "\n",
        "\n",
        "if rank==0:\n",
        "    specgrams = np.array(specgrams)\n",
        "    for r in range(1, size):\n",
        "        comm.isend(specgrams.shape, dest = r)\n",
        "        comm.Send(specgrams, dest = r)\n",
        "else:\n",
        "    shape = comm.recv(source = 0)\n",
        "    specgrams = np.empty(shape, dtype = 'd')\n",
        "    comm.Recv(specgrams, source = 0)\n",
        "\n",
        "\n",
        "dists = []\n",
        "\n",
        "for i in range(rank*(len(signals)//size), (rank+1)*(len(signals)//size)):\n",
        "    dist = 0\n",
        "    for k in range(nwindowsteps):\n",
        "        for j in range(len(t)):\n",
        "            dist += (specgrams[-1][k][j] - specgrams[i][k][j])**2\n",
        "    dists.append(dist)\n",
        "\n",
        "final_dists = np.array(comm.gather(dists, root=0))\n",
        "if rank==0:\n",
        "    final_dists = np.concatenate(final_dists, axis=0)\n",
        "    best_match = np.argmin(final_dists)\n",
        "\n",
        "end = MPI.Wtime()\n",
        "\n",
        "if rank==0:\n",
        "    print(best_match)\n",
        "    print(end-start)"
      ]
    },
    {
      "cell_type": "code",
      "execution_count": 18,
      "id": "a3d3b54d",
      "metadata": {
        "colab": {
          "base_uri": "https://localhost:8080/"
        },
        "id": "a3d3b54d",
        "outputId": "779a577d-9dd6-4129-beb2-54ed960ee501"
      },
      "outputs": [
        {
          "output_type": "stream",
          "name": "stdout",
          "text": [
            "57\n",
            "33.82063869000001\n"
          ]
        }
      ],
      "source": [
        "!mpirun --allow-run-as-root -n 1 python shazam_for.py"
      ]
    },
    {
      "cell_type": "code",
      "execution_count": 19,
      "id": "69dadafb",
      "metadata": {
        "colab": {
          "base_uri": "https://localhost:8080/"
        },
        "id": "69dadafb",
        "outputId": "4fedf4b9-83a7-41f3-ebcf-d11544639857"
      },
      "outputs": [
        {
          "output_type": "stream",
          "name": "stdout",
          "text": [
            "57\n",
            "35.374220955\n"
          ]
        }
      ],
      "source": [
        "!mpirun --allow-run-as-root -n 2 python shazam_for.py"
      ]
    },
    {
      "cell_type": "code",
      "execution_count": 20,
      "id": "b0aa294d",
      "metadata": {
        "colab": {
          "base_uri": "https://localhost:8080/"
        },
        "id": "b0aa294d",
        "outputId": "4902d345-42f0-43ac-8275-b81450c6881d"
      },
      "outputs": [
        {
          "output_type": "stream",
          "name": "stdout",
          "text": [
            "57\n",
            "35.555941400999984\n"
          ]
        }
      ],
      "source": [
        "!mpirun --allow-run-as-root -n 4 python shazam_for.py"
      ]
    },
    {
      "cell_type": "code",
      "execution_count": 21,
      "id": "f6da0c76",
      "metadata": {
        "colab": {
          "base_uri": "https://localhost:8080/"
        },
        "id": "f6da0c76",
        "outputId": "bb97a2db-8826-48d1-f5a9-716bee198e6c"
      },
      "outputs": [
        {
          "output_type": "stream",
          "name": "stdout",
          "text": [
            "57\n",
            "36.268093498999974\n",
            "shazam_for.py:52: VisibleDeprecationWarning: Creating an ndarray from ragged nested sequences (which is a list-or-tuple of lists-or-tuples-or ndarrays with different lengths or shapes) is deprecated. If you meant to do this, you must specify 'dtype=object' when creating the ndarray\n",
            "  final_specgram = np.array(comm.gather(specgram, root=0))\n"
          ]
        }
      ],
      "source": [
        "!mpirun --allow-run-as-root -n 6 python shazam_for.py"
      ]
    },
    {
      "cell_type": "code",
      "source": [
        "times_mpi1_for.append(33.82063869000001)\n",
        "times_mpi2_for.append(35.374220955)\n",
        "times_mpi4_for.append(35.555941400999984)\n",
        "times_mpi6_for.append(36.268093498999974)"
      ],
      "metadata": {
        "id": "0oMXaD_5d3dD"
      },
      "id": "0oMXaD_5d3dD",
      "execution_count": 83,
      "outputs": []
    },
    {
      "cell_type": "code",
      "execution_count": 22,
      "id": "f994f74f",
      "metadata": {
        "colab": {
          "base_uri": "https://localhost:8080/"
        },
        "id": "f994f74f",
        "outputId": "6cd5a05d-3d3b-42fb-db0e-d71db31884cb"
      },
      "outputs": [
        {
          "output_type": "stream",
          "name": "stdout",
          "text": [
            "Overwriting shazam_for.py\n"
          ]
        }
      ],
      "source": [
        "%%writefile shazam_for.py\n",
        "from mpi4py import MPI\n",
        "import numpy as np \n",
        "import matplotlib.pyplot as plt\n",
        "import seaborn as sns\n",
        "\n",
        "n = 2**7\n",
        "def get_signal(a,b,c,d,e,f,g,h,j,k, n=n):\n",
        "    t=np.linspace(-20*2*np.pi, 20*2*np.pi, n)\n",
        "    y=np.sin(a*t)*np.exp(-(t-b*2*np.pi)**c/d/e**2)\n",
        "    y=y+np.sin(f*t)*np.exp(-(t-g*2*np.pi)**h/j/k**2)\n",
        "    return y\n",
        "\n",
        "np.random.seed(8)\n",
        "signals = []\n",
        "for i in range(100):\n",
        "    a, f = np.random.randint(1,6,size=2)\n",
        "    b, g = np.random.randint(-10, 10, size=2)\n",
        "    c, h = np.random.randint(1, 3, size=2)\n",
        "    d, j = np.random.randint(1, 4, size=2)\n",
        "    e, k = 10 * np.random.randint(1, 4, size=2)\n",
        "    signals.append(get_signal(a,b,c,d,e,f,g,h,j,k))\n",
        "\n",
        "t=np.linspace(-20*2*np.pi, 20*2*np.pi, n)\n",
        "new_signal = get_signal(3, 0, 2, 2, 20, 1, 5, 2, 2, 20)\n",
        "\n",
        "nwindowsteps=1000\n",
        "window_width = 2.0*2*np.pi\n",
        "\n",
        "#MPI\n",
        "start =  MPI.Wtime()\n",
        "\n",
        "comm = MPI.COMM_WORLD\n",
        "size=comm.Get_size()\n",
        "rank=comm.Get_rank()\n",
        "\n",
        "window_steps = []\n",
        "for n in range(int(rank /size * nwindowsteps), int((rank+1) / size * nwindowsteps)):\n",
        "    window_steps.append(t[0] + (t[-1] - t[0]) * n / nwindowsteps)\n",
        "\n",
        "ys = signals.copy()\n",
        "ys.append(new_signal)\n",
        "\n",
        "if rank == 0:\n",
        "    specgrams = []\n",
        "for y in ys:\n",
        "    specgram = []\n",
        "    for i, window_position in enumerate(window_steps):\n",
        "        y_window = []\n",
        "        for j in range(len(t)):\n",
        "            y_window.append(np.exp(-(t[j] - window_position)**2/2/window_width**2) * y[j])\n",
        "        specgram.append(abs(np.fft.fft(y_window)))\n",
        "    final_specgram = np.array(comm.gather(specgram, root=0))\n",
        "    if rank==0:\n",
        "        final_specgram = np.concatenate(final_specgram, axis=0)\n",
        "        specgrams.append(final_specgram)\n",
        "\n",
        "\n",
        "if rank==0:\n",
        "    specgrams = np.array(specgrams)\n",
        "    for r in range(1, size):\n",
        "        comm.isend(specgrams.shape, dest = r)\n",
        "        comm.Send(specgrams, dest = r)\n",
        "else:\n",
        "    shape = comm.recv(source = 0)\n",
        "    specgrams = np.empty(shape, dtype = 'd')\n",
        "    comm.Recv(specgrams, source = 0)\n",
        "\n",
        "\n",
        "dists = []\n",
        "\n",
        "for i in range(rank*(len(signals)//size), (rank+1)*(len(signals)//size)):\n",
        "    dist = 0\n",
        "    for k in range(nwindowsteps):\n",
        "        for j in range(len(t)):\n",
        "            dist += (specgrams[-1][k][j] - specgrams[i][k][j])**2\n",
        "    dists.append(dist)\n",
        "\n",
        "final_dists = np.array(comm.gather(dists, root=0))\n",
        "if rank==0:\n",
        "    final_dists = np.concatenate(final_dists, axis=0)\n",
        "    best_match = np.argmin(final_dists)\n",
        "\n",
        "end = MPI.Wtime()\n",
        "\n",
        "if rank==0:\n",
        "    print(best_match)\n",
        "    print(end-start)"
      ]
    },
    {
      "cell_type": "code",
      "execution_count": 23,
      "id": "96389026",
      "metadata": {
        "colab": {
          "base_uri": "https://localhost:8080/"
        },
        "id": "96389026",
        "outputId": "c54a62bc-3e8c-443d-ad34-74e64f80ef2b"
      },
      "outputs": [
        {
          "output_type": "stream",
          "name": "stdout",
          "text": [
            "57\n",
            "67.68757347799999\n"
          ]
        }
      ],
      "source": [
        "!mpirun --allow-run-as-root -n 1 python shazam_for.py"
      ]
    },
    {
      "cell_type": "code",
      "execution_count": 24,
      "id": "d8915997",
      "metadata": {
        "colab": {
          "base_uri": "https://localhost:8080/"
        },
        "id": "d8915997",
        "outputId": "fed417e7-8415-4131-8cbc-0f15d1103592"
      },
      "outputs": [
        {
          "output_type": "stream",
          "name": "stdout",
          "text": [
            "57\n",
            "71.39273413399997\n"
          ]
        }
      ],
      "source": [
        "!mpirun --allow-run-as-root -n 2 python shazam_for.py"
      ]
    },
    {
      "cell_type": "code",
      "execution_count": 25,
      "id": "d4a4af8f",
      "metadata": {
        "colab": {
          "base_uri": "https://localhost:8080/"
        },
        "id": "d4a4af8f",
        "outputId": "60d42ffb-e408-4fa6-ea1f-689110b0897c"
      },
      "outputs": [
        {
          "output_type": "stream",
          "name": "stdout",
          "text": [
            "57\n",
            "70.00460129800001\n"
          ]
        }
      ],
      "source": [
        "!mpirun --allow-run-as-root -n 4 python shazam_for.py"
      ]
    },
    {
      "cell_type": "code",
      "execution_count": 26,
      "id": "a8963e8c",
      "metadata": {
        "colab": {
          "base_uri": "https://localhost:8080/"
        },
        "id": "a8963e8c",
        "outputId": "2fa75dfe-67c4-4b44-cff4-b017049c67f6"
      },
      "outputs": [
        {
          "output_type": "stream",
          "name": "stdout",
          "text": [
            "57\n",
            "69.82481357300003\n",
            "shazam_for.py:52: VisibleDeprecationWarning: Creating an ndarray from ragged nested sequences (which is a list-or-tuple of lists-or-tuples-or ndarrays with different lengths or shapes) is deprecated. If you meant to do this, you must specify 'dtype=object' when creating the ndarray\n",
            "  final_specgram = np.array(comm.gather(specgram, root=0))\n"
          ]
        }
      ],
      "source": [
        "!mpirun --allow-run-as-root -n 6 python shazam_for.py"
      ]
    },
    {
      "cell_type": "code",
      "source": [
        "times_mpi1_for.append(67.68757347799999)\n",
        "times_mpi2_for.append(71.39273413399997)\n",
        "times_mpi4_for.append(70.00460129800001)\n",
        "times_mpi6_for.append(69.82481357300003)"
      ],
      "metadata": {
        "id": "k5hKZT8od-fm"
      },
      "id": "k5hKZT8od-fm",
      "execution_count": 84,
      "outputs": []
    },
    {
      "cell_type": "code",
      "execution_count": 27,
      "id": "dff8459d",
      "metadata": {
        "colab": {
          "base_uri": "https://localhost:8080/"
        },
        "id": "dff8459d",
        "outputId": "0d3150b5-2f56-4620-be7a-14ea35a31d08"
      },
      "outputs": [
        {
          "output_type": "stream",
          "name": "stdout",
          "text": [
            "Overwriting shazam_for.py\n"
          ]
        }
      ],
      "source": [
        "%%writefile shazam_for.py\n",
        "from mpi4py import MPI\n",
        "import numpy as np \n",
        "import matplotlib.pyplot as plt\n",
        "import seaborn as sns\n",
        "\n",
        "n = 2**8\n",
        "def get_signal(a,b,c,d,e,f,g,h,j,k, n=n):\n",
        "    t=np.linspace(-20*2*np.pi, 20*2*np.pi, n)\n",
        "    y=np.sin(a*t)*np.exp(-(t-b*2*np.pi)**c/d/e**2)\n",
        "    y=y+np.sin(f*t)*np.exp(-(t-g*2*np.pi)**h/j/k**2)\n",
        "    return y\n",
        "\n",
        "np.random.seed(8)\n",
        "signals = []\n",
        "for i in range(100):\n",
        "    a, f = np.random.randint(1,6,size=2)\n",
        "    b, g = np.random.randint(-10, 10, size=2)\n",
        "    c, h = np.random.randint(1, 3, size=2)\n",
        "    d, j = np.random.randint(1, 4, size=2)\n",
        "    e, k = 10 * np.random.randint(1, 4, size=2)\n",
        "    signals.append(get_signal(a,b,c,d,e,f,g,h,j,k))\n",
        "\n",
        "t=np.linspace(-20*2*np.pi, 20*2*np.pi, n)\n",
        "new_signal = get_signal(3, 0, 2, 2, 20, 1, 5, 2, 2, 20)\n",
        "\n",
        "nwindowsteps=1000\n",
        "window_width = 2.0*2*np.pi\n",
        "\n",
        "#MPI\n",
        "start =  MPI.Wtime()\n",
        "\n",
        "comm = MPI.COMM_WORLD\n",
        "size=comm.Get_size()\n",
        "rank=comm.Get_rank()\n",
        "\n",
        "window_steps = []\n",
        "for n in range(int(rank /size * nwindowsteps), int((rank+1) / size * nwindowsteps)):\n",
        "    window_steps.append(t[0] + (t[-1] - t[0]) * n / nwindowsteps)\n",
        "\n",
        "ys = signals.copy()\n",
        "ys.append(new_signal)\n",
        "\n",
        "if rank == 0:\n",
        "    specgrams = []\n",
        "for y in ys:\n",
        "    specgram = []\n",
        "    for i, window_position in enumerate(window_steps):\n",
        "        y_window = []\n",
        "        for j in range(len(t)):\n",
        "            y_window.append(np.exp(-(t[j] - window_position)**2/2/window_width**2) * y[j])\n",
        "        specgram.append(abs(np.fft.fft(y_window)))\n",
        "    final_specgram = np.array(comm.gather(specgram, root=0))\n",
        "    if rank==0:\n",
        "        final_specgram = np.concatenate(final_specgram, axis=0)\n",
        "        specgrams.append(final_specgram)\n",
        "\n",
        "\n",
        "if rank==0:\n",
        "    specgrams = np.array(specgrams)\n",
        "    for r in range(1, size):\n",
        "        comm.isend(specgrams.shape, dest = r)\n",
        "        comm.Send(specgrams, dest = r)\n",
        "else:\n",
        "    shape = comm.recv(source = 0)\n",
        "    specgrams = np.empty(shape, dtype = 'd')\n",
        "    comm.Recv(specgrams, source = 0)\n",
        "\n",
        "\n",
        "dists = []\n",
        "\n",
        "for i in range(rank*(len(signals)//size), (rank+1)*(len(signals)//size)):\n",
        "    dist = 0\n",
        "    for k in range(nwindowsteps):\n",
        "        for j in range(len(t)):\n",
        "            dist += (specgrams[-1][k][j] - specgrams[i][k][j])**2\n",
        "    dists.append(dist)\n",
        "\n",
        "final_dists = np.array(comm.gather(dists, root=0))\n",
        "if rank==0:\n",
        "    final_dists = np.concatenate(final_dists, axis=0)\n",
        "    best_match = np.argmin(final_dists)\n",
        "\n",
        "end = MPI.Wtime()\n",
        "\n",
        "if rank==0:\n",
        "    print(best_match)\n",
        "    print(end-start)"
      ]
    },
    {
      "cell_type": "code",
      "execution_count": 28,
      "id": "00b9694e",
      "metadata": {
        "colab": {
          "base_uri": "https://localhost:8080/"
        },
        "id": "00b9694e",
        "outputId": "9842c347-6e2b-4ff7-c5fc-dc5f32ec9d85"
      },
      "outputs": [
        {
          "output_type": "stream",
          "name": "stdout",
          "text": [
            "57\n",
            "134.39000193899994\n"
          ]
        }
      ],
      "source": [
        "!mpirun --allow-run-as-root -n 1 python shazam_for.py"
      ]
    },
    {
      "cell_type": "code",
      "execution_count": 29,
      "id": "8680193c",
      "metadata": {
        "colab": {
          "base_uri": "https://localhost:8080/"
        },
        "id": "8680193c",
        "outputId": "3b5671a4-5bd2-425d-ceb1-cd0292a63f63"
      },
      "outputs": [
        {
          "output_type": "stream",
          "name": "stdout",
          "text": [
            "57\n",
            "134.48301540900002\n"
          ]
        }
      ],
      "source": [
        "!mpirun --allow-run-as-root -n 2 python shazam_for.py"
      ]
    },
    {
      "cell_type": "code",
      "execution_count": 30,
      "id": "71931818",
      "metadata": {
        "colab": {
          "base_uri": "https://localhost:8080/"
        },
        "id": "71931818",
        "outputId": "60998aed-64e2-409e-bd71-dac9703281c3"
      },
      "outputs": [
        {
          "output_type": "stream",
          "name": "stdout",
          "text": [
            "57\n",
            "136.80690722999998\n"
          ]
        }
      ],
      "source": [
        "!mpirun --allow-run-as-root -n 4 python shazam_for.py"
      ]
    },
    {
      "cell_type": "code",
      "execution_count": 31,
      "id": "c69fc75f",
      "metadata": {
        "colab": {
          "base_uri": "https://localhost:8080/"
        },
        "id": "c69fc75f",
        "outputId": "96cd4936-d54b-4898-bb80-fdd5b938f8d3"
      },
      "outputs": [
        {
          "output_type": "stream",
          "name": "stdout",
          "text": [
            "57\n",
            "137.85147635700014\n",
            "shazam_for.py:52: VisibleDeprecationWarning: Creating an ndarray from ragged nested sequences (which is a list-or-tuple of lists-or-tuples-or ndarrays with different lengths or shapes) is deprecated. If you meant to do this, you must specify 'dtype=object' when creating the ndarray\n",
            "  final_specgram = np.array(comm.gather(specgram, root=0))\n"
          ]
        }
      ],
      "source": [
        "!mpirun --allow-run-as-root -n 6 python shazam_for.py"
      ]
    },
    {
      "cell_type": "code",
      "source": [
        "times_mpi1_for.append(134.39000193899994)\n",
        "times_mpi2_for.append(134.48301540900002)\n",
        "times_mpi4_for.append(136.80690722999998)\n",
        "times_mpi6_for.append(137.85147635700014)"
      ],
      "metadata": {
        "id": "daegJZTgeNLu"
      },
      "id": "daegJZTgeNLu",
      "execution_count": 85,
      "outputs": []
    },
    {
      "cell_type": "code",
      "execution_count": 32,
      "id": "acb6c8ef",
      "metadata": {
        "colab": {
          "base_uri": "https://localhost:8080/"
        },
        "id": "acb6c8ef",
        "outputId": "9275a3ad-fc10-44dd-b0ad-efa3fc6a8606"
      },
      "outputs": [
        {
          "output_type": "stream",
          "name": "stdout",
          "text": [
            "Overwriting shazam_for.py\n"
          ]
        }
      ],
      "source": [
        "%%writefile shazam_for.py\n",
        "from mpi4py import MPI\n",
        "import numpy as np \n",
        "import matplotlib.pyplot as plt\n",
        "import seaborn as sns\n",
        "\n",
        "n = 2**9\n",
        "def get_signal(a,b,c,d,e,f,g,h,j,k, n=n):\n",
        "    t=np.linspace(-20*2*np.pi, 20*2*np.pi, n)\n",
        "    y=np.sin(a*t)*np.exp(-(t-b*2*np.pi)**c/d/e**2)\n",
        "    y=y+np.sin(f*t)*np.exp(-(t-g*2*np.pi)**h/j/k**2)\n",
        "    return y\n",
        "\n",
        "np.random.seed(8)\n",
        "signals = []\n",
        "for i in range(100):\n",
        "    a, f = np.random.randint(1,6,size=2)\n",
        "    b, g = np.random.randint(-10, 10, size=2)\n",
        "    c, h = np.random.randint(1, 3, size=2)\n",
        "    d, j = np.random.randint(1, 4, size=2)\n",
        "    e, k = 10 * np.random.randint(1, 4, size=2)\n",
        "    signals.append(get_signal(a,b,c,d,e,f,g,h,j,k))\n",
        "\n",
        "t=np.linspace(-20*2*np.pi, 20*2*np.pi, n)\n",
        "new_signal = get_signal(3, 0, 2, 2, 20, 1, 5, 2, 2, 20)\n",
        "\n",
        "nwindowsteps=1000\n",
        "window_width = 2.0*2*np.pi\n",
        "\n",
        "#MPI\n",
        "start =  MPI.Wtime()\n",
        "\n",
        "comm = MPI.COMM_WORLD\n",
        "size=comm.Get_size()\n",
        "rank=comm.Get_rank()\n",
        "\n",
        "window_steps = []\n",
        "for n in range(int(rank /size * nwindowsteps), int((rank+1) / size * nwindowsteps)):\n",
        "    window_steps.append(t[0] + (t[-1] - t[0]) * n / nwindowsteps)\n",
        "\n",
        "ys = signals.copy()\n",
        "ys.append(new_signal)\n",
        "\n",
        "if rank == 0:\n",
        "    specgrams = []\n",
        "for y in ys:\n",
        "    specgram = []\n",
        "    for i, window_position in enumerate(window_steps):\n",
        "        y_window = []\n",
        "        for j in range(len(t)):\n",
        "            y_window.append(np.exp(-(t[j] - window_position)**2/2/window_width**2) * y[j])\n",
        "        specgram.append(abs(np.fft.fft(y_window)))\n",
        "    final_specgram = np.array(comm.gather(specgram, root=0))\n",
        "    if rank==0:\n",
        "        final_specgram = np.concatenate(final_specgram, axis=0)\n",
        "        specgrams.append(final_specgram)\n",
        "\n",
        "\n",
        "if rank==0:\n",
        "    specgrams = np.array(specgrams)\n",
        "    for r in range(1, size):\n",
        "        comm.isend(specgrams.shape, dest = r)\n",
        "        comm.Send(specgrams, dest = r)\n",
        "else:\n",
        "    shape = comm.recv(source = 0)\n",
        "    specgrams = np.empty(shape, dtype = 'd')\n",
        "    comm.Recv(specgrams, source = 0)\n",
        "\n",
        "\n",
        "dists = []\n",
        "\n",
        "for i in range(rank*(len(signals)//size), (rank+1)*(len(signals)//size)):\n",
        "    dist = 0\n",
        "    for k in range(nwindowsteps):\n",
        "        for j in range(len(t)):\n",
        "            dist += (specgrams[-1][k][j] - specgrams[i][k][j])**2\n",
        "    dists.append(dist)\n",
        "\n",
        "final_dists = np.array(comm.gather(dists, root=0))\n",
        "if rank==0:\n",
        "    final_dists = np.concatenate(final_dists, axis=0)\n",
        "    best_match = np.argmin(final_dists)\n",
        "\n",
        "end = MPI.Wtime()\n",
        "\n",
        "if rank==0:\n",
        "    print(best_match)\n",
        "    print(end-start)"
      ]
    },
    {
      "cell_type": "code",
      "execution_count": 33,
      "id": "27a1b4d4",
      "metadata": {
        "colab": {
          "base_uri": "https://localhost:8080/"
        },
        "id": "27a1b4d4",
        "outputId": "993c0628-3436-44ac-ac2d-19eabe87211d"
      },
      "outputs": [
        {
          "output_type": "stream",
          "name": "stdout",
          "text": [
            "57\n",
            "261.9238926989999\n"
          ]
        }
      ],
      "source": [
        "!mpirun --allow-run-as-root -n 1 python shazam_for.py"
      ]
    },
    {
      "cell_type": "code",
      "execution_count": 34,
      "id": "5e169997",
      "metadata": {
        "colab": {
          "base_uri": "https://localhost:8080/"
        },
        "id": "5e169997",
        "outputId": "8bcb8428-8338-4d37-d751-1789a2153c26"
      },
      "outputs": [
        {
          "output_type": "stream",
          "name": "stdout",
          "text": [
            "57\n",
            "268.37424104\n"
          ]
        }
      ],
      "source": [
        "!mpirun --allow-run-as-root -n 2 python shazam_for.py"
      ]
    },
    {
      "cell_type": "code",
      "execution_count": 35,
      "id": "e4356256",
      "metadata": {
        "colab": {
          "base_uri": "https://localhost:8080/"
        },
        "id": "e4356256",
        "outputId": "2a5a9111-361d-4310-f8e6-216c234da5e9"
      },
      "outputs": [
        {
          "output_type": "stream",
          "name": "stdout",
          "text": [
            "57\n",
            "276.06663571399986\n"
          ]
        }
      ],
      "source": [
        "!mpirun --allow-run-as-root -n 4 python shazam_for.py"
      ]
    },
    {
      "cell_type": "code",
      "execution_count": 36,
      "id": "dd35cb17",
      "metadata": {
        "colab": {
          "base_uri": "https://localhost:8080/"
        },
        "id": "dd35cb17",
        "outputId": "11f41a47-0b58-43ed-84a6-a5149d4a0c1c"
      },
      "outputs": [
        {
          "output_type": "stream",
          "name": "stdout",
          "text": [
            "57\n",
            "275.97794850699984\n",
            "shazam_for.py:52: VisibleDeprecationWarning: Creating an ndarray from ragged nested sequences (which is a list-or-tuple of lists-or-tuples-or ndarrays with different lengths or shapes) is deprecated. If you meant to do this, you must specify 'dtype=object' when creating the ndarray\n",
            "  final_specgram = np.array(comm.gather(specgram, root=0))\n"
          ]
        }
      ],
      "source": [
        "!mpirun --allow-run-as-root -n 6 python shazam_for.py"
      ]
    },
    {
      "cell_type": "code",
      "source": [
        "times_mpi1_for.append(261.9238926989999)\n",
        "times_mpi2_for.append(268.37424104)\n",
        "times_mpi4_for.append(276.06663571399986)\n",
        "times_mpi6_for.append(275.97794850699984)"
      ],
      "metadata": {
        "id": "rBqpws-xeTjG"
      },
      "id": "rBqpws-xeTjG",
      "execution_count": 86,
      "outputs": []
    },
    {
      "cell_type": "markdown",
      "id": "c2a725b0",
      "metadata": {
        "id": "c2a725b0"
      },
      "source": [
        "### MPI for numpy"
      ]
    },
    {
      "cell_type": "code",
      "source": [
        "times_mpi1_numpy = []\n",
        "times_mpi2_numpy = []\n",
        "times_mpi4_numpy = []\n",
        "times_mpi6_numpy = []"
      ],
      "metadata": {
        "id": "vnB77o-SehAe"
      },
      "id": "vnB77o-SehAe",
      "execution_count": 87,
      "outputs": []
    },
    {
      "cell_type": "code",
      "execution_count": 37,
      "id": "d59dc705",
      "metadata": {
        "colab": {
          "base_uri": "https://localhost:8080/"
        },
        "id": "d59dc705",
        "outputId": "ef69de3a-32a1-440f-cc95-d0072d0c1c3e"
      },
      "outputs": [
        {
          "output_type": "stream",
          "name": "stdout",
          "text": [
            "Writing shazam_numpy.py\n"
          ]
        }
      ],
      "source": [
        "%%writefile shazam_numpy.py\n",
        "from mpi4py import MPI\n",
        "import numpy as np \n",
        "import matplotlib.pyplot as plt\n",
        "import seaborn as sns\n",
        "\n",
        "n = 2**4\n",
        "def get_signal(a,b,c,d,e,f,g,h,j,k, n=n):\n",
        "    t=np.linspace(-20*2*np.pi, 20*2*np.pi, n)\n",
        "    y=np.sin(a*t)*np.exp(-(t-b*2*np.pi)**c/d/e**2)\n",
        "    y=y+np.sin(f*t)*np.exp(-(t-g*2*np.pi)**h/j/k**2)\n",
        "    return y\n",
        "\n",
        "np.random.seed(8)\n",
        "signals = []\n",
        "for i in range(100):\n",
        "    a, f = np.random.randint(1,6,size=2)\n",
        "    b, g = np.random.randint(-10, 10, size=2)\n",
        "    c, h = np.random.randint(1, 3, size=2)\n",
        "    d, j = np.random.randint(1, 4, size=2)\n",
        "    e, k = 10 * np.random.randint(1, 4, size=2)\n",
        "    signals.append(get_signal(a,b,c,d,e,f,g,h,j,k))\n",
        "\n",
        "t=np.linspace(-20*2*np.pi, 20*2*np.pi, n)\n",
        "new_signal = get_signal(3, 0, 2, 2, 20, 1, 5, 2, 2, 20)\n",
        "\n",
        "nwindowsteps=1000\n",
        "window_width = 2.0*2*np.pi\n",
        "\n",
        "#MPI\n",
        "start =  MPI.Wtime()\n",
        "\n",
        "comm = MPI.COMM_WORLD\n",
        "size=comm.Get_size()\n",
        "rank=comm.Get_rank()\n",
        "\n",
        "window_steps = np.linspace(t[0], t[-1], nwindowsteps)\n",
        "\n",
        "ys = signals.copy()\n",
        "ys.append(new_signal)\n",
        "\n",
        "specgrams = []\n",
        "for i in range(int(rank /size * len(ys)), int((rank+1) / size * len(ys))):\n",
        "    specgrams.append(abs(np.fft.fft(ys[i] * np.exp(-((t * np.ones((len(t), 1000)).T).T - window_steps)**2/2/window_width**2).T)).T)\n",
        "\n",
        "specgrams = np.array(comm.gather(specgrams, root=0))\n",
        "if rank==0:\n",
        "    specgrams = np.concatenate(specgrams, axis=0)\n",
        "\n",
        "if rank==0:\n",
        "    for r in range(1, size):\n",
        "        comm.isend(specgrams.shape, dest = r)\n",
        "        comm.Send(specgrams, dest = r)\n",
        "else:\n",
        "    shape = comm.recv(source = 0)\n",
        "    specgrams = np.empty(shape, dtype = 'd')\n",
        "    comm.Recv(specgrams, source = 0)\n",
        "\n",
        "dists = []\n",
        "for i in range(int(rank /size * len(signals)), int((rank+1) / size * len(signals))):\n",
        "    dists.append(np.linalg.norm(specgrams[-1] - specgrams[i]))\n",
        "\n",
        "dists = np.array(comm.gather(dists, root=0))\n",
        "if rank==0:\n",
        "    dists = np.concatenate(dists, axis=0)\n",
        "    best_match = np.argsort(dists)[0]\n",
        "\n",
        "end = MPI.Wtime()\n",
        "\n",
        "if rank==0:\n",
        "    print(best_match)\n",
        "    print(end-start)"
      ]
    },
    {
      "cell_type": "code",
      "execution_count": 38,
      "id": "2ad6dbb8",
      "metadata": {
        "colab": {
          "base_uri": "https://localhost:8080/"
        },
        "id": "2ad6dbb8",
        "outputId": "a549695d-ab2a-41e9-b40f-17a26564f04c"
      },
      "outputs": [
        {
          "output_type": "stream",
          "name": "stdout",
          "text": [
            "2\n",
            "0.13503175699997882\n"
          ]
        }
      ],
      "source": [
        "!mpirun --allow-run-as-root -n 1 python shazam_numpy.py"
      ]
    },
    {
      "cell_type": "code",
      "execution_count": 39,
      "id": "5574243a",
      "metadata": {
        "colab": {
          "base_uri": "https://localhost:8080/"
        },
        "id": "5574243a",
        "outputId": "3ed822e8-7521-4588-bc5b-25b2b320c04d"
      },
      "outputs": [
        {
          "output_type": "stream",
          "name": "stdout",
          "text": [
            "2\n",
            "0.1509562780001943\n",
            "shazam_numpy.py:45: VisibleDeprecationWarning: Creating an ndarray from ragged nested sequences (which is a list-or-tuple of lists-or-tuples-or ndarrays with different lengths or shapes) is deprecated. If you meant to do this, you must specify 'dtype=object' when creating the ndarray\n",
            "  specgrams = np.array(comm.gather(specgrams, root=0))\n"
          ]
        }
      ],
      "source": [
        "!mpirun --allow-run-as-root -n 2 python shazam_numpy.py"
      ]
    },
    {
      "cell_type": "code",
      "execution_count": 40,
      "id": "06d2295b",
      "metadata": {
        "colab": {
          "base_uri": "https://localhost:8080/"
        },
        "id": "06d2295b",
        "outputId": "a4ef40f9-3c9e-4ae4-d0cd-438a351bd11c"
      },
      "outputs": [
        {
          "output_type": "stream",
          "name": "stdout",
          "text": [
            "2\n",
            "0.19960558499997205\n",
            "shazam_numpy.py:45: VisibleDeprecationWarning: Creating an ndarray from ragged nested sequences (which is a list-or-tuple of lists-or-tuples-or ndarrays with different lengths or shapes) is deprecated. If you meant to do this, you must specify 'dtype=object' when creating the ndarray\n",
            "  specgrams = np.array(comm.gather(specgrams, root=0))\n"
          ]
        }
      ],
      "source": [
        "!mpirun --allow-run-as-root -n 4 python shazam_numpy.py"
      ]
    },
    {
      "cell_type": "code",
      "execution_count": 41,
      "id": "78a2f7e0",
      "metadata": {
        "colab": {
          "base_uri": "https://localhost:8080/"
        },
        "id": "78a2f7e0",
        "outputId": "e7d955ea-bb64-4ce0-c47a-40b277b24e3e"
      },
      "outputs": [
        {
          "output_type": "stream",
          "name": "stdout",
          "text": [
            "2\n",
            "0.3571658790001493\n",
            "shazam_numpy.py:45: VisibleDeprecationWarning: Creating an ndarray from ragged nested sequences (which is a list-or-tuple of lists-or-tuples-or ndarrays with different lengths or shapes) is deprecated. If you meant to do this, you must specify 'dtype=object' when creating the ndarray\n",
            "  specgrams = np.array(comm.gather(specgrams, root=0))\n",
            "shazam_numpy.py:62: VisibleDeprecationWarning: Creating an ndarray from ragged nested sequences (which is a list-or-tuple of lists-or-tuples-or ndarrays with different lengths or shapes) is deprecated. If you meant to do this, you must specify 'dtype=object' when creating the ndarray\n",
            "  dists = np.array(comm.gather(dists, root=0))\n"
          ]
        }
      ],
      "source": [
        "!mpirun --allow-run-as-root -n 6 python shazam_numpy.py"
      ]
    },
    {
      "cell_type": "code",
      "source": [
        "times_mpi1_numpy.append(0.13503175699997882)\n",
        "times_mpi2_numpy.append(0.1509562780001943)\n",
        "times_mpi4_numpy.append(0.19960558499997205)\n",
        "times_mpi6_numpy.append(0.3571658790001493)"
      ],
      "metadata": {
        "id": "2Gk_FsEDem0M"
      },
      "id": "2Gk_FsEDem0M",
      "execution_count": 88,
      "outputs": []
    },
    {
      "cell_type": "code",
      "execution_count": 42,
      "id": "9a87aed2",
      "metadata": {
        "colab": {
          "base_uri": "https://localhost:8080/"
        },
        "id": "9a87aed2",
        "outputId": "650d2a39-e4e2-4aea-dde6-d2e493935073"
      },
      "outputs": [
        {
          "output_type": "stream",
          "name": "stdout",
          "text": [
            "Overwriting shazam_numpy.py\n"
          ]
        }
      ],
      "source": [
        "%%writefile shazam_numpy.py\n",
        "from mpi4py import MPI\n",
        "import numpy as np \n",
        "import matplotlib.pyplot as plt\n",
        "import seaborn as sns\n",
        "\n",
        "n = 2**5\n",
        "def get_signal(a,b,c,d,e,f,g,h,j,k, n=n):\n",
        "    t=np.linspace(-20*2*np.pi, 20*2*np.pi, n)\n",
        "    y=np.sin(a*t)*np.exp(-(t-b*2*np.pi)**c/d/e**2)\n",
        "    y=y+np.sin(f*t)*np.exp(-(t-g*2*np.pi)**h/j/k**2)\n",
        "    return y\n",
        "\n",
        "np.random.seed(8)\n",
        "signals = []\n",
        "for i in range(100):\n",
        "    a, f = np.random.randint(1,6,size=2)\n",
        "    b, g = np.random.randint(-10, 10, size=2)\n",
        "    c, h = np.random.randint(1, 3, size=2)\n",
        "    d, j = np.random.randint(1, 4, size=2)\n",
        "    e, k = 10 * np.random.randint(1, 4, size=2)\n",
        "    signals.append(get_signal(a,b,c,d,e,f,g,h,j,k))\n",
        "\n",
        "t=np.linspace(-20*2*np.pi, 20*2*np.pi, n)\n",
        "new_signal = get_signal(3, 0, 2, 2, 20, 1, 5, 2, 2, 20)\n",
        "\n",
        "nwindowsteps=1000\n",
        "window_width = 2.0*2*np.pi\n",
        "\n",
        "#MPI\n",
        "start =  MPI.Wtime()\n",
        "\n",
        "comm = MPI.COMM_WORLD\n",
        "size=comm.Get_size()\n",
        "rank=comm.Get_rank()\n",
        "\n",
        "window_steps = np.linspace(t[0], t[-1], nwindowsteps)\n",
        "\n",
        "ys = signals.copy()\n",
        "ys.append(new_signal)\n",
        "\n",
        "specgrams = []\n",
        "for i in range(int(rank /size * len(ys)), int((rank+1) / size * len(ys))):\n",
        "    specgrams.append(abs(np.fft.fft(ys[i] * np.exp(-((t * np.ones((len(t), 1000)).T).T - window_steps)**2/2/window_width**2).T)).T)\n",
        "\n",
        "specgrams = np.array(comm.gather(specgrams, root=0))\n",
        "if rank==0:\n",
        "    specgrams = np.concatenate(specgrams, axis=0)\n",
        "\n",
        "if rank==0:\n",
        "    for r in range(1, size):\n",
        "        comm.isend(specgrams.shape, dest = r)\n",
        "        comm.Send(specgrams, dest = r)\n",
        "else:\n",
        "    shape = comm.recv(source = 0)\n",
        "    specgrams = np.empty(shape, dtype = 'd')\n",
        "    comm.Recv(specgrams, source = 0)\n",
        "\n",
        "dists = []\n",
        "for i in range(int(rank /size * len(signals)), int((rank+1) / size * len(signals))):\n",
        "    dists.append(np.linalg.norm(specgrams[-1] - specgrams[i]))\n",
        "\n",
        "dists = np.array(comm.gather(dists, root=0))\n",
        "if rank==0:\n",
        "    dists = np.concatenate(dists, axis=0)\n",
        "    best_match = np.argsort(dists)[0]\n",
        "\n",
        "end = MPI.Wtime()\n",
        "\n",
        "if rank==0:\n",
        "    print(best_match)\n",
        "    print(end-start)"
      ]
    },
    {
      "cell_type": "code",
      "execution_count": 43,
      "id": "5a675efd",
      "metadata": {
        "colab": {
          "base_uri": "https://localhost:8080/"
        },
        "id": "5a675efd",
        "outputId": "32b1d62c-9b15-41e2-d209-21fbaff0accf"
      },
      "outputs": [
        {
          "output_type": "stream",
          "name": "stdout",
          "text": [
            "86\n",
            "0.28411701599998196\n"
          ]
        }
      ],
      "source": [
        "!mpirun --allow-run-as-root -n 1 python shazam_numpy.py"
      ]
    },
    {
      "cell_type": "code",
      "execution_count": 44,
      "id": "cb26b8c6",
      "metadata": {
        "colab": {
          "base_uri": "https://localhost:8080/"
        },
        "id": "cb26b8c6",
        "outputId": "a8a2cb0a-521d-44d1-fb52-ffc493e8f878"
      },
      "outputs": [
        {
          "output_type": "stream",
          "name": "stdout",
          "text": [
            "86\n",
            "0.2588323200002378\n",
            "shazam_numpy.py:45: VisibleDeprecationWarning: Creating an ndarray from ragged nested sequences (which is a list-or-tuple of lists-or-tuples-or ndarrays with different lengths or shapes) is deprecated. If you meant to do this, you must specify 'dtype=object' when creating the ndarray\n",
            "  specgrams = np.array(comm.gather(specgrams, root=0))\n"
          ]
        }
      ],
      "source": [
        "!mpirun --allow-run-as-root -n 2 python shazam_numpy.py"
      ]
    },
    {
      "cell_type": "code",
      "execution_count": 45,
      "id": "14e7b385",
      "metadata": {
        "colab": {
          "base_uri": "https://localhost:8080/"
        },
        "id": "14e7b385",
        "outputId": "43a8c0f8-7fa2-4f38-d1a1-170b01ca66fa"
      },
      "outputs": [
        {
          "output_type": "stream",
          "name": "stdout",
          "text": [
            "86\n",
            "0.3780977050000729\n",
            "shazam_numpy.py:45: VisibleDeprecationWarning: Creating an ndarray from ragged nested sequences (which is a list-or-tuple of lists-or-tuples-or ndarrays with different lengths or shapes) is deprecated. If you meant to do this, you must specify 'dtype=object' when creating the ndarray\n",
            "  specgrams = np.array(comm.gather(specgrams, root=0))\n"
          ]
        }
      ],
      "source": [
        "!mpirun --allow-run-as-root -n 4 python shazam_numpy.py"
      ]
    },
    {
      "cell_type": "code",
      "execution_count": 46,
      "id": "52e009a5",
      "metadata": {
        "colab": {
          "base_uri": "https://localhost:8080/"
        },
        "id": "52e009a5",
        "outputId": "fd9dc6ac-5728-456b-ccbe-88602570b031"
      },
      "outputs": [
        {
          "output_type": "stream",
          "name": "stdout",
          "text": [
            "86\n",
            "0.8672239379998246\n",
            "shazam_numpy.py:45: VisibleDeprecationWarning: Creating an ndarray from ragged nested sequences (which is a list-or-tuple of lists-or-tuples-or ndarrays with different lengths or shapes) is deprecated. If you meant to do this, you must specify 'dtype=object' when creating the ndarray\n",
            "  specgrams = np.array(comm.gather(specgrams, root=0))\n",
            "shazam_numpy.py:62: VisibleDeprecationWarning: Creating an ndarray from ragged nested sequences (which is a list-or-tuple of lists-or-tuples-or ndarrays with different lengths or shapes) is deprecated. If you meant to do this, you must specify 'dtype=object' when creating the ndarray\n",
            "  dists = np.array(comm.gather(dists, root=0))\n"
          ]
        }
      ],
      "source": [
        "!mpirun --allow-run-as-root -n 6 python shazam_numpy.py"
      ]
    },
    {
      "cell_type": "code",
      "source": [
        "times_mpi1_numpy.append(0.28411701599998196)\n",
        "times_mpi2_numpy.append(0.2588323200002378)\n",
        "times_mpi4_numpy.append(0.3780977050000729)\n",
        "times_mpi6_numpy.append(0.8672239379998246)"
      ],
      "metadata": {
        "id": "zzg1V-yuewTa"
      },
      "id": "zzg1V-yuewTa",
      "execution_count": 89,
      "outputs": []
    },
    {
      "cell_type": "code",
      "execution_count": 47,
      "id": "c95ebb81",
      "metadata": {
        "colab": {
          "base_uri": "https://localhost:8080/"
        },
        "id": "c95ebb81",
        "outputId": "57a68884-765f-40b8-eece-b476588bb26f"
      },
      "outputs": [
        {
          "output_type": "stream",
          "name": "stdout",
          "text": [
            "Overwriting shazam_numpy.py\n"
          ]
        }
      ],
      "source": [
        "%%writefile shazam_numpy.py\n",
        "from mpi4py import MPI\n",
        "import numpy as np \n",
        "import matplotlib.pyplot as plt\n",
        "import seaborn as sns\n",
        "\n",
        "n = 2**6\n",
        "def get_signal(a,b,c,d,e,f,g,h,j,k, n=n):\n",
        "    t=np.linspace(-20*2*np.pi, 20*2*np.pi, n)\n",
        "    y=np.sin(a*t)*np.exp(-(t-b*2*np.pi)**c/d/e**2)\n",
        "    y=y+np.sin(f*t)*np.exp(-(t-g*2*np.pi)**h/j/k**2)\n",
        "    return y\n",
        "\n",
        "np.random.seed(8)\n",
        "signals = []\n",
        "for i in range(100):\n",
        "    a, f = np.random.randint(1,6,size=2)\n",
        "    b, g = np.random.randint(-10, 10, size=2)\n",
        "    c, h = np.random.randint(1, 3, size=2)\n",
        "    d, j = np.random.randint(1, 4, size=2)\n",
        "    e, k = 10 * np.random.randint(1, 4, size=2)\n",
        "    signals.append(get_signal(a,b,c,d,e,f,g,h,j,k))\n",
        "\n",
        "t=np.linspace(-20*2*np.pi, 20*2*np.pi, n)\n",
        "new_signal = get_signal(3, 0, 2, 2, 20, 1, 5, 2, 2, 20)\n",
        "\n",
        "nwindowsteps=1000\n",
        "window_width = 2.0*2*np.pi\n",
        "\n",
        "#MPI\n",
        "start =  MPI.Wtime()\n",
        "\n",
        "comm = MPI.COMM_WORLD\n",
        "size=comm.Get_size()\n",
        "rank=comm.Get_rank()\n",
        "\n",
        "window_steps = np.linspace(t[0], t[-1], nwindowsteps)\n",
        "\n",
        "ys = signals.copy()\n",
        "ys.append(new_signal)\n",
        "\n",
        "specgrams = []\n",
        "for i in range(int(rank /size * len(ys)), int((rank+1) / size * len(ys))):\n",
        "    specgrams.append(abs(np.fft.fft(ys[i] * np.exp(-((t * np.ones((len(t), 1000)).T).T - window_steps)**2/2/window_width**2).T)).T)\n",
        "\n",
        "specgrams = np.array(comm.gather(specgrams, root=0))\n",
        "if rank==0:\n",
        "    specgrams = np.concatenate(specgrams, axis=0)\n",
        "\n",
        "if rank==0:\n",
        "    for r in range(1, size):\n",
        "        comm.isend(specgrams.shape, dest = r)\n",
        "        comm.Send(specgrams, dest = r)\n",
        "else:\n",
        "    shape = comm.recv(source = 0)\n",
        "    specgrams = np.empty(shape, dtype = 'd')\n",
        "    comm.Recv(specgrams, source = 0)\n",
        "\n",
        "dists = []\n",
        "for i in range(int(rank /size * len(signals)), int((rank+1) / size * len(signals))):\n",
        "    dists.append(np.linalg.norm(specgrams[-1] - specgrams[i]))\n",
        "\n",
        "dists = np.array(comm.gather(dists, root=0))\n",
        "if rank==0:\n",
        "    dists = np.concatenate(dists, axis=0)\n",
        "    best_match = np.argsort(dists)[0]\n",
        "\n",
        "end = MPI.Wtime()\n",
        "\n",
        "if rank==0:\n",
        "    print(best_match)\n",
        "    print(end-start)"
      ]
    },
    {
      "cell_type": "code",
      "execution_count": 48,
      "id": "d76d29fa",
      "metadata": {
        "colab": {
          "base_uri": "https://localhost:8080/"
        },
        "id": "d76d29fa",
        "outputId": "6fb66e86-1a7e-4c39-e133-ff3bbc769e19"
      },
      "outputs": [
        {
          "output_type": "stream",
          "name": "stdout",
          "text": [
            "57\n",
            "0.7767979209997975\n"
          ]
        }
      ],
      "source": [
        "!mpirun --allow-run-as-root -n 1 python shazam_numpy.py"
      ]
    },
    {
      "cell_type": "code",
      "execution_count": 49,
      "id": "0e3bd74a",
      "metadata": {
        "colab": {
          "base_uri": "https://localhost:8080/"
        },
        "id": "0e3bd74a",
        "outputId": "354a975c-059c-4f4b-daad-fd640b70b910"
      },
      "outputs": [
        {
          "output_type": "stream",
          "name": "stdout",
          "text": [
            "57\n",
            "0.6140904210001281\n",
            "shazam_numpy.py:45: VisibleDeprecationWarning: Creating an ndarray from ragged nested sequences (which is a list-or-tuple of lists-or-tuples-or ndarrays with different lengths or shapes) is deprecated. If you meant to do this, you must specify 'dtype=object' when creating the ndarray\n",
            "  specgrams = np.array(comm.gather(specgrams, root=0))\n"
          ]
        }
      ],
      "source": [
        "!mpirun --allow-run-as-root -n 2 python shazam_numpy.py"
      ]
    },
    {
      "cell_type": "code",
      "execution_count": 50,
      "id": "c6b363a7",
      "metadata": {
        "colab": {
          "base_uri": "https://localhost:8080/"
        },
        "id": "c6b363a7",
        "outputId": "190a33a9-1ab1-4b7f-e557-9ab081e1ee0e"
      },
      "outputs": [
        {
          "output_type": "stream",
          "name": "stdout",
          "text": [
            "57\n",
            "0.8185041510000701\n",
            "shazam_numpy.py:45: VisibleDeprecationWarning: Creating an ndarray from ragged nested sequences (which is a list-or-tuple of lists-or-tuples-or ndarrays with different lengths or shapes) is deprecated. If you meant to do this, you must specify 'dtype=object' when creating the ndarray\n",
            "  specgrams = np.array(comm.gather(specgrams, root=0))\n"
          ]
        }
      ],
      "source": [
        "!mpirun --allow-run-as-root -n 4 python shazam_numpy.py"
      ]
    },
    {
      "cell_type": "code",
      "execution_count": 51,
      "id": "193c6902",
      "metadata": {
        "colab": {
          "base_uri": "https://localhost:8080/"
        },
        "id": "193c6902",
        "outputId": "a7f0f06f-fc70-419b-b253-6f0ad7bec7b7"
      },
      "outputs": [
        {
          "output_type": "stream",
          "name": "stdout",
          "text": [
            "57\n",
            "1.3475849270002982\n",
            "shazam_numpy.py:45: VisibleDeprecationWarning: Creating an ndarray from ragged nested sequences (which is a list-or-tuple of lists-or-tuples-or ndarrays with different lengths or shapes) is deprecated. If you meant to do this, you must specify 'dtype=object' when creating the ndarray\n",
            "  specgrams = np.array(comm.gather(specgrams, root=0))\n",
            "shazam_numpy.py:62: VisibleDeprecationWarning: Creating an ndarray from ragged nested sequences (which is a list-or-tuple of lists-or-tuples-or ndarrays with different lengths or shapes) is deprecated. If you meant to do this, you must specify 'dtype=object' when creating the ndarray\n",
            "  dists = np.array(comm.gather(dists, root=0))\n"
          ]
        }
      ],
      "source": [
        "!mpirun --allow-run-as-root -n 6 python shazam_numpy.py"
      ]
    },
    {
      "cell_type": "code",
      "source": [
        "times_mpi1_numpy.append(0.7767979209997975)\n",
        "times_mpi2_numpy.append(0.6140904210001281)\n",
        "times_mpi4_numpy.append(0.8185041510000701)\n",
        "times_mpi6_numpy.append(1.3475849270002982)"
      ],
      "metadata": {
        "id": "pJzNwi0Ae30O"
      },
      "id": "pJzNwi0Ae30O",
      "execution_count": 90,
      "outputs": []
    },
    {
      "cell_type": "code",
      "execution_count": 52,
      "id": "4895d02c",
      "metadata": {
        "colab": {
          "base_uri": "https://localhost:8080/"
        },
        "id": "4895d02c",
        "outputId": "7e982d9a-3bd6-42ba-8ccd-4de08103e25e"
      },
      "outputs": [
        {
          "output_type": "stream",
          "name": "stdout",
          "text": [
            "Overwriting shazam_numpy.py\n"
          ]
        }
      ],
      "source": [
        "%%writefile shazam_numpy.py\n",
        "from mpi4py import MPI\n",
        "import numpy as np \n",
        "import matplotlib.pyplot as plt\n",
        "import seaborn as sns\n",
        "\n",
        "n = 2**7\n",
        "def get_signal(a,b,c,d,e,f,g,h,j,k, n=n):\n",
        "    t=np.linspace(-20*2*np.pi, 20*2*np.pi, n)\n",
        "    y=np.sin(a*t)*np.exp(-(t-b*2*np.pi)**c/d/e**2)\n",
        "    y=y+np.sin(f*t)*np.exp(-(t-g*2*np.pi)**h/j/k**2)\n",
        "    return y\n",
        "\n",
        "np.random.seed(8)\n",
        "signals = []\n",
        "for i in range(100):\n",
        "    a, f = np.random.randint(1,6,size=2)\n",
        "    b, g = np.random.randint(-10, 10, size=2)\n",
        "    c, h = np.random.randint(1, 3, size=2)\n",
        "    d, j = np.random.randint(1, 4, size=2)\n",
        "    e, k = 10 * np.random.randint(1, 4, size=2)\n",
        "    signals.append(get_signal(a,b,c,d,e,f,g,h,j,k))\n",
        "\n",
        "t=np.linspace(-20*2*np.pi, 20*2*np.pi, n)\n",
        "new_signal = get_signal(3, 0, 2, 2, 20, 1, 5, 2, 2, 20)\n",
        "\n",
        "nwindowsteps=1000\n",
        "window_width = 2.0*2*np.pi\n",
        "\n",
        "#MPI\n",
        "start =  MPI.Wtime()\n",
        "\n",
        "comm = MPI.COMM_WORLD\n",
        "size=comm.Get_size()\n",
        "rank=comm.Get_rank()\n",
        "\n",
        "window_steps = np.linspace(t[0], t[-1], nwindowsteps)\n",
        "\n",
        "ys = signals.copy()\n",
        "ys.append(new_signal)\n",
        "\n",
        "specgrams = []\n",
        "for i in range(int(rank /size * len(ys)), int((rank+1) / size * len(ys))):\n",
        "    specgrams.append(abs(np.fft.fft(ys[i] * np.exp(-((t * np.ones((len(t), 1000)).T).T - window_steps)**2/2/window_width**2).T)).T)\n",
        "\n",
        "specgrams = np.array(comm.gather(specgrams, root=0))\n",
        "if rank==0:\n",
        "    specgrams = np.concatenate(specgrams, axis=0)\n",
        "\n",
        "if rank==0:\n",
        "    for r in range(1, size):\n",
        "        comm.isend(specgrams.shape, dest = r)\n",
        "        comm.Send(specgrams, dest = r)\n",
        "else:\n",
        "    shape = comm.recv(source = 0)\n",
        "    specgrams = np.empty(shape, dtype = 'd')\n",
        "    comm.Recv(specgrams, source = 0)\n",
        "\n",
        "dists = []\n",
        "for i in range(int(rank /size * len(signals)), int((rank+1) / size * len(signals))):\n",
        "    dists.append(np.linalg.norm(specgrams[-1] - specgrams[i]))\n",
        "\n",
        "dists = np.array(comm.gather(dists, root=0))\n",
        "if rank==0:\n",
        "    dists = np.concatenate(dists, axis=0)\n",
        "    best_match = np.argsort(dists)[0]\n",
        "\n",
        "end = MPI.Wtime()\n",
        "\n",
        "if rank==0:\n",
        "    print(best_match)\n",
        "    print(end-start)"
      ]
    },
    {
      "cell_type": "code",
      "execution_count": 53,
      "id": "03b99609",
      "metadata": {
        "colab": {
          "base_uri": "https://localhost:8080/"
        },
        "id": "03b99609",
        "outputId": "b9c08877-eddb-4fbd-e4d0-4f7ccc25047e"
      },
      "outputs": [
        {
          "output_type": "stream",
          "name": "stdout",
          "text": [
            "57\n",
            "1.5605115080002179\n"
          ]
        }
      ],
      "source": [
        "!mpirun --allow-run-as-root -n 1 python shazam_numpy.py"
      ]
    },
    {
      "cell_type": "code",
      "execution_count": 54,
      "id": "de00d694",
      "metadata": {
        "colab": {
          "base_uri": "https://localhost:8080/"
        },
        "id": "de00d694",
        "outputId": "8a60eadb-fa6e-4145-b889-fbf5f2d20fea"
      },
      "outputs": [
        {
          "output_type": "stream",
          "name": "stdout",
          "text": [
            "57\n",
            "1.4386205470000277\n",
            "shazam_numpy.py:45: VisibleDeprecationWarning: Creating an ndarray from ragged nested sequences (which is a list-or-tuple of lists-or-tuples-or ndarrays with different lengths or shapes) is deprecated. If you meant to do this, you must specify 'dtype=object' when creating the ndarray\n",
            "  specgrams = np.array(comm.gather(specgrams, root=0))\n"
          ]
        }
      ],
      "source": [
        "!mpirun --allow-run-as-root -n 2 python shazam_numpy.py"
      ]
    },
    {
      "cell_type": "code",
      "execution_count": 55,
      "id": "58159f33",
      "metadata": {
        "colab": {
          "base_uri": "https://localhost:8080/"
        },
        "id": "58159f33",
        "outputId": "dfff1307-368b-45e9-86dd-dde6f069c88d"
      },
      "outputs": [
        {
          "output_type": "stream",
          "name": "stdout",
          "text": [
            "57\n",
            "2.0103855289999046\n",
            "shazam_numpy.py:45: VisibleDeprecationWarning: Creating an ndarray from ragged nested sequences (which is a list-or-tuple of lists-or-tuples-or ndarrays with different lengths or shapes) is deprecated. If you meant to do this, you must specify 'dtype=object' when creating the ndarray\n",
            "  specgrams = np.array(comm.gather(specgrams, root=0))\n"
          ]
        }
      ],
      "source": [
        "!mpirun --allow-run-as-root -n 4 python shazam_numpy.py"
      ]
    },
    {
      "cell_type": "code",
      "execution_count": 56,
      "id": "57772892",
      "metadata": {
        "colab": {
          "base_uri": "https://localhost:8080/"
        },
        "id": "57772892",
        "outputId": "f0299f07-51a6-4e31-ecf1-421f6670abd7"
      },
      "outputs": [
        {
          "output_type": "stream",
          "name": "stdout",
          "text": [
            "57\n",
            "2.4280727799996384\n",
            "shazam_numpy.py:45: VisibleDeprecationWarning: Creating an ndarray from ragged nested sequences (which is a list-or-tuple of lists-or-tuples-or ndarrays with different lengths or shapes) is deprecated. If you meant to do this, you must specify 'dtype=object' when creating the ndarray\n",
            "  specgrams = np.array(comm.gather(specgrams, root=0))\n",
            "shazam_numpy.py:62: VisibleDeprecationWarning: Creating an ndarray from ragged nested sequences (which is a list-or-tuple of lists-or-tuples-or ndarrays with different lengths or shapes) is deprecated. If you meant to do this, you must specify 'dtype=object' when creating the ndarray\n",
            "  dists = np.array(comm.gather(dists, root=0))\n"
          ]
        }
      ],
      "source": [
        "!mpirun --allow-run-as-root -n 6 python shazam_numpy.py"
      ]
    },
    {
      "cell_type": "code",
      "source": [
        "times_mpi1_numpy.append(1.5605115080002179)\n",
        "times_mpi2_numpy.append(1.4386205470000277)\n",
        "times_mpi4_numpy.append(2.0103855289999046)\n",
        "times_mpi6_numpy.append(2.4280727799996384)"
      ],
      "metadata": {
        "id": "StEZaeS5e-7r"
      },
      "id": "StEZaeS5e-7r",
      "execution_count": 91,
      "outputs": []
    },
    {
      "cell_type": "code",
      "execution_count": 57,
      "id": "273e458e",
      "metadata": {
        "colab": {
          "base_uri": "https://localhost:8080/"
        },
        "id": "273e458e",
        "outputId": "e4a2af7b-db07-4d6a-b8e2-e66cdd4f4e75"
      },
      "outputs": [
        {
          "output_type": "stream",
          "name": "stdout",
          "text": [
            "Overwriting shazam_numpy.py\n"
          ]
        }
      ],
      "source": [
        "%%writefile shazam_numpy.py\n",
        "from mpi4py import MPI\n",
        "import numpy as np \n",
        "import matplotlib.pyplot as plt\n",
        "import seaborn as sns\n",
        "\n",
        "n = 2**8\n",
        "def get_signal(a,b,c,d,e,f,g,h,j,k, n=n):\n",
        "    t=np.linspace(-20*2*np.pi, 20*2*np.pi, n)\n",
        "    y=np.sin(a*t)*np.exp(-(t-b*2*np.pi)**c/d/e**2)\n",
        "    y=y+np.sin(f*t)*np.exp(-(t-g*2*np.pi)**h/j/k**2)\n",
        "    return y\n",
        "\n",
        "np.random.seed(8)\n",
        "signals = []\n",
        "for i in range(100):\n",
        "    a, f = np.random.randint(1,6,size=2)\n",
        "    b, g = np.random.randint(-10, 10, size=2)\n",
        "    c, h = np.random.randint(1, 3, size=2)\n",
        "    d, j = np.random.randint(1, 4, size=2)\n",
        "    e, k = 10 * np.random.randint(1, 4, size=2)\n",
        "    signals.append(get_signal(a,b,c,d,e,f,g,h,j,k))\n",
        "\n",
        "t=np.linspace(-20*2*np.pi, 20*2*np.pi, n)\n",
        "new_signal = get_signal(3, 0, 2, 2, 20, 1, 5, 2, 2, 20)\n",
        "\n",
        "nwindowsteps=1000\n",
        "window_width = 2.0*2*np.pi\n",
        "\n",
        "#MPI\n",
        "start =  MPI.Wtime()\n",
        "\n",
        "comm = MPI.COMM_WORLD\n",
        "size=comm.Get_size()\n",
        "rank=comm.Get_rank()\n",
        "\n",
        "window_steps = np.linspace(t[0], t[-1], nwindowsteps)\n",
        "\n",
        "ys = signals.copy()\n",
        "ys.append(new_signal)\n",
        "\n",
        "specgrams = []\n",
        "for i in range(int(rank /size * len(ys)), int((rank+1) / size * len(ys))):\n",
        "    specgrams.append(abs(np.fft.fft(ys[i] * np.exp(-((t * np.ones((len(t), 1000)).T).T - window_steps)**2/2/window_width**2).T)).T)\n",
        "\n",
        "specgrams = np.array(comm.gather(specgrams, root=0))\n",
        "if rank==0:\n",
        "    specgrams = np.concatenate(specgrams, axis=0)\n",
        "\n",
        "if rank==0:\n",
        "    for r in range(1, size):\n",
        "        comm.isend(specgrams.shape, dest = r)\n",
        "        comm.Send(specgrams, dest = r)\n",
        "else:\n",
        "    shape = comm.recv(source = 0)\n",
        "    specgrams = np.empty(shape, dtype = 'd')\n",
        "    comm.Recv(specgrams, source = 0)\n",
        "\n",
        "dists = []\n",
        "for i in range(int(rank /size * len(signals)), int((rank+1) / size * len(signals))):\n",
        "    dists.append(np.linalg.norm(specgrams[-1] - specgrams[i]))\n",
        "\n",
        "dists = np.array(comm.gather(dists, root=0))\n",
        "if rank==0:\n",
        "    dists = np.concatenate(dists, axis=0)\n",
        "    best_match = np.argsort(dists)[0]\n",
        "\n",
        "end = MPI.Wtime()\n",
        "\n",
        "if rank==0:\n",
        "    print(best_match)\n",
        "    print(end-start)"
      ]
    },
    {
      "cell_type": "code",
      "execution_count": 58,
      "id": "df6d6603",
      "metadata": {
        "colab": {
          "base_uri": "https://localhost:8080/"
        },
        "id": "df6d6603",
        "outputId": "3484d2c3-1c74-42fd-97ed-c2b60946659a"
      },
      "outputs": [
        {
          "output_type": "stream",
          "name": "stdout",
          "text": [
            "57\n",
            "3.1419210180001755\n"
          ]
        }
      ],
      "source": [
        "!mpirun --allow-run-as-root -n 1 python shazam_numpy.py"
      ]
    },
    {
      "cell_type": "code",
      "execution_count": 59,
      "id": "543944c9",
      "metadata": {
        "colab": {
          "base_uri": "https://localhost:8080/"
        },
        "id": "543944c9",
        "outputId": "7d299d67-9a6f-469b-ff57-afcc6f8f59db"
      },
      "outputs": [
        {
          "output_type": "stream",
          "name": "stdout",
          "text": [
            "57\n",
            "2.71423982899978\n",
            "shazam_numpy.py:45: VisibleDeprecationWarning: Creating an ndarray from ragged nested sequences (which is a list-or-tuple of lists-or-tuples-or ndarrays with different lengths or shapes) is deprecated. If you meant to do this, you must specify 'dtype=object' when creating the ndarray\n",
            "  specgrams = np.array(comm.gather(specgrams, root=0))\n"
          ]
        }
      ],
      "source": [
        "!mpirun --allow-run-as-root -n 2 python shazam_numpy.py"
      ]
    },
    {
      "cell_type": "code",
      "execution_count": 60,
      "id": "8c397d39",
      "metadata": {
        "colab": {
          "base_uri": "https://localhost:8080/"
        },
        "id": "8c397d39",
        "outputId": "e2215d62-be78-416d-a972-92b571b80d38"
      },
      "outputs": [
        {
          "output_type": "stream",
          "name": "stdout",
          "text": [
            "57\n",
            "3.5678878929998064\n",
            "shazam_numpy.py:45: VisibleDeprecationWarning: Creating an ndarray from ragged nested sequences (which is a list-or-tuple of lists-or-tuples-or ndarrays with different lengths or shapes) is deprecated. If you meant to do this, you must specify 'dtype=object' when creating the ndarray\n",
            "  specgrams = np.array(comm.gather(specgrams, root=0))\n"
          ]
        }
      ],
      "source": [
        "!mpirun --allow-run-as-root -n 4 python shazam_numpy.py"
      ]
    },
    {
      "cell_type": "code",
      "execution_count": 61,
      "id": "a6529a23",
      "metadata": {
        "colab": {
          "base_uri": "https://localhost:8080/"
        },
        "id": "a6529a23",
        "outputId": "a3628d3a-c52f-4ae1-ac73-9747bdf8cb20"
      },
      "outputs": [
        {
          "output_type": "stream",
          "name": "stdout",
          "text": [
            "57\n",
            "4.891384405000281\n",
            "shazam_numpy.py:45: VisibleDeprecationWarning: Creating an ndarray from ragged nested sequences (which is a list-or-tuple of lists-or-tuples-or ndarrays with different lengths or shapes) is deprecated. If you meant to do this, you must specify 'dtype=object' when creating the ndarray\n",
            "  specgrams = np.array(comm.gather(specgrams, root=0))\n",
            "shazam_numpy.py:62: VisibleDeprecationWarning: Creating an ndarray from ragged nested sequences (which is a list-or-tuple of lists-or-tuples-or ndarrays with different lengths or shapes) is deprecated. If you meant to do this, you must specify 'dtype=object' when creating the ndarray\n",
            "  dists = np.array(comm.gather(dists, root=0))\n"
          ]
        }
      ],
      "source": [
        "!mpirun --allow-run-as-root -n 6 python shazam_numpy.py"
      ]
    },
    {
      "cell_type": "code",
      "source": [
        "times_mpi1_numpy.append(3.1419210180001755)\n",
        "times_mpi2_numpy.append(2.71423982899978)\n",
        "times_mpi4_numpy.append(3.5678878929998064)\n",
        "times_mpi6_numpy.append(4.891384405000281)"
      ],
      "metadata": {
        "id": "FvfDkNCrfKO9"
      },
      "id": "FvfDkNCrfKO9",
      "execution_count": 92,
      "outputs": []
    },
    {
      "cell_type": "code",
      "execution_count": 62,
      "id": "008c12b6",
      "metadata": {
        "colab": {
          "base_uri": "https://localhost:8080/"
        },
        "id": "008c12b6",
        "outputId": "52c42904-241f-4b1d-838a-94eac6bd341c"
      },
      "outputs": [
        {
          "output_type": "stream",
          "name": "stdout",
          "text": [
            "Overwriting shazam_numpy.py\n"
          ]
        }
      ],
      "source": [
        "%%writefile shazam_numpy.py\n",
        "from mpi4py import MPI\n",
        "import numpy as np \n",
        "import matplotlib.pyplot as plt\n",
        "import seaborn as sns\n",
        "\n",
        "n = 2**9\n",
        "def get_signal(a,b,c,d,e,f,g,h,j,k, n=n):\n",
        "    t=np.linspace(-20*2*np.pi, 20*2*np.pi, n)\n",
        "    y=np.sin(a*t)*np.exp(-(t-b*2*np.pi)**c/d/e**2)\n",
        "    y=y+np.sin(f*t)*np.exp(-(t-g*2*np.pi)**h/j/k**2)\n",
        "    return y\n",
        "\n",
        "np.random.seed(8)\n",
        "signals = []\n",
        "for i in range(100):\n",
        "    a, f = np.random.randint(1,6,size=2)\n",
        "    b, g = np.random.randint(-10, 10, size=2)\n",
        "    c, h = np.random.randint(1, 3, size=2)\n",
        "    d, j = np.random.randint(1, 4, size=2)\n",
        "    e, k = 10 * np.random.randint(1, 4, size=2)\n",
        "    signals.append(get_signal(a,b,c,d,e,f,g,h,j,k))\n",
        "\n",
        "t=np.linspace(-20*2*np.pi, 20*2*np.pi, n)\n",
        "new_signal = get_signal(3, 0, 2, 2, 20, 1, 5, 2, 2, 20)\n",
        "\n",
        "nwindowsteps=1000\n",
        "window_width = 2.0*2*np.pi\n",
        "\n",
        "#MPI\n",
        "start =  MPI.Wtime()\n",
        "\n",
        "comm = MPI.COMM_WORLD\n",
        "size=comm.Get_size()\n",
        "rank=comm.Get_rank()\n",
        "\n",
        "window_steps = np.linspace(t[0], t[-1], nwindowsteps)\n",
        "\n",
        "ys = signals.copy()\n",
        "ys.append(new_signal)\n",
        "\n",
        "specgrams = []\n",
        "for i in range(int(rank /size * len(ys)), int((rank+1) / size * len(ys))):\n",
        "    specgrams.append(abs(np.fft.fft(ys[i] * np.exp(-((t * np.ones((len(t), 1000)).T).T - window_steps)**2/2/window_width**2).T)).T)\n",
        "\n",
        "specgrams = np.array(comm.gather(specgrams, root=0))\n",
        "if rank==0:\n",
        "    specgrams = np.concatenate(specgrams, axis=0)\n",
        "\n",
        "if rank==0:\n",
        "    for r in range(1, size):\n",
        "        comm.isend(specgrams.shape, dest = r)\n",
        "        comm.Send(specgrams, dest = r)\n",
        "else:\n",
        "    shape = comm.recv(source = 0)\n",
        "    specgrams = np.empty(shape, dtype = 'd')\n",
        "    comm.Recv(specgrams, source = 0)\n",
        "\n",
        "dists = []\n",
        "for i in range(int(rank /size * len(signals)), int((rank+1) / size * len(signals))):\n",
        "    dists.append(np.linalg.norm(specgrams[-1] - specgrams[i]))\n",
        "\n",
        "dists = np.array(comm.gather(dists, root=0))\n",
        "if rank==0:\n",
        "    dists = np.concatenate(dists, axis=0)\n",
        "    best_match = np.argsort(dists)[0]\n",
        "\n",
        "end = MPI.Wtime()\n",
        "\n",
        "if rank==0:\n",
        "    print(best_match)\n",
        "    print(end-start)"
      ]
    },
    {
      "cell_type": "code",
      "execution_count": 63,
      "id": "0fa8e5ba",
      "metadata": {
        "colab": {
          "base_uri": "https://localhost:8080/"
        },
        "id": "0fa8e5ba",
        "outputId": "25485c69-4b49-4eb6-99c5-808091a0ee62"
      },
      "outputs": [
        {
          "output_type": "stream",
          "name": "stdout",
          "text": [
            "57\n",
            "5.159645361999992\n"
          ]
        }
      ],
      "source": [
        "!mpirun --allow-run-as-root -n 1 python shazam_numpy.py"
      ]
    },
    {
      "cell_type": "code",
      "execution_count": 64,
      "id": "2a4e6d1e",
      "metadata": {
        "colab": {
          "base_uri": "https://localhost:8080/"
        },
        "id": "2a4e6d1e",
        "outputId": "8b08b266-00d7-49c1-f325-b98c57bfaa46"
      },
      "outputs": [
        {
          "output_type": "stream",
          "name": "stdout",
          "text": [
            "57\n",
            "4.581460576000154\n",
            "shazam_numpy.py:45: VisibleDeprecationWarning: Creating an ndarray from ragged nested sequences (which is a list-or-tuple of lists-or-tuples-or ndarrays with different lengths or shapes) is deprecated. If you meant to do this, you must specify 'dtype=object' when creating the ndarray\n",
            "  specgrams = np.array(comm.gather(specgrams, root=0))\n"
          ]
        }
      ],
      "source": [
        "!mpirun --allow-run-as-root -n 2 python shazam_numpy.py"
      ]
    },
    {
      "cell_type": "code",
      "execution_count": 65,
      "id": "af1fa9db",
      "metadata": {
        "colab": {
          "base_uri": "https://localhost:8080/"
        },
        "id": "af1fa9db",
        "outputId": "9eccfee1-7000-4d25-ef42-abd00ae05faf"
      },
      "outputs": [
        {
          "output_type": "stream",
          "name": "stdout",
          "text": [
            "57\n",
            "6.77228083\n",
            "shazam_numpy.py:45: VisibleDeprecationWarning: Creating an ndarray from ragged nested sequences (which is a list-or-tuple of lists-or-tuples-or ndarrays with different lengths or shapes) is deprecated. If you meant to do this, you must specify 'dtype=object' when creating the ndarray\n",
            "  specgrams = np.array(comm.gather(specgrams, root=0))\n"
          ]
        }
      ],
      "source": [
        "!mpirun --allow-run-as-root -n 4 python shazam_numpy.py"
      ]
    },
    {
      "cell_type": "code",
      "execution_count": 66,
      "id": "2ab64db4",
      "metadata": {
        "colab": {
          "base_uri": "https://localhost:8080/"
        },
        "id": "2ab64db4",
        "outputId": "1ec76478-f24e-424b-bb72-d0f0f5e8bcbe"
      },
      "outputs": [
        {
          "output_type": "stream",
          "name": "stdout",
          "text": [
            "57\n",
            "9.35301840000011\n",
            "shazam_numpy.py:45: VisibleDeprecationWarning: Creating an ndarray from ragged nested sequences (which is a list-or-tuple of lists-or-tuples-or ndarrays with different lengths or shapes) is deprecated. If you meant to do this, you must specify 'dtype=object' when creating the ndarray\n",
            "  specgrams = np.array(comm.gather(specgrams, root=0))\n",
            "shazam_numpy.py:62: VisibleDeprecationWarning: Creating an ndarray from ragged nested sequences (which is a list-or-tuple of lists-or-tuples-or ndarrays with different lengths or shapes) is deprecated. If you meant to do this, you must specify 'dtype=object' when creating the ndarray\n",
            "  dists = np.array(comm.gather(dists, root=0))\n"
          ]
        }
      ],
      "source": [
        "!mpirun --allow-run-as-root -n 6 python shazam_numpy.py"
      ]
    },
    {
      "cell_type": "code",
      "source": [
        "times_mpi1_numpy.append(5.159645361999992)\n",
        "times_mpi2_numpy.append(4.581460576000154)\n",
        "times_mpi4_numpy.append(6.77228083)\n",
        "times_mpi6_numpy.append(9.35301840000011)"
      ],
      "metadata": {
        "id": "7TVqq96QfSBH"
      },
      "id": "7TVqq96QfSBH",
      "execution_count": 93,
      "outputs": []
    },
    {
      "cell_type": "markdown",
      "id": "1391534d",
      "metadata": {
        "id": "1391534d"
      },
      "source": [
        "### Cycle For"
      ]
    },
    {
      "cell_type": "code",
      "execution_count": 67,
      "id": "fa73dbc4",
      "metadata": {
        "ExecuteTime": {
          "end_time": "2021-12-19T14:53:15.033602Z",
          "start_time": "2021-12-19T14:53:15.012583Z"
        },
        "id": "fa73dbc4"
      },
      "outputs": [],
      "source": [
        "def shazam_for(new_signal, signals, t, window_width=2.0*2*np.pi, nwindowsteps=1000):\n",
        "    window_steps = []\n",
        "    for n in range(nwindowsteps):\n",
        "        window_steps.append(t[0] + (t[-1] - t[0]) * n / nwindowsteps)\n",
        "    \n",
        "    ys = signals.copy()\n",
        "    ys.append(new_signal)\n",
        "    \n",
        "    specgrams = []\n",
        "    for y in ys:\n",
        "        specgram = []\n",
        "        for i, window_position in enumerate(window_steps):\n",
        "            y_window = []\n",
        "            for j in range(len(t)):\n",
        "                y_window.append(np.exp(-(t[j] - window_position)**2/2/window_width**2) * y[j])\n",
        "            specgram.append(abs(np.fft.fft(y_window)))\n",
        "        specgrams.append(specgram)\n",
        "        \n",
        "    dists = []\n",
        "    for i in range(len(signals)):\n",
        "        dist = 0\n",
        "        for n in range(nwindowsteps):\n",
        "            for j in range(len(t)):\n",
        "                dist += (specgrams[-1][n][j] - specgrams[i][n][j])**2\n",
        "        dists.append(dist)\n",
        "        \n",
        "    best_match = np.argsort(dists)[0]\n",
        "    \n",
        "    return best_match"
      ]
    },
    {
      "cell_type": "code",
      "execution_count": 68,
      "id": "cbi40dCWMbiE",
      "metadata": {
        "id": "cbi40dCWMbiE"
      },
      "outputs": [],
      "source": [
        "bm_for = shazam_for(new_signal, signals, t)"
      ]
    },
    {
      "cell_type": "code",
      "execution_count": 69,
      "id": "urU4KfR-MdtV",
      "metadata": {
        "colab": {
          "base_uri": "https://localhost:8080/"
        },
        "id": "urU4KfR-MdtV",
        "outputId": "d71985ae-38e9-469b-b497-ce1758b1332e"
      },
      "outputs": [
        {
          "output_type": "execute_result",
          "data": {
            "text/plain": [
              "2"
            ]
          },
          "metadata": {},
          "execution_count": 69
        }
      ],
      "source": [
        "bm_for"
      ]
    },
    {
      "cell_type": "code",
      "execution_count": 70,
      "id": "fb790c63",
      "metadata": {
        "ExecuteTime": {
          "end_time": "2021-12-19T14:57:43.421835Z",
          "start_time": "2021-12-19T14:53:15.590812Z"
        },
        "colab": {
          "base_uri": "https://localhost:8080/",
          "height": 49,
          "referenced_widgets": [
            "1e008d2cb7fb4c40af784770dc09b10c",
            "60ec8713f5a54aa68507519aab1a7a60",
            "635b2369406949159ca554fa8ed033e6",
            "4e91af786c5640b2a5e69ba0c8325897",
            "385bbf08c947469fbf0067a330efacda",
            "d30016c4052945d0965383cf7d470ca9",
            "7b49081635d1472892115fef98e265b6",
            "113311adf6004e66b7a8e59b728a8e7b",
            "e85f3e1188534a369aa432922beb7993",
            "6d8de9bdbea640ac9328ef94e4858fa4",
            "69b619fc4e8047acbb98619bdf4e570d"
          ]
        },
        "id": "fb790c63",
        "outputId": "d54dce01-a627-4acd-b16a-7912d5ac2561"
      },
      "outputs": [
        {
          "output_type": "display_data",
          "data": {
            "application/vnd.jupyter.widget-view+json": {
              "model_id": "1e008d2cb7fb4c40af784770dc09b10c",
              "version_minor": 0,
              "version_major": 2
            },
            "text/plain": [
              "  0%|          | 0/6 [00:00<?, ?it/s]"
            ]
          },
          "metadata": {}
        }
      ],
      "source": [
        "times_for = []\n",
        "for n in tqdm(2**np.arange(4, 10)):\n",
        "    np.random.seed(8)\n",
        "    signals = []\n",
        "    for i in range(100):\n",
        "        a, f = np.random.randint(1,6,size=2)\n",
        "        b, g = np.random.randint(-10, 10, size=2)\n",
        "        c, h = np.random.randint(1, 3, size=2)\n",
        "        d, j = np.random.randint(1, 4, size=2)\n",
        "        e, k = 10 * np.random.randint(1, 4, size=2)\n",
        "        signals.append(get_signal(a,b,c,d,e,f,g,h,j,k,n=n))\n",
        "\n",
        "    new_signal = get_signal(3, 0, 2, 2, 20, 1, 5, 2, 2, 20, n=n)\n",
        "    t = np.linspace(-20*2*np.pi, 20*2*np.pi, n)\n",
        "    \n",
        "    time = %timeit -q -o -n 1 -r 1 shazam_for(new_signal, signals, t)\n",
        "    times_for.append(time.best)"
      ]
    },
    {
      "cell_type": "code",
      "execution_count": 71,
      "id": "c0f14738",
      "metadata": {
        "ExecuteTime": {
          "end_time": "2021-12-19T14:58:28.449573Z",
          "start_time": "2021-12-19T14:58:28.438572Z"
        },
        "colab": {
          "base_uri": "https://localhost:8080/"
        },
        "id": "c0f14738",
        "outputId": "49e0e736-1bba-4a2f-b437-e57322e3f4be"
      },
      "outputs": [
        {
          "output_type": "execute_result",
          "data": {
            "text/plain": [
              "[10.031358625999928,\n",
              " 16.931343301999732,\n",
              " 28.991457128000093,\n",
              " 55.948795195,\n",
              " 108.97434100500004,\n",
              " 216.69272347900005]"
            ]
          },
          "metadata": {},
          "execution_count": 71
        }
      ],
      "source": [
        "times_for"
      ]
    },
    {
      "cell_type": "markdown",
      "id": "49fb3ce4",
      "metadata": {
        "id": "49fb3ce4"
      },
      "source": [
        "### Numpy"
      ]
    },
    {
      "cell_type": "code",
      "execution_count": 72,
      "id": "b00a7707",
      "metadata": {
        "ExecuteTime": {
          "end_time": "2021-12-19T14:58:38.407706Z",
          "start_time": "2021-12-19T14:58:38.390644Z"
        },
        "id": "b00a7707"
      },
      "outputs": [],
      "source": [
        "def shazam_numpy(new_signal, signals, t, window_width=2.0*2*np.pi, nwindowsteps=1000):\n",
        "    window_steps = np.linspace(t[0], t[-1], nwindowsteps)\n",
        "    \n",
        "    ys = signals.copy()\n",
        "    ys.append(new_signal)\n",
        "    \n",
        "    specgrams = []\n",
        "    for y in ys:\n",
        "        specgrams.append(abs(np.fft.fft(y * np.exp(-((t * np.ones((len(t), 1000)).T).T - window_steps)**2/2/window_width**2).T)).T)\n",
        "        \n",
        "    dists = []\n",
        "    for i in range(len(signals)):\n",
        "        dists.append(np.linalg.norm(specgrams[-1] - specgrams[i]))\n",
        "        \n",
        "    best_match = np.argsort(dists)[0]\n",
        "    \n",
        "    return best_match"
      ]
    },
    {
      "cell_type": "code",
      "execution_count": 78,
      "id": "F2K1ZCuaMxZI",
      "metadata": {
        "ExecuteTime": {
          "end_time": "2021-12-19T14:58:44.718854Z",
          "start_time": "2021-12-19T14:58:38.864121Z"
        },
        "id": "F2K1ZCuaMxZI"
      },
      "outputs": [],
      "source": [
        "bm_numpy = shazam_numpy(new_signal, signals, t)"
      ]
    },
    {
      "cell_type": "code",
      "execution_count": 79,
      "id": "5a11edb1",
      "metadata": {
        "ExecuteTime": {
          "end_time": "2021-12-19T14:58:45.753658Z",
          "start_time": "2021-12-19T14:58:45.748660Z"
        },
        "colab": {
          "base_uri": "https://localhost:8080/"
        },
        "id": "5a11edb1",
        "outputId": "a48b708f-d47c-4adf-90d8-93d06eebbb32"
      },
      "outputs": [
        {
          "output_type": "execute_result",
          "data": {
            "text/plain": [
              "2"
            ]
          },
          "metadata": {},
          "execution_count": 79
        }
      ],
      "source": [
        "bm_numpy"
      ]
    },
    {
      "cell_type": "code",
      "execution_count": 75,
      "id": "OqIoJ0CRGf3o",
      "metadata": {
        "colab": {
          "base_uri": "https://localhost:8080/",
          "height": 49,
          "referenced_widgets": [
            "00772368b13945549d3d1415530efe6f",
            "30888a63be494227ad48d73c1719e684",
            "4f91aab0a44347a38c7068cb78f2350e",
            "25ecb6db4ee041a6908214f077f0f2c6",
            "86d0a5fc30fc4c6eb38f845ed6de91f6",
            "45d99f903dcc43b083382b2fcb1c0c82",
            "ca7434c34638447db38ddb101f0e7c55",
            "6f16d8f05e8245cca9cdd175c7df5501",
            "70dda03967234dd6a89781baf4e6b61d",
            "bf592cb09c654d31845f589b9bf5c4b3",
            "9153508f45084504a83ce096d5d8625b"
          ]
        },
        "id": "OqIoJ0CRGf3o",
        "outputId": "5a81ca40-2a17-419a-9a1f-e5d226995b13"
      },
      "outputs": [
        {
          "output_type": "display_data",
          "data": {
            "application/vnd.jupyter.widget-view+json": {
              "model_id": "00772368b13945549d3d1415530efe6f",
              "version_minor": 0,
              "version_major": 2
            },
            "text/plain": [
              "  0%|          | 0/6 [00:00<?, ?it/s]"
            ]
          },
          "metadata": {}
        }
      ],
      "source": [
        "times_numpy = []\n",
        "for n in tqdm(2**np.arange(4, 10)):\n",
        "    np.random.seed(8)\n",
        "    signals = []\n",
        "    for i in range(100):\n",
        "        a, f = np.random.randint(1,6,size=2)\n",
        "        b, g = np.random.randint(-10, 10, size=2)\n",
        "        c, h = np.random.randint(1, 3, size=2)\n",
        "        d, j = np.random.randint(1, 4, size=2)\n",
        "        e, k = 10 * np.random.randint(1, 4, size=2)\n",
        "        signals.append(get_signal(a,b,c,d,e,f,g,h,j,k,n=n))\n",
        "\n",
        "    new_signal = get_signal(3, 0, 2, 2, 20, 1, 5, 2, 2, 20, n=n)\n",
        "    t = np.linspace(-20*2*np.pi, 20*2*np.pi, n)\n",
        "    \n",
        "    time = %timeit -q -o -n 1 -r 1 shazam_numpy(new_signal, signals, t)\n",
        "    times_numpy.append(time.best)"
      ]
    },
    {
      "cell_type": "code",
      "execution_count": 76,
      "id": "oYwPmbauG5jY",
      "metadata": {
        "colab": {
          "base_uri": "https://localhost:8080/"
        },
        "id": "oYwPmbauG5jY",
        "outputId": "e2c0257f-3538-483c-ed20-d9b47d97a252"
      },
      "outputs": [
        {
          "output_type": "execute_result",
          "data": {
            "text/plain": [
              "[0.11923989699971571,\n",
              " 0.18954989299982117,\n",
              " 0.4104427659999601,\n",
              " 0.7776715350000813,\n",
              " 1.523576096999932,\n",
              " 3.1693599290001657]"
            ]
          },
          "metadata": {},
          "execution_count": 76
        }
      ],
      "source": [
        "times_numpy"
      ]
    },
    {
      "cell_type": "markdown",
      "source": [
        "## Results"
      ],
      "metadata": {
        "id": "713HGNO6dTAi"
      },
      "id": "713HGNO6dTAi"
    },
    {
      "cell_type": "code",
      "source": [
        "plt.figure(figsize=(14,4))\n",
        "plt.plot(2**np.arange(4, 10), times_for, label='Cycle for')\n",
        "plt.plot(2**np.arange(4, 10), times_mpi1_for, label='Cycle for, MPI n=1')\n",
        "plt.plot(2**np.arange(4, 10), times_mpi2_for, label='Cycle for, MPI n=2')\n",
        "plt.plot(2**np.arange(4, 10), times_mpi4_for, label='Cycle for, MPI n=4')\n",
        "plt.plot(2**np.arange(4, 10), times_mpi6_for, label='Cycle for, MPI n=6')\n",
        "plt.xlabel('Number of time steps')\n",
        "plt.ylabel('Time, s')\n",
        "plt.xscale('log', basex=2)\n",
        "plt.legend();"
      ],
      "metadata": {
        "colab": {
          "base_uri": "https://localhost:8080/",
          "height": 283
        },
        "id": "HzhdeYAZdSn4",
        "outputId": "8c19d687-69c1-482a-f1f2-7accdc0b8a78"
      },
      "id": "HzhdeYAZdSn4",
      "execution_count": 112,
      "outputs": [
        {
          "output_type": "display_data",
          "data": {
            "image/png": "[encoded data removed]",
            "text/plain": [
              "<Figure size 1008x288 with 1 Axes>"
            ]
          },
          "metadata": {
            "needs_background": "light"
          }
        }
      ]
    },
    {
      "cell_type": "code",
      "source": [
        "plt.figure(figsize=(14,4))\n",
        "plt.plot(2**np.arange(4, 10), np.array(times_for)/np.array(times_mpi1_for), label='Cycle for, MPI n=1')\n",
        "plt.plot(2**np.arange(4, 10), np.array(times_for)/np.array(times_mpi2_for), label='Cycle for, MPI n=2')\n",
        "plt.plot(2**np.arange(4, 10), np.array(times_for)/np.array(times_mpi4_for), label='Cycle for, MPI n=4')\n",
        "plt.plot(2**np.arange(4, 10), np.array(times_for)/np.array(times_mpi6_for), label='Cycle for, MPI n=6')\n",
        "plt.xlabel('Number of time steps')\n",
        "plt.ylabel('Speedup')\n",
        "plt.xscale('log', basex=2)\n",
        "plt.legend();"
      ],
      "metadata": {
        "colab": {
          "base_uri": "https://localhost:8080/",
          "height": 283
        },
        "id": "Eu3Myt8Jhso0",
        "outputId": "3b71b6fa-28be-4a74-cec1-b117105d550d"
      },
      "id": "Eu3Myt8Jhso0",
      "execution_count": 116,
      "outputs": [
        {
          "output_type": "display_data",
          "data": {
            "image/png": "[encoded data removed]",
            "text/plain": [
              "<Figure size 1008x288 with 1 Axes>"
            ]
          },
          "metadata": {
            "needs_background": "light"
          }
        }
      ]
    },
    {
      "cell_type": "code",
      "source": [
        "plt.figure(figsize=(14,4))\n",
        "plt.plot(2**np.arange(4, 10), times_numpy, label='Numpy')\n",
        "plt.plot(2**np.arange(4, 10), times_mpi1_numpy, label='Numpy, MPI n=1')\n",
        "plt.plot(2**np.arange(4, 10), times_mpi2_numpy, label='Numpy, MPI n=2')\n",
        "plt.plot(2**np.arange(4, 10), times_mpi4_numpy, label='Numpy, MPI n=4')\n",
        "plt.plot(2**np.arange(4, 10), times_mpi6_numpy, label='Numpy, MPI n=6')\n",
        "plt.xlabel('Number of time steps')\n",
        "plt.ylabel('Time, s')\n",
        "plt.xscale('log', basex=2)\n",
        "plt.legend();"
      ],
      "metadata": {
        "colab": {
          "base_uri": "https://localhost:8080/",
          "height": 283
        },
        "id": "i75RPfGFgqaf",
        "outputId": "1aff718d-14e1-498d-b976-217cb3f25877"
      },
      "id": "i75RPfGFgqaf",
      "execution_count": 113,
      "outputs": [
        {
          "output_type": "display_data",
          "data": {
            "image/png": "[encoded data removed]",
            "text/plain": [
              "<Figure size 1008x288 with 1 Axes>"
            ]
          },
          "metadata": {
            "needs_background": "light"
          }
        }
      ]
    },
    {
      "cell_type": "code",
      "source": [
        "plt.figure(figsize=(14,4))\n",
        "plt.plot(2**np.arange(4, 10), np.array(times_numpy)/np.array(times_mpi1_numpy), label='Numpy, MPI n=1')\n",
        "plt.plot(2**np.arange(4, 10), np.array(times_numpy)/np.array(times_mpi2_numpy), label='Numpy, MPI n=2')\n",
        "plt.plot(2**np.arange(4, 10), np.array(times_numpy)/np.array(times_mpi4_numpy), label='Numpy, MPI n=4')\n",
        "plt.plot(2**np.arange(4, 10), np.array(times_numpy)/np.array(times_mpi6_numpy), label='Numpy, MPI n=6')\n",
        "plt.xlabel('Number of time steps')\n",
        "plt.ylabel('Speedup')\n",
        "plt.xscale('log', basex=2)\n",
        "plt.legend();"
      ],
      "metadata": {
        "colab": {
          "base_uri": "https://localhost:8080/",
          "height": 283
        },
        "id": "UMd4GK45iRVB",
        "outputId": "7ed0d112-72e1-4084-8c5e-1717f384678b"
      },
      "id": "UMd4GK45iRVB",
      "execution_count": 117,
      "outputs": [
        {
          "output_type": "display_data",
          "data": {
            "image/png": "[encoded data removed]",
            "text/plain": [
              "<Figure size 1008x288 with 1 Axes>"
            ]
          },
          "metadata": {
            "needs_background": "light"
          }
        }
      ]
    },
    {
      "cell_type": "markdown",
      "source": [
        "### Shazam"
      ],
      "metadata": {
        "id": "1rThjPhlhCte"
      },
      "id": "1rThjPhlhCte"
    },
    {
      "cell_type": "code",
      "source": [
        "np.random.seed(8)\n",
        "signals = []\n",
        "n = 2**10\n",
        "for i in range(100):\n",
        "    a, f = np.random.randint(1,6,size=2)\n",
        "    b, g = np.random.randint(-10, 10, size=2)\n",
        "    c, h = np.random.randint(1, 3, size=2)\n",
        "    d, j = np.random.randint(1, 4, size=2)\n",
        "    e, k = 10 * np.random.randint(1, 4, size=2)\n",
        "    signals.append(get_signal(a,b,c,d,e,f,g,h,j,k,n=n))\n",
        "\n",
        "new_signal = get_signal(3, 0, 2, 2, 20, 1, 5, 2, 2, 20, n=n)\n",
        "t = np.linspace(-20*2*np.pi, 20*2*np.pi, n)"
      ],
      "metadata": {
        "id": "5VLSh9MihMs3"
      },
      "id": "5VLSh9MihMs3",
      "execution_count": 107,
      "outputs": []
    },
    {
      "cell_type": "code",
      "source": [
        "bm_numpy = shazam_numpy(new_signal, signals, t)"
      ],
      "metadata": {
        "id": "wYBDgDmahSVm"
      },
      "id": "wYBDgDmahSVm",
      "execution_count": 108,
      "outputs": []
    },
    {
      "cell_type": "code",
      "execution_count": 109,
      "id": "490cf3fe",
      "metadata": {
        "ExecuteTime": {
          "end_time": "2021-12-19T13:34:43.660527Z",
          "start_time": "2021-12-19T13:34:43.456778Z"
        },
        "id": "490cf3fe",
        "outputId": "1d02888e-203e-48cd-ebb5-e0881064b670",
        "colab": {
          "base_uri": "https://localhost:8080/",
          "height": 312
        }
      },
      "outputs": [
        {
          "output_type": "execute_result",
          "data": {
            "text/plain": [
              "Text(0.5, 1.0, 'Best match')"
            ]
          },
          "metadata": {},
          "execution_count": 109
        },
        {
          "output_type": "display_data",
          "data": {
            "image/png": "[encoded data removed]",
            "text/plain": [
              "<Figure size 1008x288 with 2 Axes>"
            ]
          },
          "metadata": {
            "needs_background": "light"
          }
        }
      ],
      "source": [
        "fig, ax = plt.subplots(1, 2, figsize=(14,4))\n",
        "ax[0].plot(t/2/np.pi, new_signal)\n",
        "ax[0].set_xlabel('t, cycles')\n",
        "ax[0].set_ylabel('signal, arb.units')\n",
        "ax[0].set_title('New signal')\n",
        "\n",
        "ax[1].plot(t/2/np.pi, signals[bm_numpy])\n",
        "ax[1].set_xlabel('t, cycles')\n",
        "ax[1].set_ylabel('signal, arb.units')\n",
        "ax[1].set_title('Best match')"
      ]
    }
  ],
  "metadata": {
    "colab": {
      "collapsed_sections": [],
      "name": "HPPL_project.ipynb",
      "provenance": [],
      "toc_visible": true
    },
    "kernelspec": {
      "display_name": "Python 3",
      "language": "python",
      "name": "python3"
    },
    "language_info": {
      "codemirror_mode": {
        "name": "ipython",
        "version": 3
      },
      "file_extension": ".py",
      "mimetype": "text/x-python",
      "name": "python",
      "nbconvert_exporter": "python",
      "pygments_lexer": "ipython3",
      "version": "3.8.8"
    },
    "toc": {
      "base_numbering": 1,
      "nav_menu": {},
      "number_sections": true,
      "sideBar": true,
      "skip_h1_title": false,
      "title_cell": "Table of Contents",
      "title_sidebar": "Contents",
      "toc_cell": false,
      "toc_position": {},
      "toc_section_display": true,
      "toc_window_display": false
    },
    "varInspector": {
      "cols": {
        "lenName": 16,
        "lenType": 16,
        "lenVar": 40
      },
      "kernels_config": {
        "python": {
          "delete_cmd_postfix": "",
          "delete_cmd_prefix": "del ",
          "library": "var_list.py",
          "varRefreshCmd": "print(var_dic_list())"
        },
        "r": {
          "delete_cmd_postfix": ") ",
          "delete_cmd_prefix": "rm(",
          "library": "var_list.r",
          "varRefreshCmd": "cat(var_dic_list()) "
        }
      },
      "types_to_exclude": [
        "module",
        "function",
        "builtin_function_or_method",
        "instance",
        "_Feature"
      ],
      "window_display": false
    },
    "widgets": {
      "application/vnd.jupyter.widget-state+json": {
        "1e008d2cb7fb4c40af784770dc09b10c": {
          "model_module": "@jupyter-widgets/controls",
          "model_name": "HBoxModel",
          "model_module_version": "1.5.0",
          "state": {
            "_view_name": "HBoxView",
            "_dom_classes": [],
            "_model_name": "HBoxModel",
            "_view_module": "@jupyter-widgets/controls",
            "_model_module_version": "1.5.0",
            "_view_count": null,
            "_view_module_version": "1.5.0",
            "box_style": "",
            "layout": "IPY_MODEL_60ec8713f5a54aa68507519aab1a7a60",
            "_model_module": "@jupyter-widgets/controls",
            "children": [
              "IPY_MODEL_635b2369406949159ca554fa8ed033e6",
              "IPY_MODEL_4e91af786c5640b2a5e69ba0c8325897",
              "IPY_MODEL_385bbf08c947469fbf0067a330efacda"
            ]
          }
        },
        "60ec8713f5a54aa68507519aab1a7a60": {
          "model_module": "@jupyter-widgets/base",
          "model_name": "LayoutModel",
          "model_module_version": "1.2.0",
          "state": {
            "_view_name": "LayoutView",
            "grid_template_rows": null,
            "right": null,
            "justify_content": null,
            "_view_module": "@jupyter-widgets/base",
            "overflow": null,
            "_model_module_version": "1.2.0",
            "_view_count": null,
            "flex_flow": null,
            "width": null,
            "min_width": null,
            "border": null,
            "align_items": null,
            "bottom": null,
            "_model_module": "@jupyter-widgets/base",
            "top": null,
            "grid_column": null,
            "overflow_y": null,
            "overflow_x": null,
            "grid_auto_flow": null,
            "grid_area": null,
            "grid_template_columns": null,
            "flex": null,
            "_model_name": "LayoutModel",
            "justify_items": null,
            "grid_row": null,
            "max_height": null,
            "align_content": null,
            "visibility": null,
            "align_self": null,
            "height": null,
            "min_height": null,
            "padding": null,
            "grid_auto_rows": null,
            "grid_gap": null,
            "max_width": null,
            "order": null,
            "_view_module_version": "1.2.0",
            "grid_template_areas": null,
            "object_position": null,
            "object_fit": null,
            "grid_auto_columns": null,
            "margin": null,
            "display": null,
            "left": null
          }
        },
        "635b2369406949159ca554fa8ed033e6": {
          "model_module": "@jupyter-widgets/controls",
          "model_name": "HTMLModel",
          "model_module_version": "1.5.0",
          "state": {
            "_view_name": "HTMLView",
            "style": "IPY_MODEL_d30016c4052945d0965383cf7d470ca9",
            "_dom_classes": [],
            "description": "",
            "_model_name": "HTMLModel",
            "placeholder": "​",
            "_view_module": "@jupyter-widgets/controls",
            "_model_module_version": "1.5.0",
            "value": "100%",
            "_view_count": null,
            "_view_module_version": "1.5.0",
            "description_tooltip": null,
            "_model_module": "@jupyter-widgets/controls",
            "layout": "IPY_MODEL_7b49081635d1472892115fef98e265b6"
          }
        },
        "4e91af786c5640b2a5e69ba0c8325897": {
          "model_module": "@jupyter-widgets/controls",
          "model_name": "FloatProgressModel",
          "model_module_version": "1.5.0",
          "state": {
            "_view_name": "ProgressView",
            "style": "IPY_MODEL_113311adf6004e66b7a8e59b728a8e7b",
            "_dom_classes": [],
            "description": "",
            "_model_name": "FloatProgressModel",
            "bar_style": "success",
            "max": 6,
            "_view_module": "@jupyter-widgets/controls",
            "_model_module_version": "1.5.0",
            "value": 6,
            "_view_count": null,
            "_view_module_version": "1.5.0",
            "orientation": "horizontal",
            "min": 0,
            "description_tooltip": null,
            "_model_module": "@jupyter-widgets/controls",
            "layout": "IPY_MODEL_e85f3e1188534a369aa432922beb7993"
          }
        },
        "385bbf08c947469fbf0067a330efacda": {
          "model_module": "@jupyter-widgets/controls",
          "model_name": "HTMLModel",
          "model_module_version": "1.5.0",
          "state": {
            "_view_name": "HTMLView",
            "style": "IPY_MODEL_6d8de9bdbea640ac9328ef94e4858fa4",
            "_dom_classes": [],
            "description": "",
            "_model_name": "HTMLModel",
            "placeholder": "​",
            "_view_module": "@jupyter-widgets/controls",
            "_model_module_version": "1.5.0",
            "value": " 6/6 [07:17&lt;00:00, 114.30s/it]",
            "_view_count": null,
            "_view_module_version": "1.5.0",
            "description_tooltip": null,
            "_model_module": "@jupyter-widgets/controls",
            "layout": "IPY_MODEL_69b619fc4e8047acbb98619bdf4e570d"
          }
        },
        "d30016c4052945d0965383cf7d470ca9": {
          "model_module": "@jupyter-widgets/controls",
          "model_name": "DescriptionStyleModel",
          "model_module_version": "1.5.0",
          "state": {
            "_view_name": "StyleView",
            "_model_name": "DescriptionStyleModel",
            "description_width": "",
            "_view_module": "@jupyter-widgets/base",
            "_model_module_version": "1.5.0",
            "_view_count": null,
            "_view_module_version": "1.2.0",
            "_model_module": "@jupyter-widgets/controls"
          }
        },
        "7b49081635d1472892115fef98e265b6": {
          "model_module": "@jupyter-widgets/base",
          "model_name": "LayoutModel",
          "model_module_version": "1.2.0",
          "state": {
            "_view_name": "LayoutView",
            "grid_template_rows": null,
            "right": null,
            "justify_content": null,
            "_view_module": "@jupyter-widgets/base",
            "overflow": null,
            "_model_module_version": "1.2.0",
            "_view_count": null,
            "flex_flow": null,
            "width": null,
            "min_width": null,
            "border": null,
            "align_items": null,
            "bottom": null,
            "_model_module": "@jupyter-widgets/base",
            "top": null,
            "grid_column": null,
            "overflow_y": null,
            "overflow_x": null,
            "grid_auto_flow": null,
            "grid_area": null,
            "grid_template_columns": null,
            "flex": null,
            "_model_name": "LayoutModel",
            "justify_items": null,
            "grid_row": null,
            "max_height": null,
            "align_content": null,
            "visibility": null,
            "align_self": null,
            "height": null,
            "min_height": null,
            "padding": null,
            "grid_auto_rows": null,
            "grid_gap": null,
            "max_width": null,
            "order": null,
            "_view_module_version": "1.2.0",
            "grid_template_areas": null,
            "object_position": null,
            "object_fit": null,
            "grid_auto_columns": null,
            "margin": null,
            "display": null,
            "left": null
          }
        },
        "113311adf6004e66b7a8e59b728a8e7b": {
          "model_module": "@jupyter-widgets/controls",
          "model_name": "ProgressStyleModel",
          "model_module_version": "1.5.0",
          "state": {
            "_view_name": "StyleView",
            "_model_name": "ProgressStyleModel",
            "description_width": "",
            "_view_module": "@jupyter-widgets/base",
            "_model_module_version": "1.5.0",
            "_view_count": null,
            "_view_module_version": "1.2.0",
            "bar_color": null,
            "_model_module": "@jupyter-widgets/controls"
          }
        },
        "e85f3e1188534a369aa432922beb7993": {
          "model_module": "@jupyter-widgets/base",
          "model_name": "LayoutModel",
          "model_module_version": "1.2.0",
          "state": {
            "_view_name": "LayoutView",
            "grid_template_rows": null,
            "right": null,
            "justify_content": null,
            "_view_module": "@jupyter-widgets/base",
            "overflow": null,
            "_model_module_version": "1.2.0",
            "_view_count": null,
            "flex_flow": null,
            "width": null,
            "min_width": null,
            "border": null,
            "align_items": null,
            "bottom": null,
            "_model_module": "@jupyter-widgets/base",
            "top": null,
            "grid_column": null,
            "overflow_y": null,
            "overflow_x": null,
            "grid_auto_flow": null,
            "grid_area": null,
            "grid_template_columns": null,
            "flex": null,
            "_model_name": "LayoutModel",
            "justify_items": null,
            "grid_row": null,
            "max_height": null,
            "align_content": null,
            "visibility": null,
            "align_self": null,
            "height": null,
            "min_height": null,
            "padding": null,
            "grid_auto_rows": null,
            "grid_gap": null,
            "max_width": null,
            "order": null,
            "_view_module_version": "1.2.0",
            "grid_template_areas": null,
            "object_position": null,
            "object_fit": null,
            "grid_auto_columns": null,
            "margin": null,
            "display": null,
            "left": null
          }
        },
        "6d8de9bdbea640ac9328ef94e4858fa4": {
          "model_module": "@jupyter-widgets/controls",
          "model_name": "DescriptionStyleModel",
          "model_module_version": "1.5.0",
          "state": {
            "_view_name": "StyleView",
            "_model_name": "DescriptionStyleModel",
            "description_width": "",
            "_view_module": "@jupyter-widgets/base",
            "_model_module_version": "1.5.0",
            "_view_count": null,
            "_view_module_version": "1.2.0",
            "_model_module": "@jupyter-widgets/controls"
          }
        },
        "69b619fc4e8047acbb98619bdf4e570d": {
          "model_module": "@jupyter-widgets/base",
          "model_name": "LayoutModel",
          "model_module_version": "1.2.0",
          "state": {
            "_view_name": "LayoutView",
            "grid_template_rows": null,
            "right": null,
            "justify_content": null,
            "_view_module": "@jupyter-widgets/base",
            "overflow": null,
            "_model_module_version": "1.2.0",
            "_view_count": null,
            "flex_flow": null,
            "width": null,
            "min_width": null,
            "border": null,
            "align_items": null,
            "bottom": null,
            "_model_module": "@jupyter-widgets/base",
            "top": null,
            "grid_column": null,
            "overflow_y": null,
            "overflow_x": null,
            "grid_auto_flow": null,
            "grid_area": null,
            "grid_template_columns": null,
            "flex": null,
            "_model_name": "LayoutModel",
            "justify_items": null,
            "grid_row": null,
            "max_height": null,
            "align_content": null,
            "visibility": null,
            "align_self": null,
            "height": null,
            "min_height": null,
            "padding": null,
            "grid_auto_rows": null,
            "grid_gap": null,
            "max_width": null,
            "order": null,
            "_view_module_version": "1.2.0",
            "grid_template_areas": null,
            "object_position": null,
            "object_fit": null,
            "grid_auto_columns": null,
            "margin": null,
            "display": null,
            "left": null
          }
        },
        "00772368b13945549d3d1415530efe6f": {
          "model_module": "@jupyter-widgets/controls",
          "model_name": "HBoxModel",
          "model_module_version": "1.5.0",
          "state": {
            "_view_name": "HBoxView",
            "_dom_classes": [],
            "_model_name": "HBoxModel",
            "_view_module": "@jupyter-widgets/controls",
            "_model_module_version": "1.5.0",
            "_view_count": null,
            "_view_module_version": "1.5.0",
            "box_style": "",
            "layout": "IPY_MODEL_30888a63be494227ad48d73c1719e684",
            "_model_module": "@jupyter-widgets/controls",
            "children": [
              "IPY_MODEL_4f91aab0a44347a38c7068cb78f2350e",
              "IPY_MODEL_25ecb6db4ee041a6908214f077f0f2c6",
              "IPY_MODEL_86d0a5fc30fc4c6eb38f845ed6de91f6"
            ]
          }
        },
        "30888a63be494227ad48d73c1719e684": {
          "model_module": "@jupyter-widgets/base",
          "model_name": "LayoutModel",
          "model_module_version": "1.2.0",
          "state": {
            "_view_name": "LayoutView",
            "grid_template_rows": null,
            "right": null,
            "justify_content": null,
            "_view_module": "@jupyter-widgets/base",
            "overflow": null,
            "_model_module_version": "1.2.0",
            "_view_count": null,
            "flex_flow": null,
            "width": null,
            "min_width": null,
            "border": null,
            "align_items": null,
            "bottom": null,
            "_model_module": "@jupyter-widgets/base",
            "top": null,
            "grid_column": null,
            "overflow_y": null,
            "overflow_x": null,
            "grid_auto_flow": null,
            "grid_area": null,
            "grid_template_columns": null,
            "flex": null,
            "_model_name": "LayoutModel",
            "justify_items": null,
            "grid_row": null,
            "max_height": null,
            "align_content": null,
            "visibility": null,
            "align_self": null,
            "height": null,
            "min_height": null,
            "padding": null,
            "grid_auto_rows": null,
            "grid_gap": null,
            "max_width": null,
            "order": null,
            "_view_module_version": "1.2.0",
            "grid_template_areas": null,
            "object_position": null,
            "object_fit": null,
            "grid_auto_columns": null,
            "margin": null,
            "display": null,
            "left": null
          }
        },
        "4f91aab0a44347a38c7068cb78f2350e": {
          "model_module": "@jupyter-widgets/controls",
          "model_name": "HTMLModel",
          "model_module_version": "1.5.0",
          "state": {
            "_view_name": "HTMLView",
            "style": "IPY_MODEL_45d99f903dcc43b083382b2fcb1c0c82",
            "_dom_classes": [],
            "description": "",
            "_model_name": "HTMLModel",
            "placeholder": "​",
            "_view_module": "@jupyter-widgets/controls",
            "_model_module_version": "1.5.0",
            "value": "100%",
            "_view_count": null,
            "_view_module_version": "1.5.0",
            "description_tooltip": null,
            "_model_module": "@jupyter-widgets/controls",
            "layout": "IPY_MODEL_ca7434c34638447db38ddb101f0e7c55"
          }
        },
        "25ecb6db4ee041a6908214f077f0f2c6": {
          "model_module": "@jupyter-widgets/controls",
          "model_name": "FloatProgressModel",
          "model_module_version": "1.5.0",
          "state": {
            "_view_name": "ProgressView",
            "style": "IPY_MODEL_6f16d8f05e8245cca9cdd175c7df5501",
            "_dom_classes": [],
            "description": "",
            "_model_name": "FloatProgressModel",
            "bar_style": "success",
            "max": 6,
            "_view_module": "@jupyter-widgets/controls",
            "_model_module_version": "1.5.0",
            "value": 6,
            "_view_count": null,
            "_view_module_version": "1.5.0",
            "orientation": "horizontal",
            "min": 0,
            "description_tooltip": null,
            "_model_module": "@jupyter-widgets/controls",
            "layout": "IPY_MODEL_70dda03967234dd6a89781baf4e6b61d"
          }
        },
        "86d0a5fc30fc4c6eb38f845ed6de91f6": {
          "model_module": "@jupyter-widgets/controls",
          "model_name": "HTMLModel",
          "model_module_version": "1.5.0",
          "state": {
            "_view_name": "HTMLView",
            "style": "IPY_MODEL_bf592cb09c654d31845f589b9bf5c4b3",
            "_dom_classes": [],
            "description": "",
            "_model_name": "HTMLModel",
            "placeholder": "​",
            "_view_module": "@jupyter-widgets/controls",
            "_model_module_version": "1.5.0",
            "value": " 6/6 [00:06&lt;00:00,  1.69s/it]",
            "_view_count": null,
            "_view_module_version": "1.5.0",
            "description_tooltip": null,
            "_model_module": "@jupyter-widgets/controls",
            "layout": "IPY_MODEL_9153508f45084504a83ce096d5d8625b"
          }
        },
        "45d99f903dcc43b083382b2fcb1c0c82": {
          "model_module": "@jupyter-widgets/controls",
          "model_name": "DescriptionStyleModel",
          "model_module_version": "1.5.0",
          "state": {
            "_view_name": "StyleView",
            "_model_name": "DescriptionStyleModel",
            "description_width": "",
            "_view_module": "@jupyter-widgets/base",
            "_model_module_version": "1.5.0",
            "_view_count": null,
            "_view_module_version": "1.2.0",
            "_model_module": "@jupyter-widgets/controls"
          }
        },
        "ca7434c34638447db38ddb101f0e7c55": {
          "model_module": "@jupyter-widgets/base",
          "model_name": "LayoutModel",
          "model_module_version": "1.2.0",
          "state": {
            "_view_name": "LayoutView",
            "grid_template_rows": null,
            "right": null,
            "justify_content": null,
            "_view_module": "@jupyter-widgets/base",
            "overflow": null,
            "_model_module_version": "1.2.0",
            "_view_count": null,
            "flex_flow": null,
            "width": null,
            "min_width": null,
            "border": null,
            "align_items": null,
            "bottom": null,
            "_model_module": "@jupyter-widgets/base",
            "top": null,
            "grid_column": null,
            "overflow_y": null,
            "overflow_x": null,
            "grid_auto_flow": null,
            "grid_area": null,
            "grid_template_columns": null,
            "flex": null,
            "_model_name": "LayoutModel",
            "justify_items": null,
            "grid_row": null,
            "max_height": null,
            "align_content": null,
            "visibility": null,
            "align_self": null,
            "height": null,
            "min_height": null,
            "padding": null,
            "grid_auto_rows": null,
            "grid_gap": null,
            "max_width": null,
            "order": null,
            "_view_module_version": "1.2.0",
            "grid_template_areas": null,
            "object_position": null,
            "object_fit": null,
            "grid_auto_columns": null,
            "margin": null,
            "display": null,
            "left": null
          }
        },
        "6f16d8f05e8245cca9cdd175c7df5501": {
          "model_module": "@jupyter-widgets/controls",
          "model_name": "ProgressStyleModel",
          "model_module_version": "1.5.0",
          "state": {
            "_view_name": "StyleView",
            "_model_name": "ProgressStyleModel",
            "description_width": "",
            "_view_module": "@jupyter-widgets/base",
            "_model_module_version": "1.5.0",
            "_view_count": null,
            "_view_module_version": "1.2.0",
            "bar_color": null,
            "_model_module": "@jupyter-widgets/controls"
          }
        },
        "70dda03967234dd6a89781baf4e6b61d": {
          "model_module": "@jupyter-widgets/base",
          "model_name": "LayoutModel",
          "model_module_version": "1.2.0",
          "state": {
            "_view_name": "LayoutView",
            "grid_template_rows": null,
            "right": null,
            "justify_content": null,
            "_view_module": "@jupyter-widgets/base",
            "overflow": null,
            "_model_module_version": "1.2.0",
            "_view_count": null,
            "flex_flow": null,
            "width": null,
            "min_width": null,
            "border": null,
            "align_items": null,
            "bottom": null,
            "_model_module": "@jupyter-widgets/base",
            "top": null,
            "grid_column": null,
            "overflow_y": null,
            "overflow_x": null,
            "grid_auto_flow": null,
            "grid_area": null,
            "grid_template_columns": null,
            "flex": null,
            "_model_name": "LayoutModel",
            "justify_items": null,
            "grid_row": null,
            "max_height": null,
            "align_content": null,
            "visibility": null,
            "align_self": null,
            "height": null,
            "min_height": null,
            "padding": null,
            "grid_auto_rows": null,
            "grid_gap": null,
            "max_width": null,
            "order": null,
            "_view_module_version": "1.2.0",
            "grid_template_areas": null,
            "object_position": null,
            "object_fit": null,
            "grid_auto_columns": null,
            "margin": null,
            "display": null,
            "left": null
          }
        },
        "bf592cb09c654d31845f589b9bf5c4b3": {
          "model_module": "@jupyter-widgets/controls",
          "model_name": "DescriptionStyleModel",
          "model_module_version": "1.5.0",
          "state": {
            "_view_name": "StyleView",
            "_model_name": "DescriptionStyleModel",
            "description_width": "",
            "_view_module": "@jupyter-widgets/base",
            "_model_module_version": "1.5.0",
            "_view_count": null,
            "_view_module_version": "1.2.0",
            "_model_module": "@jupyter-widgets/controls"
          }
        },
        "9153508f45084504a83ce096d5d8625b": {
          "model_module": "@jupyter-widgets/base",
          "model_name": "LayoutModel",
          "model_module_version": "1.2.0",
          "state": {
            "_view_name": "LayoutView",
            "grid_template_rows": null,
            "right": null,
            "justify_content": null,
            "_view_module": "@jupyter-widgets/base",
            "overflow": null,
            "_model_module_version": "1.2.0",
            "_view_count": null,
            "flex_flow": null,
            "width": null,
            "min_width": null,
            "border": null,
            "align_items": null,
            "bottom": null,
            "_model_module": "@jupyter-widgets/base",
            "top": null,
            "grid_column": null,
            "overflow_y": null,
            "overflow_x": null,
            "grid_auto_flow": null,
            "grid_area": null,
            "grid_template_columns": null,
            "flex": null,
            "_model_name": "LayoutModel",
            "justify_items": null,
            "grid_row": null,
            "max_height": null,
            "align_content": null,
            "visibility": null,
            "align_self": null,
            "height": null,
            "min_height": null,
            "padding": null,
            "grid_auto_rows": null,
            "grid_gap": null,
            "max_width": null,
            "order": null,
            "_view_module_version": "1.2.0",
            "grid_template_areas": null,
            "object_position": null,
            "object_fit": null,
            "grid_auto_columns": null,
            "margin": null,
            "display": null,
            "left": null
          }
        }
      }
    }
  },
  "nbformat": 4,
  "nbformat_minor": 5
}