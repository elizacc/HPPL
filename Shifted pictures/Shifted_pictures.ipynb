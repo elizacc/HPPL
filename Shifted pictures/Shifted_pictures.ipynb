{
  "nbformat": 4,
  "nbformat_minor": 5,
  "metadata": {
    "kernelspec": {
      "display_name": "Python 3",
      "language": "python",
      "name": "python3"
    },
    "language_info": {
      "codemirror_mode": {
        "name": "ipython",
        "version": 3
      },
      "file_extension": ".py",
      "mimetype": "text/x-python",
      "name": "python",
      "nbconvert_exporter": "python",
      "pygments_lexer": "ipython3",
      "version": "3.8.8"
    },
    "toc": {
      "base_numbering": 1,
      "nav_menu": {},
      "number_sections": true,
      "sideBar": true,
      "skip_h1_title": false,
      "title_cell": "Table of Contents",
      "title_sidebar": "Contents",
      "toc_cell": false,
      "toc_position": {},
      "toc_section_display": true,
      "toc_window_display": false
    },
    "varInspector": {
      "cols": {
        "lenName": 16,
        "lenType": 16,
        "lenVar": 40
      },
      "kernels_config": {
        "python": {
          "delete_cmd_postfix": "",
          "delete_cmd_prefix": "del ",
          "library": "var_list.py",
          "varRefreshCmd": "print(var_dic_list())"
        },
        "r": {
          "delete_cmd_postfix": ") ",
          "delete_cmd_prefix": "rm(",
          "library": "var_list.r",
          "varRefreshCmd": "cat(var_dic_list()) "
        }
      },
      "types_to_exclude": [
        "module",
        "function",
        "builtin_function_or_method",
        "instance",
        "_Feature"
      ],
      "window_display": false
    },
    "colab": {
      "name": "Shifted pictures.ipynb",
      "provenance": [],
      "collapsed_sections": []
    }
  },
  "cells": [
    {
      "cell_type": "code",
      "metadata": {
        "ExecuteTime": {
          "end_time": "2021-12-03T11:41:39.513670Z",
          "start_time": "2021-12-03T11:41:39.203117Z"
        },
        "id": "f12d9a3f"
      },
      "source": [
        "import numpy as np\n",
        "import matplotlib.pyplot as plt"
      ],
      "id": "f12d9a3f",
      "execution_count": 64,
      "outputs": []
    },
    {
      "cell_type": "code",
      "metadata": {
        "id": "JtozBMDAanYC"
      },
      "source": [
        "# !pip install mpi4py\n",
        "# !pip install celluloid"
      ],
      "id": "JtozBMDAanYC",
      "execution_count": 65,
      "outputs": []
    },
    {
      "cell_type": "code",
      "metadata": {
        "colab": {
          "base_uri": "https://localhost:8080/"
        },
        "id": "vd-mMGjLD0Jx",
        "outputId": "f2ecca58-06a6-46ec-c778-d61498083ce8"
      },
      "source": [
        "%%writefile test.py\n",
        "from mpi4py import MPI\n",
        "import numpy as np\n",
        "from matplotlib import pyplot as plt\n",
        "import matplotlib.animation as animation\n",
        "import cv2\n",
        "import tracemalloc\n",
        "\n",
        "\n",
        "image = cv2.imread('image.png')\n",
        "image = cv2.cvtColor(image, cv2.COLOR_BGR2RGB)\n",
        "\n",
        "start =  MPI.Wtime()\n",
        "\n",
        "comm = MPI.COMM_WORLD\n",
        "size=comm.Get_size()\n",
        "rank=comm.Get_rank()\n",
        "\n",
        "row_block = image.shape[0]//size\n",
        "img_block = image[rank*row_block:(rank+1)*row_block]\n",
        "\n",
        "from matplotlib import pyplot as plt\n",
        "from celluloid import Camera\n",
        "\n",
        "\n",
        "if rank == 0:\n",
        "    fig = plt.figure()\n",
        "    camera = Camera(fig)\n",
        "\n",
        "tracemalloc.start()\n",
        "if size == 1:\n",
        "    for i in range(image.shape[0]):\n",
        "        shifted_image = np.roll(image, i, axis=0)\n",
        "        plt.axis('off')\n",
        "        plt.imshow(shifted_image)\n",
        "        camera.snap()\n",
        "else:\n",
        "    for i in range(image.shape[0]):\n",
        "        if rank == size-1:\n",
        "            comm.isend(img_block[-1].shape, dest = 0)\n",
        "            comm.Send(img_block[-1], dest = 0)\n",
        "        else:\n",
        "            comm.isend(img_block[-1].shape, dest = rank+1)\n",
        "            comm.Send(img_block[-1], dest = rank+1)\n",
        "        if rank == 0:\n",
        "            shape = comm.recv(source = size-1)\n",
        "            data = np.empty(shape, dtype = 'uint8')\n",
        "            comm.Recv(data, source = size-1)\n",
        "        else:\n",
        "            shape = comm.recv(source = rank-1)\n",
        "            data = np.empty(shape, dtype = 'uint8')\n",
        "            comm.Recv(data, source = rank-1)\n",
        "\n",
        "        img_block = np.roll(img_block, 1, axis=0)\n",
        "        img_block[0] = data.copy()\n",
        "        block_to_transfer = img_block.copy()\n",
        "\n",
        "        shifted_image = comm.gather(block_to_transfer, root=0)\n",
        "        \n",
        "        if rank == 0:\n",
        "            shifted_image = np.concatenate(shifted_image, axis=0)\n",
        "            plt.axis('off')\n",
        "            plt.imshow(shifted_image)\n",
        "            camera.snap()\n",
        "memory = tracemalloc.get_traced_memory()[1]\n",
        "memory = comm.reduce(memory)\n",
        "tracemalloc.stop()\n",
        "\n",
        "if rank == 0:\n",
        "    animation = camera.animate()\n",
        "    animation.save(f'shift.gif', writer = 'pillow', fps=20)\n",
        "\n",
        "\n",
        "end = MPI.Wtime()\n",
        "\n",
        "if rank==0:\n",
        "    print(end-start)\n",
        "    print(memory)"
      ],
      "id": "vd-mMGjLD0Jx",
      "execution_count": 78,
      "outputs": [
        {
          "output_type": "stream",
          "name": "stdout",
          "text": [
            "Overwriting test.py\n"
          ]
        }
      ]
    },
    {
      "cell_type": "code",
      "metadata": {
        "colab": {
          "base_uri": "https://localhost:8080/"
        },
        "id": "wIPwWVrAQrB7",
        "outputId": "269d36a9-19cd-47ef-df01-8a7b1db90120"
      },
      "source": [
        "!mpirun --allow-run-as-root -n 1 python test.py"
      ],
      "id": "wIPwWVrAQrB7",
      "execution_count": 79,
      "outputs": [
        {
          "output_type": "stream",
          "name": "stdout",
          "text": [
            "363.1955916670013\n",
            "192216307\n"
          ]
        }
      ]
    },
    {
      "cell_type": "code",
      "metadata": {
        "colab": {
          "base_uri": "https://localhost:8080/"
        },
        "id": "vr19gySeQyKh",
        "outputId": "db6dadc8-4624-4279-d117-0649a816c30a"
      },
      "source": [
        "!mpirun --allow-run-as-root -n 2 python test.py"
      ],
      "id": "vr19gySeQyKh",
      "execution_count": 80,
      "outputs": [
        {
          "output_type": "stream",
          "name": "stdout",
          "text": [
            "369.54654004500117\n",
            "194165666\n"
          ]
        }
      ]
    },
    {
      "cell_type": "code",
      "metadata": {
        "colab": {
          "base_uri": "https://localhost:8080/"
        },
        "id": "jX5ChLm1QA_c",
        "outputId": "5dedec77-5e26-49cf-8458-c9b5c90156fe"
      },
      "source": [
        "!mpirun --allow-run-as-root -n 3 python test.py"
      ],
      "id": "jX5ChLm1QA_c",
      "execution_count": 81,
      "outputs": [
        {
          "output_type": "stream",
          "name": "stdout",
          "text": [
            "388.7012741109975\n",
            "194304791\n"
          ]
        }
      ]
    },
    {
      "cell_type": "code",
      "metadata": {
        "colab": {
          "base_uri": "https://localhost:8080/"
        },
        "id": "DvDoT2p8QzAp",
        "outputId": "b88a2e0e-1265-4625-f79d-3b9e42f7b2df"
      },
      "source": [
        "!mpirun --allow-run-as-root -n 4 python test.py"
      ],
      "id": "DvDoT2p8QzAp",
      "execution_count": 82,
      "outputs": [
        {
          "output_type": "stream",
          "name": "stdout",
          "text": [
            "429.0630625070007\n",
            "194379168\n"
          ]
        }
      ]
    },
    {
      "cell_type": "code",
      "metadata": {
        "colab": {
          "base_uri": "https://localhost:8080/"
        },
        "id": "BTlZ42S7QzwS",
        "outputId": "091300bf-22e3-416c-df53-7aad3e48c477"
      },
      "source": [
        "!mpirun --allow-run-as-root -n 5 python test.py"
      ],
      "id": "BTlZ42S7QzwS",
      "execution_count": 83,
      "outputs": [
        {
          "output_type": "stream",
          "name": "stdout",
          "text": [
            "418.4339320029976\n",
            "194427746\n"
          ]
        }
      ]
    },
    {
      "cell_type": "code",
      "metadata": {
        "colab": {
          "base_uri": "https://localhost:8080/"
        },
        "id": "i2ElztkNQ0iq",
        "outputId": "6bcd12b5-f129-4e1e-c370-2243c59eb1e9"
      },
      "source": [
        "!mpirun --allow-run-as-root -n 6 python test.py"
      ],
      "id": "i2ElztkNQ0iq",
      "execution_count": 84,
      "outputs": [
        {
          "output_type": "stream",
          "name": "stdout",
          "text": [
            "465.95593326000017\n",
            "194463130\n"
          ]
        }
      ]
    },
    {
      "cell_type": "code",
      "metadata": {
        "colab": {
          "base_uri": "https://localhost:8080/"
        },
        "id": "dFVMb3HyQ0ot",
        "outputId": "837973a7-7172-4d3c-aa25-f31850fd3bc9"
      },
      "source": [
        "!mpirun --allow-run-as-root -n 7 python test.py"
      ],
      "id": "dFVMb3HyQ0ot",
      "execution_count": 85,
      "outputs": [
        {
          "output_type": "stream",
          "name": "stdout",
          "text": [
            "452.3525503160017\n",
            "192908971\n"
          ]
        }
      ]
    },
    {
      "cell_type": "code",
      "metadata": {
        "colab": {
          "base_uri": "https://localhost:8080/"
        },
        "id": "9BEFxJqwQ2OH",
        "outputId": "ed457d33-0030-4d29-fa34-29be74b21f7b"
      },
      "source": [
        "!mpirun --allow-run-as-root -n 8 python test.py"
      ],
      "id": "9BEFxJqwQ2OH",
      "execution_count": 86,
      "outputs": [
        {
          "output_type": "stream",
          "name": "stdout",
          "text": [
            "450.3138797920001\n",
            "194514704\n"
          ]
        }
      ]
    },
    {
      "cell_type": "code",
      "metadata": {
        "colab": {
          "base_uri": "https://localhost:8080/"
        },
        "id": "BfUuMNQ-Q3D4",
        "outputId": "9d190788-b1d9-4f39-9d13-f40050ffdaf8"
      },
      "source": [
        "!mpirun --allow-run-as-root -n 9 python test.py"
      ],
      "id": "BfUuMNQ-Q3D4",
      "execution_count": 87,
      "outputs": [
        {
          "output_type": "stream",
          "name": "stdout",
          "text": [
            "482.98960162300136\n",
            "194535194\n"
          ]
        }
      ]
    },
    {
      "cell_type": "code",
      "metadata": {
        "colab": {
          "base_uri": "https://localhost:8080/"
        },
        "id": "_jn7gT_nQ30B",
        "outputId": "277ff22d-890b-43ab-dfc8-cb0d6e384154"
      },
      "source": [
        "!mpirun --allow-run-as-root -n 10 python test.py"
      ],
      "id": "_jn7gT_nQ30B",
      "execution_count": 88,
      "outputs": [
        {
          "output_type": "stream",
          "name": "stdout",
          "text": [
            "422.80538226799763\n",
            "194553167\n"
          ]
        }
      ]
    },
    {
      "cell_type": "code",
      "metadata": {
        "id": "CcUgjCLUQIqS",
        "colab": {
          "base_uri": "https://localhost:8080/",
          "height": 312
        },
        "outputId": "4db37365-d17f-4174-ba03-719ceb97f851"
      },
      "source": [
        "speedup = np.array([363.1955916670013,\n",
        "                    369.54654004500117,\n",
        "                    388.7012741109975,\n",
        "                    429.0630625070007,\n",
        "                    418.4339320029976,\n",
        "                    465.95593326000017,\n",
        "                    452.3525503160017,\n",
        "                    450.3138797920001,\n",
        "                    482.98960162300136,\n",
        "                    422.80538226799763])\n",
        "speedup = speedup[0] / speedup\n",
        "plt.figure(figsize=(10,4))\n",
        "plt.title('Speedup vs number of processes')\n",
        "plt.plot(np.arange(1,11), speedup)\n",
        "plt.xlabel('# processes')\n",
        "plt.ylabel('Speedup')"
      ],
      "id": "CcUgjCLUQIqS",
      "execution_count": 89,
      "outputs": [
        {
          "output_type": "execute_result",
          "data": {
            "text/plain": [
              "Text(0, 0.5, 'Speedup')"
            ]
          },
          "metadata": {},
          "execution_count": 89
        },
        {
          "output_type": "display_data",
          "data": {
            "image/png": "[encoded data removed]",
            "text/plain": [
              "<Figure size 720x288 with 1 Axes>"
            ]
          },
          "metadata": {
            "needs_background": "light"
          }
        }
      ]
    },
    {
      "cell_type": "code",
      "metadata": {
        "colab": {
          "base_uri": "https://localhost:8080/",
          "height": 312
        },
        "id": "tB-0rGtC0yCL",
        "outputId": "79a5176d-1bc5-48b0-d58c-58aff35f5408"
      },
      "source": [
        "memory = np.array([192216307,\n",
        "                    194165666,\n",
        "                    194304791,\n",
        "                    194379168,\n",
        "                    194427746,\n",
        "                    194463130,\n",
        "                    192908971,\n",
        "                    194514704,\n",
        "                    194535194,\n",
        "                    194553167])\n",
        "plt.figure(figsize=(10,4))\n",
        "plt.title('Memory consumption vs number of processors')\n",
        "plt.plot(np.arange(1,11), memory)\n",
        "plt.xlabel('# processors')\n",
        "plt.ylabel('Memory consumption, bytes')"
      ],
      "id": "tB-0rGtC0yCL",
      "execution_count": 90,
      "outputs": [
        {
          "output_type": "execute_result",
          "data": {
            "text/plain": [
              "Text(0, 0.5, 'Memory consumption, bytes')"
            ]
          },
          "metadata": {},
          "execution_count": 90
        },
        {
          "output_type": "display_data",
          "data": {
            "image/png": "[encoded data removed]",
            "text/plain": [
              "<Figure size 720x288 with 1 Axes>"
            ]
          },
          "metadata": {
            "needs_background": "light"
          }
        }
      ]
    }
  ]
}